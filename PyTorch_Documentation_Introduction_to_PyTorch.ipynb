{
  "nbformat": 4,
  "nbformat_minor": 0,
  "metadata": {
    "colab": {
      "provenance": [],
      "authorship_tag": "ABX9TyPj0REAZCP2KEUqu4J0ROqq",
      "include_colab_link": true
    },
    "kernelspec": {
      "name": "python3",
      "display_name": "Python 3"
    },
    "language_info": {
      "name": "python"
    }
  },
  "cells": [
    {
      "cell_type": "markdown",
      "metadata": {
        "id": "view-in-github",
        "colab_type": "text"
      },
      "source": [
        "<a href=\"https://colab.research.google.com/github/BedinEduardo/Colab_Repositories/blob/master/PyTorch_Documentation_Introduction_to_PyTorch.ipynb\" target=\"_parent\"><img src=\"https://colab.research.google.com/assets/colab-badge.svg\" alt=\"Open In Colab\"/></a>"
      ]
    },
    {
      "cell_type": "markdown",
      "source": [
        "# Introduction to PyTorch - YouTube Series\n",
        "\n",
        "## Running the Tutorial Code\n",
        "\n",
        "* **On the Cloud**:\n",
        "* **Locally**:\n",
        "\n",
        "## Introduction to PyTorch\n",
        "\n",
        "Follow along with the video below or on [YouTube](https://www.youtube.com/watch?v=IC0_FRiX-sw)\n",
        "\n",
        "* What is **PyTorch**: An open source machine learning framework that accelerates the path from research prototyping to production deployment.\n",
        "* **Machine Learning Framework**:\n",
        "  * DL primitives, NN layers types, activation and loss functions, optimizers\n",
        "  * **Research Prototyping**:\n",
        "    * Models are Python code, Autograd and \"eager mode\" for dynamic model architectures\n",
        "  * **Product Deployment**:\n",
        "    * TorchScript, TorchServe, quantization\n",
        "  * **Open Source**\n",
        "\n",
        "### Tensors\n",
        "\n",
        "### Autograd\n",
        "\n",
        "**Automatic Differentiation Engine**: Computation as a *graph buiilt at run time*\n",
        "\n",
        "Gradient w.r.t the input Tensors is computed step-by-step from **loss** to top reverse.\n",
        "\n",
        "### Building Models in PyTorch\n",
        "\n",
        "### Datasets and DataLoaders\n",
        "\n",
        "Datasets get the data, standard or own dataset, and DataLoader is an 'organizer' of the data.\n",
        "\n",
        "### Training Your PyTorch Model\n",
        "\n",
        "### Deployment With TorchScript\n",
        "\n",
        "Connect to a system to connect the model to the world.\n",
        "\n",
        "**TorchScript**: A static, High-Performance subset of Python\n",
        "1. Prototype your model with PyTorch\n",
        "2. Control flow is preserved\n",
        "3. First-class support for lists, dicts, etc.\n",
        "\n",
        "**PyTorch JIT**: An optmizing just-in-time compiler for PyTorch programs\n",
        "1. Lightweight, thread-safe interpreter\n",
        "2. Easy to write custom transformations\n",
        "3. Not just for inference! Autodiff support.\n",
        "\n",
        "\n"
      ],
      "metadata": {
        "id": "0jL4SYzlJsDV"
      }
    },
    {
      "cell_type": "markdown",
      "source": [
        "## PyTorch Tensors"
      ],
      "metadata": {
        "id": "dGGax2osZU3k"
      }
    },
    {
      "cell_type": "code",
      "source": [
        "import torch"
      ],
      "metadata": {
        "id": "Xi4zzLDtZYLf"
      },
      "execution_count": null,
      "outputs": []
    },
    {
      "cell_type": "markdown",
      "source": [
        "Let's see a few basic tensor multiplications. First, just a few of the ways to build tensors"
      ],
      "metadata": {
        "id": "qH4JWMSaZZ7a"
      }
    },
    {
      "cell_type": "code",
      "source": [
        "z = torch.zeros(5,3)\n",
        "print(z)\n",
        "print(z.dtype)"
      ],
      "metadata": {
        "id": "QDIkiKbpZjig",
        "colab": {
          "base_uri": "https://localhost:8080/"
        },
        "outputId": "edb8f7a9-31ee-4425-c0ef-1abcd89241f2"
      },
      "execution_count": null,
      "outputs": [
        {
          "output_type": "stream",
          "name": "stdout",
          "text": [
            "tensor([[0., 0., 0.],\n",
            "        [0., 0., 0.],\n",
            "        [0., 0., 0.],\n",
            "        [0., 0., 0.],\n",
            "        [0., 0., 0.]])\n",
            "torch.float32\n"
          ]
        }
      ]
    },
    {
      "cell_type": "markdown",
      "source": [
        "The defualt of PyTorhc is build a 32-bit floating point numbers"
      ],
      "metadata": {
        "id": "wNd7l3LpZsqP"
      }
    },
    {
      "cell_type": "code",
      "source": [
        "i = torch.ones((5,3), dtype=torch.int16)\n",
        "print(i)"
      ],
      "metadata": {
        "id": "V5CLtsgAZ0qm",
        "colab": {
          "base_uri": "https://localhost:8080/"
        },
        "outputId": "b95cb792-f9e3-4022-b8e8-092acb8d9bd0"
      },
      "execution_count": null,
      "outputs": [
        {
          "output_type": "stream",
          "name": "stdout",
          "text": [
            "tensor([[1, 1, 1],\n",
            "        [1, 1, 1],\n",
            "        [1, 1, 1],\n",
            "        [1, 1, 1],\n",
            "        [1, 1, 1]], dtype=torch.int16)\n"
          ]
        }
      ]
    },
    {
      "cell_type": "markdown",
      "source": [
        "It is common to initialize learning weights randomly, often with a specific seed fot the PRNG for reproducibility of results."
      ],
      "metadata": {
        "id": "9qFUknn_aAFM"
      }
    },
    {
      "cell_type": "code",
      "source": [
        "torch.manual_seed(1311)\n",
        "r1 = torch.rand(2,2)\n",
        "print(\"Random tensor \\n\")\n",
        "print(r1)"
      ],
      "metadata": {
        "id": "dnQMokssaPWq",
        "colab": {
          "base_uri": "https://localhost:8080/"
        },
        "outputId": "bb0c458c-4a47-49fb-8450-22deb2ccde73"
      },
      "execution_count": null,
      "outputs": [
        {
          "output_type": "stream",
          "name": "stdout",
          "text": [
            "Random tensor \n",
            "\n",
            "tensor([[0.3833, 0.0483],\n",
            "        [0.3644, 0.8854]])\n"
          ]
        }
      ]
    },
    {
      "cell_type": "code",
      "source": [
        "r2 = torch.rand(2,2)\n",
        "\n",
        "print(r2)"
      ],
      "metadata": {
        "id": "EsN10whsablh",
        "colab": {
          "base_uri": "https://localhost:8080/"
        },
        "outputId": "f5423455-0fbd-4543-c7c6-98746974c359"
      },
      "execution_count": null,
      "outputs": [
        {
          "output_type": "stream",
          "name": "stdout",
          "text": [
            "tensor([[0.0847, 0.5025],\n",
            "        [0.7393, 0.8959]])\n"
          ]
        }
      ]
    },
    {
      "cell_type": "code",
      "source": [
        "torch.manual_seed(1311)\n",
        "r3 = torch.rand(2,2)\n",
        "\n",
        "print(r3)"
      ],
      "metadata": {
        "id": "CrgB-lEQaj2v",
        "colab": {
          "base_uri": "https://localhost:8080/"
        },
        "outputId": "6d1bda84-c7fb-4b83-cbb7-ca629d716d1f"
      },
      "execution_count": null,
      "outputs": [
        {
          "output_type": "stream",
          "name": "stdout",
          "text": [
            "tensor([[0.3833, 0.0483],\n",
            "        [0.3644, 0.8854]])\n"
          ]
        }
      ]
    },
    {
      "cell_type": "markdown",
      "source": [
        "PyTorch tensors perform arithmetic operations intuitively. Tensors of similar shapes may be added, multiplied, etc. Operations with scalars are distributed over the tensor:"
      ],
      "metadata": {
        "id": "jWIdzdTLarE-"
      }
    },
    {
      "cell_type": "code",
      "source": [
        "ones = torch.ones(2,3)\n",
        "print(ones)"
      ],
      "metadata": {
        "id": "gEPKqSoYbHzb",
        "colab": {
          "base_uri": "https://localhost:8080/"
        },
        "outputId": "812f0563-c930-4eb8-a258-4f3819b8f24a"
      },
      "execution_count": null,
      "outputs": [
        {
          "output_type": "stream",
          "name": "stdout",
          "text": [
            "tensor([[1., 1., 1.],\n",
            "        [1., 1., 1.]])\n"
          ]
        }
      ]
    },
    {
      "cell_type": "code",
      "source": [
        "twos = torch.ones(2,3)\n",
        "print(twos)"
      ],
      "metadata": {
        "id": "NuHXMQL0bMTK",
        "colab": {
          "base_uri": "https://localhost:8080/"
        },
        "outputId": "e16f78b5-da69-4e3b-b2d4-cdda7416484b"
      },
      "execution_count": null,
      "outputs": [
        {
          "output_type": "stream",
          "name": "stdout",
          "text": [
            "tensor([[1., 1., 1.],\n",
            "        [1., 1., 1.]])\n"
          ]
        }
      ]
    },
    {
      "cell_type": "code",
      "source": [
        "threes = ones + twos\n",
        "print(threes)\n",
        "print(threes.shape)"
      ],
      "metadata": {
        "id": "MZSbmY5RbSKS",
        "colab": {
          "base_uri": "https://localhost:8080/"
        },
        "outputId": "df90534a-e673-4401-f698-9ef8c2c382f4"
      },
      "execution_count": null,
      "outputs": [
        {
          "output_type": "stream",
          "name": "stdout",
          "text": [
            "tensor([[2., 2., 2.],\n",
            "        [2., 2., 2.]])\n",
            "torch.Size([2, 3])\n"
          ]
        }
      ]
    },
    {
      "cell_type": "code",
      "source": [
        "r1 = torch.rand(2,3)\n",
        "r2 = torch.rand(3,2)\n",
        "\n",
        "r3 = r1 + r2.T\n",
        "print(r3)"
      ],
      "metadata": {
        "id": "b6YPXgePbatx",
        "colab": {
          "base_uri": "https://localhost:8080/"
        },
        "outputId": "6bfdd8e7-1d9a-4efc-fb06-f3b0b82dab42"
      },
      "execution_count": null,
      "outputs": [
        {
          "output_type": "stream",
          "name": "stdout",
          "text": [
            "tensor([[0.3563, 1.1770, 1.7332],\n",
            "        [1.7644, 1.3273, 0.5693]])\n"
          ]
        }
      ]
    },
    {
      "cell_type": "markdown",
      "source": [
        "Here is a small smaple of the mathematical operations available:"
      ],
      "metadata": {
        "id": "de3yMr6TbpqX"
      }
    },
    {
      "cell_type": "code",
      "source": [
        "r = (torch.rand(2,2)-0.5)*2\n",
        "print(r)"
      ],
      "metadata": {
        "id": "jTZEZkRKb2Rm",
        "colab": {
          "base_uri": "https://localhost:8080/"
        },
        "outputId": "167cb3f2-6c90-4e41-d898-a71da3cfde83"
      },
      "execution_count": null,
      "outputs": [
        {
          "output_type": "stream",
          "name": "stdout",
          "text": [
            "tensor([[ 0.0315, -0.3269],\n",
            "        [ 0.2884, -0.0202]])\n"
          ]
        }
      ]
    },
    {
      "cell_type": "code",
      "source": [
        "print(\"\\n Absolute value of r:\")\n",
        "print(torch.abs(r))   #turn all values in positive values"
      ],
      "metadata": {
        "id": "7hHVhClwbXd5",
        "colab": {
          "base_uri": "https://localhost:8080/"
        },
        "outputId": "3732af66-05cc-4dc5-99c2-1f25acad3a3b"
      },
      "execution_count": null,
      "outputs": [
        {
          "output_type": "stream",
          "name": "stdout",
          "text": [
            "\n",
            " Absolute value of r:\n",
            "tensor([[0.0315, 0.3269],\n",
            "        [0.2884, 0.0202]])\n"
          ]
        }
      ]
    },
    {
      "cell_type": "code",
      "source": [
        "# trigonometric functions\n",
        "print(\"\\n Inverse sine of r: \")\n",
        "print(torch.asin(r))"
      ],
      "metadata": {
        "id": "LjWWKNSrcLVk",
        "colab": {
          "base_uri": "https://localhost:8080/"
        },
        "outputId": "a2e9b5df-3ff9-4e96-d30f-6f72cf51e076"
      },
      "execution_count": null,
      "outputs": [
        {
          "output_type": "stream",
          "name": "stdout",
          "text": [
            "\n",
            " Inverse sine of r: \n",
            "tensor([[ 0.0315, -0.3330],\n",
            "        [ 0.2925, -0.0202]])\n"
          ]
        }
      ]
    },
    {
      "cell_type": "code",
      "source": [
        "# ... and linear algebra operations like determinant and singular value decomposition\n",
        "print('\\nDeterminant of r: ')\n",
        "print(torch.det(r))\n",
        "print(\"\\nSingular value decomposition of r: \")\n",
        "print(torch.svd(r))\n"
      ],
      "metadata": {
        "id": "6xffQ_OBhq0K",
        "colab": {
          "base_uri": "https://localhost:8080/"
        },
        "outputId": "862f6de1-c215-44d4-a1d1-af42f1c0fdf4"
      },
      "execution_count": null,
      "outputs": [
        {
          "output_type": "stream",
          "name": "stdout",
          "text": [
            "\n",
            "Determinant of r: \n",
            "tensor(0.0936)\n",
            "\n",
            "Singular value decomposition of r: \n",
            "torch.return_types.svd(\n",
            "U=tensor([[-0.8978, -0.4403],\n",
            "        [-0.4403,  0.8978]]),\n",
            "S=tensor([0.3399, 0.2754]),\n",
            "V=tensor([[-0.4566,  0.8897],\n",
            "        [ 0.8897,  0.4566]]))\n"
          ]
        }
      ]
    },
    {
      "cell_type": "code",
      "source": [
        "# ... and statistical and aggregate operations\n",
        "print(\"\\n Average and standard deviation of r\")\n",
        "print(torch.std_mean(r))\n",
        "print(\"\\nMaximum value of r: \")\n",
        "print(torch.max(r))"
      ],
      "metadata": {
        "id": "RV8IhO19iD4X",
        "colab": {
          "base_uri": "https://localhost:8080/"
        },
        "outputId": "22455559-93ab-4fc1-95fc-6310dda365b5"
      },
      "execution_count": null,
      "outputs": [
        {
          "output_type": "stream",
          "name": "stdout",
          "text": [
            "\n",
            " Average and standard deviation of r\n",
            "(tensor(0.2525), tensor(-0.0068))\n",
            "\n",
            "Maximum value of r: \n",
            "tensor(0.2884)\n"
          ]
        }
      ]
    },
    {
      "cell_type": "markdown",
      "source": [
        "## PyTorch Models"
      ],
      "metadata": {
        "id": "pBEVD0VpjPah"
      }
    },
    {
      "cell_type": "code",
      "source": [
        "import torch  # for all things in PyTorch\n",
        "import torch.nn as nn    # For torch.nn.Module, the parent object for PyTorch models\n",
        "import torch.nn.functional as F\n"
      ],
      "metadata": {
        "id": "tshNGgp9jVAR"
      },
      "execution_count": null,
      "outputs": []
    },
    {
      "cell_type": "markdown",
      "source": [
        "![LeNet.png](https://pytorch.org/tutorials/_images/mnist.png)\n",
        "\n",
        "Here is the abridged version of how ot works:\n",
        "\n",
        "* Layer C1 is a convolutional Layer, meaning that it scans the input for features it learned during training. It outputs a map of where it saw each of its learned features in the image. This \"activation map\" is downsampled in layer S2.\n",
        "* Layer C3 is another Convolutional layers, this time scanning C1's activation map for combinations of features. It also puts out in activation map describing the spatial locations of these features combinations, which is downsampled in layere S4.\n",
        "* Finally, the fully-connected layers at the end, F5, F6, and OUTPUT, are a classifier that takes the final activation map, and classifies it into one of ten bins representing 10 digits.\n",
        "\n",
        "How to express thrugh code this simple NN?"
      ],
      "metadata": {
        "id": "bm2zItlHj97G"
      }
    },
    {
      "cell_type": "code",
      "source": [
        "class LeNet(nn.Module):\n",
        "  def __init__(self):\n",
        "    super(LeNet,self).__init__()\n",
        "    # 1 input image channel - brack and white - 6 output channel, 5x5 square convolution kernel\n",
        "    self.conv1 = nn.Conv2d(1,6,5)\n",
        "    self.conv2 = nn.Conv2d(6,16,5)\n",
        "    # an afine operation: y = Wx + b\n",
        "    self.fc1 = nn.Linear(16 * 5 * 5, 120)  # 5*5 form image dimension\n",
        "    self.fc2 = nn.Linear(120,84)\n",
        "    self.fc3 = nn.Linear(84,10)\n",
        "\n",
        "  def forward(self, x):\n",
        "    # Max pooling over a (2,2) windown\n",
        "    x = F.max_pool2d(F.relu(self.conv1(x)), (2,2))  #if the size is a square you can only specify a single number\n",
        "    x = F.max_pool2d(F.relu(self.conv2(x)), 2)\n",
        "    x = x.view(-1, self.num_flat_features(x))\n",
        "    x = F.relu(self.fc1(x))\n",
        "    x = F.relu(self.fc2(x))\n",
        "    x = self.fc3(x)\n",
        "\n",
        "    return x\n",
        "\n",
        "  def num_flat_features(self, x):\n",
        "    size = x.size()[1:]  # all dimensions except the batch dimension\n",
        "    num_features = 1\n",
        "    for s in size:\n",
        "      num_features *= s\n",
        "\n",
        "    return num_features"
      ],
      "metadata": {
        "id": "e7N5ybAYnKSm"
      },
      "execution_count": null,
      "outputs": []
    },
    {
      "cell_type": "markdown",
      "source": [
        "Looking over this code, you should be able to spot some structural similarities with the diagram above.\n",
        "\n",
        "This demostrate the structure of a typical PyTorch model:\n",
        "\n",
        "* It inherits from `torch.nn.Module` - modules may be nested - in fact, even the `Conv2d` and `Linear` layer classes inherit from `torch.nn.Module`.\n",
        "* A model will have an `__init__()` function, where it instantiates its layers, and loads any data artifacts it might need\n",
        "* A model will have `forward()` function. This is where the actual computation happens: An input is passed through the network layer and various functions to generate an output.\n",
        "* Other than that, you can build out your model class like any other Python class,  adding whatever properties and methods you need to support your's models computation.\n",
        "\n",
        "Lets instantiate this object and run a sample input through it.\n"
      ],
      "metadata": {
        "id": "1FZzGSHswju7"
      }
    },
    {
      "cell_type": "code",
      "source": [
        "net = LeNet()\n",
        "\n",
        "print(net)"
      ],
      "metadata": {
        "id": "t_Cj6hUsyTml",
        "colab": {
          "base_uri": "https://localhost:8080/"
        },
        "outputId": "74066c4c-6154-431f-b85a-86cd16adf059"
      },
      "execution_count": null,
      "outputs": [
        {
          "output_type": "stream",
          "name": "stdout",
          "text": [
            "LeNet(\n",
            "  (conv1): Conv2d(1, 6, kernel_size=(5, 5), stride=(1, 1))\n",
            "  (conv2): Conv2d(6, 16, kernel_size=(5, 5), stride=(1, 1))\n",
            "  (fc1): Linear(in_features=400, out_features=120, bias=True)\n",
            "  (fc2): Linear(in_features=120, out_features=84, bias=True)\n",
            "  (fc3): Linear(in_features=84, out_features=10, bias=True)\n",
            ")\n"
          ]
        }
      ]
    },
    {
      "cell_type": "code",
      "source": [
        "input = torch.rand(1,1,32,32)\n",
        "print(\"\\nImage batch shape: \")\n",
        "print(input.shape)"
      ],
      "metadata": {
        "id": "cF1ABJ2qy4rJ",
        "colab": {
          "base_uri": "https://localhost:8080/"
        },
        "outputId": "0a188b26-ccbf-4141-965e-7505a6794502"
      },
      "execution_count": null,
      "outputs": [
        {
          "output_type": "stream",
          "name": "stdout",
          "text": [
            "\n",
            "Image batch shape: \n",
            "torch.Size([1, 1, 32, 32])\n"
          ]
        }
      ]
    },
    {
      "cell_type": "code",
      "source": [
        "output = net(input)\n",
        "print(\"\\nRaw output\")\n",
        "print(output)\n",
        "print(output.shape)"
      ],
      "metadata": {
        "id": "51oCoGihzoFg",
        "colab": {
          "base_uri": "https://localhost:8080/"
        },
        "outputId": "ed044aec-36a3-4cab-b93b-0eab885eb1a4"
      },
      "execution_count": null,
      "outputs": [
        {
          "output_type": "stream",
          "name": "stdout",
          "text": [
            "\n",
            "Raw output\n",
            "tensor([[-0.0215, -0.0488, -0.0732, -0.0536,  0.0191,  0.0488,  0.0884,  0.0356,\n",
            "          0.0182,  0.1429]], grad_fn=<AddmmBackward0>)\n",
            "torch.Size([1, 10])\n"
          ]
        }
      ]
    },
    {
      "cell_type": "markdown",
      "source": [
        "1. Instantiate `LeNet` class, -> print the `net`. Subclass of `torch.nn.Module` will report the layers it has builded and their shapes and parameters. - Overview of the model.\n",
        "\n",
        "2. Build a dummy imput of 32x32 image with 1 channel color. Load the image and convert it to a tensor.\n",
        "\n",
        "3. *batch_dimension* - PyTorch Models assume they are working on *batches* of data - for examples, a batch of 16 of our image tiles would have a shape `(16,1,32,32).\n",
        "\n",
        "4. Calling the function `net(input)`. Models confidence. Looking the `output`, can see that it also has a batch dimension, the size of which should alwayes match the input batch dimension."
      ],
      "metadata": {
        "id": "GXMNAMX50ku2"
      }
    },
    {
      "cell_type": "markdown",
      "source": [
        "## Datasets and DataLoaders\n",
        "\n",
        "We are going to demostrate using one of the ready-to-download, open-access datasets from TorchVision, how to transform the images for consuption by your model, and how to use the DataLoader to feed batches of data toy your model."
      ],
      "metadata": {
        "id": "r2fmQ0Xt2Qy_"
      }
    },
    {
      "cell_type": "code",
      "source": [
        "# transform the incoming image into a tensor\n",
        "import torch\n",
        "import torchvision\n",
        "import torchvision.transforms as transforms\n",
        "\n",
        "transform = transforms.Compose(\n",
        "    [transforms.ToTensor(), # tensor transformation\n",
        "     transforms.Normalize((0.4914, 0.4822, 0.4465), (0.2470, 0.2435, 0.2616))]  # Check this values where they come from\n",
        ")"
      ],
      "metadata": {
        "id": "iCBmROlZ3KGn"
      },
      "execution_count": null,
      "outputs": []
    },
    {
      "cell_type": "markdown",
      "source": [
        "* `transforms.ToTensor()` converts images loaded by Pillow into PyTorch Tensors\n",
        "* `transforms.Normalize()` adjust the values of the tensor so that their average is zero and their standard deviation is 1.0. Most activation function have their strongest gradient descent around x=0 - speed learning. The values passed to the transform are the means (1st tuple) and the standard deviation (2nd touple) of the RGB values of the image in the dataset.\n",
        "\n",
        "Now build an instance of the CIFAR10 dataset - this is a set of 32x32 color image tiles representing 10 classes of objects."
      ],
      "metadata": {
        "id": "Y8ULHoCx4G2T"
      }
    },
    {
      "cell_type": "code",
      "source": [
        "train_set = torchvision.datasets.CIFAR10(root='./data',\n",
        "                                         train=True,\n",
        "                                         download=True,\n",
        "                                         transform=transform)"
      ],
      "metadata": {
        "id": "t8z3mDyn49Rv",
        "colab": {
          "base_uri": "https://localhost:8080/"
        },
        "outputId": "dc926b0c-f675-44ab-c8c7-5fa1b1bd61fc"
      },
      "execution_count": null,
      "outputs": [
        {
          "output_type": "stream",
          "name": "stderr",
          "text": [
            "100%|██████████| 170M/170M [00:03<00:00, 42.9MB/s]\n"
          ]
        }
      ]
    },
    {
      "cell_type": "markdown",
      "source": [
        "Donwloadable datasets are subclasses od `torch.utils.data.Dataset`. `Dataset` classes in PyTorch include the downloaded datasets, Video, audio, and text. As weel as utility dataaset classes such as `torchvision.datasets.ImageFolder`, which will read a folder of labeled images. You can also build your own subclasses of `Dataset`.\n",
        "\n",
        "When we instantiate our dataset:\n",
        "* The filesystem path to where we want the data to do.\n",
        "* Whether or not we are using this set for training: most datasets will be split into training and test subsets.\n",
        "* Wheter we would like to download the dataset if we have not already.\n",
        "* The transformations we want to apply to the data.\n",
        "\n"
      ],
      "metadata": {
        "id": "qlI7F1-l-u73"
      }
    },
    {
      "cell_type": "code",
      "source": [
        "traindataloader = torch.utils.data.DataLoader(train_set, batch_size=4, shuffle=True, num_workers=2)"
      ],
      "metadata": {
        "id": "EVJVKKtCAfhS"
      },
      "execution_count": null,
      "outputs": []
    },
    {
      "cell_type": "markdown",
      "source": [
        "The `DataLoader` knows *nothing** about the data, but organizes the input tensors served by the `Dataset` into batches with the parameters that you specify.\n",
        "\n",
        "`shufle=True` - randomize the data order"
      ],
      "metadata": {
        "id": "sv9OhG75ArHp"
      }
    },
    {
      "cell_type": "code",
      "source": [
        "import matplotlib.pyplot as plt\n",
        "import numpy as np\n",
        "\n",
        "classes = ('plane', 'car', 'bird','cat','deer','dog','frog','horse','ship','truck')\n",
        "\n",
        "def imshow(img):\n",
        "  img = img / 2 + 0.5\n",
        "  npimg = img.numpy()\n",
        "  plt.imshow(np.transpose(npimg,(1,2,0)))"
      ],
      "metadata": {
        "id": "OvTv7vvsBj9w"
      },
      "execution_count": null,
      "outputs": []
    },
    {
      "cell_type": "code",
      "source": [
        "#get some random training images\n",
        "dataiter = iter(traindataloader)\n",
        "images, labels = next(dataiter)"
      ],
      "metadata": {
        "id": "OYL-0qyxCDVa"
      },
      "execution_count": null,
      "outputs": []
    },
    {
      "cell_type": "code",
      "source": [
        "#show images\n",
        "imshow(torchvision.utils.make_grid(images))\n",
        "#labels\n",
        "print(' '.join('%5s' % classes[labels[j]] for j in range(4)))"
      ],
      "metadata": {
        "id": "7OvIzFTQCMk3",
        "colab": {
          "base_uri": "https://localhost:8080/",
          "height": 228
        },
        "outputId": "c7ee9da0-a36f-4638-c0a2-23de09d46731"
      },
      "execution_count": null,
      "outputs": [
        {
          "output_type": "stream",
          "name": "stderr",
          "text": [
            "WARNING:matplotlib.image:Clipping input data to the valid range for imshow with RGB data ([0..1] for floats or [0..255] for integers). Got range [-0.45793372..1.5632443].\n"
          ]
        },
        {
          "output_type": "stream",
          "name": "stdout",
          "text": [
            "truck   cat horse plane\n"
          ]
        },
        {
          "output_type": "display_data",
          "data": {
            "text/plain": [
              "<Figure size 640x480 with 1 Axes>"
            ],
            "image/png": "[encoded data removed]"
          },
          "metadata": {}
        }
      ]
    },
    {
      "cell_type": "markdown",
      "source": [
        "## Training you PyTorch Model"
      ],
      "metadata": {
        "id": "-N4MLIy3hB5L"
      }
    },
    {
      "cell_type": "code",
      "source": [
        "import torch\n",
        "import torch.nn as nn\n",
        "import torch.nn.functional as F   # https://pytorch.org/docs/stable/nn.functional.html#torch-nn-functional\n",
        "import torch.optim as optim\n",
        "\n",
        "import torchvision\n",
        "import torchvision.transforms as transforms\n",
        "\n",
        "import matplotlib\n",
        "import matplotlib.pyplot as plt\n",
        "import numpy as np"
      ],
      "metadata": {
        "id": "t0NefRcJhKTF"
      },
      "execution_count": null,
      "outputs": []
    },
    {
      "cell_type": "markdown",
      "source": [
        "First it is needed to training test datasets. if you have not already, run the cell below to make sure the dataset is downloaded\n"
      ],
      "metadata": {
        "id": "rtd7DRWehqqP"
      }
    },
    {
      "cell_type": "code",
      "source": [
        "transform = transforms.Compose(\n",
        "    [transforms.ToTensor(),\n",
        "     transforms.Normalize((0.5,0.5,0.5),(0.5,0.5,0.5))]\n",
        ")\n",
        "\n",
        "trainset = torchvision.datasets.CIFAR10(root='./data', train=True,\n",
        "                                        download=True, transform=transform)\n",
        "\n",
        "traindataloader = torch.utils.data.DataLoader(trainset, batch_size=4,\n",
        "                                         shuffle=True, num_workers=2)\n",
        "\n",
        "testset = torchvision.datasets.CIFAR10(root='./data', train=False,\n",
        "                                       download=True, transform=transform)\n",
        "tesdataloader = torch.utils.data.DataLoader(testset, batch_size=4,\n",
        "                                            shuffle=False, num_workers=2)\n",
        "\n",
        "classes = ('plane','car','bird','cat','deer','dog','frog','horse','ship','truck')"
      ],
      "metadata": {
        "id": "yddHcXtah60C"
      },
      "execution_count": null,
      "outputs": []
    },
    {
      "cell_type": "markdown",
      "source": [
        "Check the output from `DataLoader`"
      ],
      "metadata": {
        "id": "Ub_NKlyPjg6u"
      }
    },
    {
      "cell_type": "code",
      "source": [
        "import matplotlib.pyplot as plt\n",
        "import numpy as np\n",
        "\n",
        "def imshow(img):\n",
        "  img = img / 2 + 0.5   # unnormalize\n",
        "  npimg = img.numpy()\n",
        "  plt.imshow(np.transpose(npimg, (1,2,0)))\n",
        "\n",
        "# get some random training imges\n",
        "dataiter = iter(traindataloader)\n",
        "images, labels = next(dataiter)\n",
        "\n",
        "# show images\n",
        "imshow(torchvision.utils.make_grid(images))\n",
        "# print labels\n",
        "print(' '.join('%5s' % classes[labels[j]] for j in range(4)))"
      ],
      "metadata": {
        "id": "JQRSljnuk-RM",
        "colab": {
          "base_uri": "https://localhost:8080/",
          "height": 210
        },
        "outputId": "e31329d8-eaf0-4f2e-fad4-9840cf8ad20f"
      },
      "execution_count": null,
      "outputs": [
        {
          "output_type": "stream",
          "name": "stdout",
          "text": [
            " deer  deer truck   dog\n"
          ]
        },
        {
          "output_type": "display_data",
          "data": {
            "text/plain": [
              "<Figure size 640x480 with 1 Axes>"
            ],
            "image/png": "[encoded data removed]"
          },
          "metadata": {}
        }
      ]
    },
    {
      "cell_type": "code",
      "source": [
        "# The model to train, it is a variant of LeNet - discussed earlier - adapted for 3-color images\n",
        "\n",
        "class Net(nn.Module):\n",
        "  def __init__(self):\n",
        "    super(Net, self).__init__()\n",
        "    self.conv1 = nn.Conv2d(3,6,5)  # nn.Conv2d(in_channels, out_channles, kernel_size, stride=1, padding=0, dilatation=1, groups=1, bias=True, padding_mode='zeros', device=None, dtype=None)\n",
        "    self.pool = nn.MaxPool2d(2,2)  # nn.MaxPool2d(kernel_size,stride=None,padding=0,dilation=1, return_indice=False, ceil_mode=False)  Applies a 2D maxpooling over an input signal composed of several input planes\n",
        "    self.conv2 = nn.Conv2d(6,16,5) # Applies a 2D convolution over an input signal composed of several inputn planes\n",
        "    self.fc1 = nn.Linear(16 * 5 *5, 120)  # Applies an affine linear transformation to the incoming data -- nn.Linear(in_features, out_features, bias=True, device=None, dtype=None)\n",
        "    self.fc2 = nn.Linear(120,84)\n",
        "    self.fc3 = nn.Linear(84,10)\n",
        "\n",
        "  def forward(self, x):\n",
        "    x = self.pool(F.relu(self.conv1(x)))  # get the conv1 -> execute the convolution, this output pass trough a ReLU activation, and the output of ReLU pass trough a MaxPool2d\n",
        "    x = self.pool(F.relu(self.conv2(x)))  # twice\n",
        "    x = x.view(-1,16*5*5)  #\n",
        "    x = F.relu(self.fc1(x))  # F.relu = functional - use ReLU activation\n",
        "    x = F.relu(self.fc2(x))\n",
        "    x = self.fc3(x)\n",
        "\n",
        "    return x\n",
        "\n",
        "\n"
      ],
      "metadata": {
        "id": "Z1UxTeU4mfDG"
      },
      "execution_count": null,
      "outputs": []
    },
    {
      "cell_type": "code",
      "source": [
        "net = Net()\n",
        "\n",
        "print(net)"
      ],
      "metadata": {
        "id": "2PmzCDKPqfEM",
        "colab": {
          "base_uri": "https://localhost:8080/"
        },
        "outputId": "9aecc077-0f8b-4aaa-beac-5779fff48ddb"
      },
      "execution_count": null,
      "outputs": [
        {
          "output_type": "stream",
          "name": "stdout",
          "text": [
            "Net(\n",
            "  (conv1): Conv2d(3, 6, kernel_size=(5, 5), stride=(1, 1))\n",
            "  (pool): MaxPool2d(kernel_size=2, stride=2, padding=0, dilation=1, ceil_mode=False)\n",
            "  (conv2): Conv2d(6, 16, kernel_size=(5, 5), stride=(1, 1))\n",
            "  (fc1): Linear(in_features=400, out_features=120, bias=True)\n",
            "  (fc2): Linear(in_features=120, out_features=84, bias=True)\n",
            "  (fc3): Linear(in_features=84, out_features=10, bias=True)\n",
            ")\n"
          ]
        }
      ]
    },
    {
      "cell_type": "markdown",
      "source": [
        "The las tingredients we need are a loss function and an optimizer"
      ],
      "metadata": {
        "id": "oWokF-UBtSsq"
      }
    },
    {
      "cell_type": "code",
      "source": [
        "loss_fn = nn.CrossEntropyLoss()\n",
        "optimizer = optim.SGD(net.parameters(), lr=0.001, momentum=0.9)"
      ],
      "metadata": {
        "id": "AmjkBCoe1m6s"
      },
      "execution_count": null,
      "outputs": []
    },
    {
      "cell_type": "markdown",
      "source": [
        "The loss function is a measure of how far from our ideal output the model's prediction was.\n",
        "Cros-entropy loss is a typical loss function for classification models.\n",
        "\n",
        "The **optimizer** is what drives the learning. SGD optmizer, `lr`"
      ],
      "metadata": {
        "id": "8LNwltWh2Ed1"
      }
    },
    {
      "cell_type": "code",
      "source": [
        "# Training loop\n",
        "\n",
        "for epoch in range(2):\n",
        "  running_loss = 0.0\n",
        "\n",
        "  for i, data in enumerate(traindataloader, 0):\n",
        "    # get the inputs\n",
        "    inputs, labels = data\n",
        "\n",
        "    # zero the parameter gradient\n",
        "    optimizer.zero_grad() # gradient acumulates over batches\n",
        "\n",
        "    # forward + backward + optimize\n",
        "    outputs = net(inputs)  # pass the data trhough the net\n",
        "    loss = loss_fn(outputs, labels)  # calculate the loss - get loss function\n",
        "    loss.backward()  # backpropagation\n",
        "    optimizer.step()  # adjust the optimizer\n",
        "\n",
        "    # print statistics\n",
        "    running_loss += loss.item()\n",
        "    if i % 2000 == 1999: # print every 2000 mini-batches\n",
        "      print('[%d, %5d] loss: %.3f' % (epoch + 1, i + 1, running_loss /2000))\n",
        "      running_loss = 0.0\n",
        "\n",
        "print('Finished Training')\n"
      ],
      "metadata": {
        "id": "t1yE9fl235AE",
        "colab": {
          "base_uri": "https://localhost:8080/"
        },
        "outputId": "58784491-6fd9-4fe2-f5f1-9363daa03218"
      },
      "execution_count": null,
      "outputs": [
        {
          "output_type": "stream",
          "name": "stdout",
          "text": [
            "[1,  2000] loss: 2.202\n",
            "[1,  4000] loss: 1.864\n",
            "[1,  6000] loss: 1.677\n",
            "[1,  8000] loss: 1.614\n",
            "[1, 10000] loss: 1.544\n",
            "[1, 12000] loss: 1.498\n",
            "[2,  2000] loss: 1.429\n",
            "[2,  4000] loss: 1.405\n",
            "[2,  6000] loss: 1.371\n",
            "[2,  8000] loss: 1.342\n",
            "[2, 10000] loss: 1.312\n",
            "[2, 12000] loss: 1.277\n",
            "Finished Training\n"
          ]
        }
      ]
    },
    {
      "cell_type": "code",
      "source": [
        "correct = 0\n",
        "total = 0\n",
        "\n",
        "with torch.no_grad():\n",
        "  for data in tesdataloader:  # get the test set\n",
        "    images, labels = data  #get image and labels\n",
        "    outputs = net(images)  #get the predicitons\n",
        "    _, predicted = torch.max(outputs.data, 1)  #get the predicted tensor\n",
        "    total += labels.size(0)\n",
        "    correct += (predicted == labels).sum().item()  #compare the predicted with the ground truth, sum it and itemize\n",
        "\n",
        "print('Accuracy on the 10000 test images: %d %%' % (100 * correct / total))"
      ],
      "metadata": {
        "id": "zC2_aVil6cV8",
        "colab": {
          "base_uri": "https://localhost:8080/"
        },
        "outputId": "b8864779-9217-486c-83f9-2d7374816268"
      },
      "execution_count": null,
      "outputs": [
        {
          "output_type": "stream",
          "name": "stdout",
          "text": [
            "Accuracy on the 10000 test images: 53 %\n"
          ]
        }
      ]
    },
    {
      "cell_type": "markdown",
      "source": [
        "# Introduction to PyTorch Tensors\n",
        "\n",
        "Tensors are the central data abstraction in PyTorch."
      ],
      "metadata": {
        "id": "ShBBk5f8Fv0d"
      }
    },
    {
      "cell_type": "code",
      "source": [
        "import torch\n",
        "import math"
      ],
      "metadata": {
        "id": "IBuHIMYUyy6t"
      },
      "execution_count": null,
      "outputs": []
    },
    {
      "cell_type": "markdown",
      "source": [
        "## Building Tensors\n",
        "\n",
        "`torch.empty()`"
      ],
      "metadata": {
        "id": "6xz00NLTy1lA"
      }
    },
    {
      "cell_type": "code",
      "source": [
        "x = torch.empty(3,4)\n",
        "print(type(x))\n",
        "print(x)"
      ],
      "metadata": {
        "colab": {
          "base_uri": "https://localhost:8080/"
        },
        "id": "voRNfWo1y8lK",
        "outputId": "ae4e08b2-094c-4040-9c2e-4c00e52d4671"
      },
      "execution_count": null,
      "outputs": [
        {
          "output_type": "stream",
          "name": "stdout",
          "text": [
            "<class 'torch.Tensor'>\n",
            "tensor([[ 5.8516e-33,  0.0000e+00,  1.4013e-45,  0.0000e+00],\n",
            "        [ 1.0971e-36,  0.0000e+00,  0.0000e+00,  0.0000e+00],\n",
            "        [ 5.2665e-33,  0.0000e+00, -1.4626e-26,  4.5562e-41]])\n"
          ]
        }
      ]
    },
    {
      "cell_type": "markdown",
      "source": [
        "Let's upack what we just did:\n",
        "\n",
        "* We builded a tensor using one of the numerous factory methods attached to the `torch` module\n",
        "* The tensor itself is 2-dimensional, having 3 rows and 4 columns\n",
        "* The type of the object returned is `torch.Tensor`, which is an alias for `torch.FloatTensor`; By default PyTorch tensors are 32-bit floating point\n",
        "* You will probabilly see some random-looking values when printing your tensor. The `torch.empty()` call allocates memory for the tensor, but not initialize it with any value.\n",
        "\n",
        "A brief note about tensors and their number of dimensions, and terminology:\n",
        "\n",
        "* You must sometimes see a 1-dimensional tensor called a *vector*\n",
        "* Likewise, a 2-dimensional tensor is often referred to a *matrix*\n",
        "* Anything with more than two dimensions is generally just called a *tensor*\n",
        "\n",
        "More often than not, you will want to initialize your tensor with some value."
      ],
      "metadata": {
        "id": "PYV86QpLzDD6"
      }
    },
    {
      "cell_type": "code",
      "source": [
        "zeros = torch.zeros(2,3)\n",
        "print(zeros)"
      ],
      "metadata": {
        "colab": {
          "base_uri": "https://localhost:8080/"
        },
        "id": "mId1dZTx33e-",
        "outputId": "bfd4a482-7c8c-4475-a75a-c22484981409"
      },
      "execution_count": null,
      "outputs": [
        {
          "output_type": "stream",
          "name": "stdout",
          "text": [
            "tensor([[0., 0., 0.],\n",
            "        [0., 0., 0.]])\n"
          ]
        }
      ]
    },
    {
      "cell_type": "code",
      "source": [
        "ones = torch.ones(3,4)\n",
        "print(ones)"
      ],
      "metadata": {
        "colab": {
          "base_uri": "https://localhost:8080/"
        },
        "id": "JnAPs72T38hd",
        "outputId": "d13cddb8-8ec1-4e94-8e80-42895a7c7708"
      },
      "execution_count": null,
      "outputs": [
        {
          "output_type": "stream",
          "name": "stdout",
          "text": [
            "tensor([[1., 1., 1., 1.],\n",
            "        [1., 1., 1., 1.],\n",
            "        [1., 1., 1., 1.]])\n"
          ]
        }
      ]
    },
    {
      "cell_type": "code",
      "source": [
        "torch.manual_seed(1325)\n",
        "random = torch.rand(3,3)\n",
        "print(random)"
      ],
      "metadata": {
        "colab": {
          "base_uri": "https://localhost:8080/"
        },
        "id": "Kh1-iZ_U4BXo",
        "outputId": "420c6ac6-dd08-4e64-fa82-47fdccddbb42"
      },
      "execution_count": null,
      "outputs": [
        {
          "output_type": "stream",
          "name": "stdout",
          "text": [
            "tensor([[0.1847, 0.9887, 0.4666],\n",
            "        [0.4925, 0.6267, 0.5350],\n",
            "        [0.5099, 0.4483, 0.3611]])\n"
          ]
        }
      ]
    },
    {
      "cell_type": "markdown",
      "source": [
        "## Random Tensors and Slicing\n",
        "\n",
        "`torch.manual_seeds()` assurance of reproducibility\n"
      ],
      "metadata": {
        "id": "PsDBiZwm4Hq8"
      }
    },
    {
      "cell_type": "code",
      "source": [
        "torch.manual_seed(125)\n",
        "random1 = torch.rand(3,4)\n",
        "print(random1)"
      ],
      "metadata": {
        "colab": {
          "base_uri": "https://localhost:8080/"
        },
        "id": "ifntUHlB9k0o",
        "outputId": "f5653ef7-879d-46ea-d637-988154d75976"
      },
      "execution_count": null,
      "outputs": [
        {
          "output_type": "stream",
          "name": "stdout",
          "text": [
            "tensor([[0.7219, 0.3854, 0.7279, 0.1047],\n",
            "        [0.6605, 0.7745, 0.9334, 0.6147],\n",
            "        [0.5578, 0.9899, 0.8673, 0.9288]])\n"
          ]
        }
      ]
    },
    {
      "cell_type": "code",
      "source": [
        "torch.manual_seed(125)\n",
        "random2 = torch.rand(3,4)\n",
        "print(random2)"
      ],
      "metadata": {
        "colab": {
          "base_uri": "https://localhost:8080/"
        },
        "id": "JS1wIEfK9saO",
        "outputId": "20a4fea7-d80c-40e5-f198-e876961d1dad"
      },
      "execution_count": null,
      "outputs": [
        {
          "output_type": "stream",
          "name": "stdout",
          "text": [
            "tensor([[0.7219, 0.3854, 0.7279, 0.1047],\n",
            "        [0.6605, 0.7745, 0.9334, 0.6147],\n",
            "        [0.5578, 0.9899, 0.8673, 0.9288]])\n"
          ]
        }
      ]
    },
    {
      "cell_type": "markdown",
      "source": [
        "## Tensor Shapes\n",
        "\n",
        "Often, when you are performing operations on two or more tensors, they will need to be of the same *shape* - that is, having the same number of dimensions and the same number of cells in each dimension. For that, we have the `torch.*_like()` methods:"
      ],
      "metadata": {
        "id": "0OGAxc5_91Vd"
      }
    },
    {
      "cell_type": "code",
      "source": [
        "x = torch.empty(2,2,3)\n",
        "print(x.shape)\n",
        "print(x)"
      ],
      "metadata": {
        "colab": {
          "base_uri": "https://localhost:8080/"
        },
        "id": "ezvJkmCj-Xot",
        "outputId": "6c2fdac9-c0db-4cee-be91-b790f6ca781d"
      },
      "execution_count": null,
      "outputs": [
        {
          "output_type": "stream",
          "name": "stdout",
          "text": [
            "torch.Size([2, 2, 3])\n",
            "tensor([[[0.0000e+00, 0.0000e+00, 0.0000e+00],\n",
            "         [0.0000e+00, 0.0000e+00, 0.0000e+00]],\n",
            "\n",
            "        [[0.0000e+00, 0.0000e+00, 1.4013e-45],\n",
            "         [0.0000e+00, 0.0000e+00, 0.0000e+00]]])\n"
          ]
        }
      ]
    },
    {
      "cell_type": "code",
      "source": [
        "empty_like_x = torch.empty_like(x)\n",
        "print(empty_like_x.shape)\n",
        "print(empty_like_x)"
      ],
      "metadata": {
        "colab": {
          "base_uri": "https://localhost:8080/"
        },
        "id": "f00kpXcB-i8N",
        "outputId": "a172c01c-5b3b-4f90-cf81-2c73d4cf06b2"
      },
      "execution_count": null,
      "outputs": [
        {
          "output_type": "stream",
          "name": "stdout",
          "text": [
            "torch.Size([2, 2, 3])\n",
            "tensor([[[-2.0735e+10,  4.5562e-41,  8.7042e-34],\n",
            "         [ 0.0000e+00,  5.8128e-34,  0.0000e+00]],\n",
            "\n",
            "        [[ 0.0000e+00,  0.0000e+00,  0.0000e+00],\n",
            "         [ 0.0000e+00,  1.1734e-33,  0.0000e+00]]])\n"
          ]
        }
      ]
    },
    {
      "cell_type": "code",
      "source": [
        "zeros_like_x = torch.zeros_like(x)\n",
        "print(zeros_like_x.shape)\n",
        "print(zeros_like_x)"
      ],
      "metadata": {
        "colab": {
          "base_uri": "https://localhost:8080/"
        },
        "id": "akPtELgi-ucs",
        "outputId": "6ce41b5d-20b2-4e45-ce40-c906b44dd5ea"
      },
      "execution_count": null,
      "outputs": [
        {
          "output_type": "stream",
          "name": "stdout",
          "text": [
            "torch.Size([2, 2, 3])\n",
            "tensor([[[0., 0., 0.],\n",
            "         [0., 0., 0.]],\n",
            "\n",
            "        [[0., 0., 0.],\n",
            "         [0., 0., 0.]]])\n"
          ]
        }
      ]
    },
    {
      "cell_type": "code",
      "source": [
        "rand_like_x = torch.rand_like(x)\n",
        "print(rand_like_x.shape)\n",
        "print(rand_like_x)\n",
        "\n",
        "print(\"\\n\")\n",
        "\n",
        "ones_like_x = torch.ones_like(x)\n",
        "print(ones_like_x.shape)\n",
        "print(ones_like_x)"
      ],
      "metadata": {
        "colab": {
          "base_uri": "https://localhost:8080/"
        },
        "id": "5yRUMSLv_Rxm",
        "outputId": "c01c8ad4-196e-491d-eaf3-8e28da94c7f2"
      },
      "execution_count": null,
      "outputs": [
        {
          "output_type": "stream",
          "name": "stdout",
          "text": [
            "torch.Size([2, 2, 3])\n",
            "tensor([[[0.7116, 0.5952, 0.6835],\n",
            "         [0.4139, 0.9702, 0.9073]],\n",
            "\n",
            "        [[0.9727, 0.4030, 0.0068],\n",
            "         [0.0175, 0.0490, 0.3330]]])\n",
            "\n",
            "\n",
            "torch.Size([2, 2, 3])\n",
            "tensor([[[1., 1., 1.],\n",
            "         [1., 1., 1.]],\n",
            "\n",
            "        [[1., 1., 1.],\n",
            "         [1., 1., 1.]]])\n"
          ]
        }
      ]
    },
    {
      "cell_type": "markdown",
      "source": [
        "The first new thing in the code and dell above is the use of `.shape` property in a tensor. This property contains a list of the extent of each dimension of a tensor.\n",
        "\n",
        "Below that, we call the `empty_like()`, `zeros_like()`, `ones_like()`, and `rand_like()`, them `.shape` method check if each one return a tensor with the same dimensions of the 1st one.\n",
        "\n",
        "The last way to build a tensor that will cover is to specify its data directly from a PyTorch collection:"
      ],
      "metadata": {
        "id": "unqgwHQU_tHM"
      }
    },
    {
      "cell_type": "code",
      "source": [
        "some_constants = torch.tensor([[3.14159, 2.71828], [1.61803,0.0072897]])\n",
        "print(some_constants)"
      ],
      "metadata": {
        "colab": {
          "base_uri": "https://localhost:8080/"
        },
        "id": "2Z7dIT_5Arwn",
        "outputId": "81fbdace-f45c-457c-bcfe-6833d5d821b1"
      },
      "execution_count": null,
      "outputs": [
        {
          "output_type": "stream",
          "name": "stdout",
          "text": [
            "tensor([[3.1416, 2.7183],\n",
            "        [1.6180, 0.0073]])\n"
          ]
        }
      ]
    },
    {
      "cell_type": "code",
      "source": [
        "some_integers = torch.tensor((2,3,5,7,9,17,19))\n",
        "print(some_integers)"
      ],
      "metadata": {
        "colab": {
          "base_uri": "https://localhost:8080/"
        },
        "id": "wELIbq_ABCz8",
        "outputId": "537b7759-ffae-474d-c0c8-73bd25b091d4"
      },
      "execution_count": null,
      "outputs": [
        {
          "output_type": "stream",
          "name": "stdout",
          "text": [
            "tensor([ 2,  3,  5,  7,  9, 17, 19])\n"
          ]
        }
      ]
    },
    {
      "cell_type": "code",
      "source": [
        "more_integers = torch.tensor(((2,4,6),[3,6,9]))\n",
        "print(more_integers)"
      ],
      "metadata": {
        "colab": {
          "base_uri": "https://localhost:8080/"
        },
        "id": "9MBUQhJOBQ16",
        "outputId": "09a9e626-6aea-47e0-a0d4-90530911fa43"
      },
      "execution_count": null,
      "outputs": [
        {
          "output_type": "stream",
          "name": "stdout",
          "text": [
            "tensor([[2, 4, 6],\n",
            "        [3, 6, 9]])\n"
          ]
        }
      ]
    },
    {
      "cell_type": "markdown",
      "source": [
        "## Tensor Data Types\n",
        "\n",
        "Setting the datatype of a tensor is possible a couple of ways:\n"
      ],
      "metadata": {
        "id": "z13jY7BaBhhR"
      }
    },
    {
      "cell_type": "code",
      "source": [
        "a = torch.ones((2,3), dtype=torch.int16)\n",
        "print(a)"
      ],
      "metadata": {
        "colab": {
          "base_uri": "https://localhost:8080/"
        },
        "id": "u8n7UE5GBqea",
        "outputId": "2072dd30-ee11-4a91-bd40-d8ffb0cf8178"
      },
      "execution_count": null,
      "outputs": [
        {
          "output_type": "stream",
          "name": "stdout",
          "text": [
            "tensor([[1, 1, 1],\n",
            "        [1, 1, 1]], dtype=torch.int16)\n"
          ]
        }
      ]
    },
    {
      "cell_type": "code",
      "source": [
        "b = torch.rand((2,3), dtype=torch.float64) * 20\n",
        "print(b)"
      ],
      "metadata": {
        "colab": {
          "base_uri": "https://localhost:8080/"
        },
        "id": "U2YIReHNBzT_",
        "outputId": "e4231d95-8083-4328-c8cd-5d9cc1d8274d"
      },
      "execution_count": null,
      "outputs": [
        {
          "output_type": "stream",
          "name": "stdout",
          "text": [
            "tensor([[13.4838, 15.3257, 14.1006],\n",
            "        [13.0557, 18.6816, 12.9664]], dtype=torch.float64)\n"
          ]
        }
      ]
    },
    {
      "cell_type": "code",
      "source": [
        "c = b.to(torch.int32)\n",
        "print(c)"
      ],
      "metadata": {
        "colab": {
          "base_uri": "https://localhost:8080/"
        },
        "id": "rTtO92BHB-Uq",
        "outputId": "25485733-f214-4e06-c995-af58b3caee7e"
      },
      "execution_count": null,
      "outputs": [
        {
          "output_type": "stream",
          "name": "stdout",
          "text": [
            "tensor([[13, 15, 14],\n",
            "        [13, 18, 12]], dtype=torch.int32)\n"
          ]
        }
      ]
    },
    {
      "cell_type": "markdown",
      "source": [
        "## Math and Logic with PyTorch Tensors"
      ],
      "metadata": {
        "id": "uzuKB39ACHeY"
      }
    },
    {
      "cell_type": "code",
      "source": [
        "ones = torch.zeros(2,2) + 1\n",
        "twos = torch.ones(2,2) * 2\n",
        "threes = (torch.ones(2,2) * 7 -1) / 2\n",
        "fours = twos ** 2\n",
        "sqrt2s = twos ** 0.5\n",
        "\n",
        "print(ones)\n",
        "print(\"\\n\")\n",
        "print(twos)\n",
        "print(\"\\n\")\n",
        "print(threes)\n",
        "print(\"\\n\")\n",
        "print(fours)\n",
        "print(\"\\n\")\n",
        "print(sqrt2s)"
      ],
      "metadata": {
        "colab": {
          "base_uri": "https://localhost:8080/"
        },
        "id": "8DY3xJJRCk6q",
        "outputId": "742beb1b-4fd8-4cd2-93c1-5b00a5731f3e"
      },
      "execution_count": null,
      "outputs": [
        {
          "output_type": "stream",
          "name": "stdout",
          "text": [
            "tensor([[1., 1.],\n",
            "        [1., 1.]])\n",
            "\n",
            "\n",
            "tensor([[2., 2.],\n",
            "        [2., 2.]])\n",
            "\n",
            "\n",
            "tensor([[3., 3.],\n",
            "        [3., 3.]])\n",
            "\n",
            "\n",
            "tensor([[4., 4.],\n",
            "        [4., 4.]])\n",
            "\n",
            "\n",
            "tensor([[1.4142, 1.4142],\n",
            "        [1.4142, 1.4142]])\n"
          ]
        }
      ]
    },
    {
      "cell_type": "markdown",
      "source": [
        "Similar operations between two tensor also behave like you would intuitively expect:"
      ],
      "metadata": {
        "id": "Ij6ADfbnDZk3"
      }
    },
    {
      "cell_type": "code",
      "source": [
        "powers2 = twos ** torch.tensor([[1,2],[3,4]])\n",
        "print(powers2)"
      ],
      "metadata": {
        "colab": {
          "base_uri": "https://localhost:8080/"
        },
        "id": "BLljXnXMDh5m",
        "outputId": "763a2238-0090-4c71-c915-53dcbbe3f890"
      },
      "execution_count": null,
      "outputs": [
        {
          "output_type": "stream",
          "name": "stdout",
          "text": [
            "tensor([[ 2.,  4.],\n",
            "        [ 8., 16.]])\n"
          ]
        }
      ]
    },
    {
      "cell_type": "code",
      "source": [
        "fives = ones + fours\n",
        "print(fives)"
      ],
      "metadata": {
        "colab": {
          "base_uri": "https://localhost:8080/"
        },
        "id": "F551lLXcDq4O",
        "outputId": "d812088b-f00b-4aac-c523-f7a67e1aecaa"
      },
      "execution_count": null,
      "outputs": [
        {
          "output_type": "stream",
          "name": "stdout",
          "text": [
            "tensor([[5., 5.],\n",
            "        [5., 5.]])\n"
          ]
        }
      ]
    },
    {
      "cell_type": "code",
      "source": [
        "dozens = threes * fours\n",
        "print(dozens)"
      ],
      "metadata": {
        "colab": {
          "base_uri": "https://localhost:8080/"
        },
        "id": "YZGelqNYDybt",
        "outputId": "b4f329ea-5bf2-47e5-a56b-8209b8c574d2"
      },
      "execution_count": null,
      "outputs": [
        {
          "output_type": "stream",
          "name": "stdout",
          "text": [
            "tensor([[12., 12.],\n",
            "        [12., 12.]])\n"
          ]
        }
      ]
    },
    {
      "cell_type": "markdown",
      "source": [
        "## In Brief: Tensor Boradcasting\n",
        "\n",
        "The exception to the same-shapes rule is *tensor broadcasting*.\n"
      ],
      "metadata": {
        "id": "QUkOoZZgESws"
      }
    },
    {
      "cell_type": "code",
      "source": [
        "rand = torch.rand(2,4)\n",
        "doubled = rand * (torch.ones(1,4) * 2)\n",
        "\n",
        "print(rand)\n",
        "print(doubled)"
      ],
      "metadata": {
        "colab": {
          "base_uri": "https://localhost:8080/"
        },
        "id": "XtaI5XGsEk70",
        "outputId": "d46c57e7-a451-4dab-a98b-ae7d8fda9209"
      },
      "execution_count": null,
      "outputs": [
        {
          "output_type": "stream",
          "name": "stdout",
          "text": [
            "tensor([[0.7034, 0.6243, 0.2870, 0.4096],\n",
            "        [0.3589, 0.8031, 0.3418, 0.8478]])\n",
            "tensor([[1.4069, 1.2486, 0.5740, 0.8192],\n",
            "        [0.7177, 1.6061, 0.6836, 1.6957]])\n"
          ]
        }
      ]
    },
    {
      "cell_type": "markdown",
      "source": [
        "The rules for broadcasting are:\n",
        "\n",
        "* Each tensor must have at least one dimension - no empty tensors\n",
        "* Comparing the dimension sizs of the two tensors, *going from last o first*:\n",
        "  * Each dimension must be equal, *or*\n",
        "  * One of the dimensions must be of size 1, *or*\n",
        "  * The dimension does not exist in one of the tensors\n",
        "\n",
        "Tensors of identical shape, of course, are trivially \"broadcastable\""
      ],
      "metadata": {
        "id": "G1EkXEFTEw2k"
      }
    },
    {
      "cell_type": "code",
      "source": [
        "a = torch.ones(4,3,2)\n",
        "\n",
        "b = a * torch.rand(3,2)  # 3rd and 2nd dims identical to a, dim 1 absent\n",
        "print(b)"
      ],
      "metadata": {
        "colab": {
          "base_uri": "https://localhost:8080/"
        },
        "id": "1atsGBVyIO9L",
        "outputId": "1aa478c8-e4d1-4ce1-8370-b3f7df59de1a"
      },
      "execution_count": null,
      "outputs": [
        {
          "output_type": "stream",
          "name": "stdout",
          "text": [
            "tensor([[[0.8821, 0.5835],\n",
            "         [0.4660, 0.5411],\n",
            "         [0.2206, 0.4123]],\n",
            "\n",
            "        [[0.8821, 0.5835],\n",
            "         [0.4660, 0.5411],\n",
            "         [0.2206, 0.4123]],\n",
            "\n",
            "        [[0.8821, 0.5835],\n",
            "         [0.4660, 0.5411],\n",
            "         [0.2206, 0.4123]],\n",
            "\n",
            "        [[0.8821, 0.5835],\n",
            "         [0.4660, 0.5411],\n",
            "         [0.2206, 0.4123]]])\n"
          ]
        }
      ]
    },
    {
      "cell_type": "code",
      "source": [
        "c = a * torch.rand(3,1)\n",
        "print(c)"
      ],
      "metadata": {
        "colab": {
          "base_uri": "https://localhost:8080/"
        },
        "id": "J7njF5xfIhUI",
        "outputId": "9233ee4d-16cf-4e90-f6d6-f1229adb47bd"
      },
      "execution_count": null,
      "outputs": [
        {
          "output_type": "stream",
          "name": "stdout",
          "text": [
            "tensor([[[0.9928, 0.9928],\n",
            "         [0.8846, 0.8846],\n",
            "         [0.8078, 0.8078]],\n",
            "\n",
            "        [[0.9928, 0.9928],\n",
            "         [0.8846, 0.8846],\n",
            "         [0.8078, 0.8078]],\n",
            "\n",
            "        [[0.9928, 0.9928],\n",
            "         [0.8846, 0.8846],\n",
            "         [0.8078, 0.8078]],\n",
            "\n",
            "        [[0.9928, 0.9928],\n",
            "         [0.8846, 0.8846],\n",
            "         [0.8078, 0.8078]]])\n"
          ]
        }
      ]
    },
    {
      "cell_type": "code",
      "source": [
        "d = a * torch.rand(1,2)\n",
        "print(d)"
      ],
      "metadata": {
        "colab": {
          "base_uri": "https://localhost:8080/"
        },
        "id": "dSU8Yc5bIn6U",
        "outputId": "f7cb001d-e009-4987-fea5-3e06f6065744"
      },
      "execution_count": null,
      "outputs": [
        {
          "output_type": "stream",
          "name": "stdout",
          "text": [
            "tensor([[[0.7427, 0.0572],\n",
            "         [0.7427, 0.0572],\n",
            "         [0.7427, 0.0572]],\n",
            "\n",
            "        [[0.7427, 0.0572],\n",
            "         [0.7427, 0.0572],\n",
            "         [0.7427, 0.0572]],\n",
            "\n",
            "        [[0.7427, 0.0572],\n",
            "         [0.7427, 0.0572],\n",
            "         [0.7427, 0.0572]],\n",
            "\n",
            "        [[0.7427, 0.0572],\n",
            "         [0.7427, 0.0572],\n",
            "         [0.7427, 0.0572]]])\n"
          ]
        }
      ]
    },
    {
      "cell_type": "markdown",
      "source": [
        "Look closely at the values of each tensor above:\n",
        "\n",
        "* The multiplication operation that built `b` was broadcaast over every \"layer\" of `a`\n",
        "* For `c`, the operation was broadcast over every layer and row of `a` -every 3-element column is identical.\n",
        "* For `d`, we switched it around - now every *row* is identical, across layers and columns\n",
        "\n",
        "## More Math with Tensors\n",
        "\n",
        "PyTorch tensors have over three hundred operations that can be performed on them"
      ],
      "metadata": {
        "id": "xfjxrWPfI651"
      }
    },
    {
      "cell_type": "code",
      "source": [
        "# common functions\n",
        "a = torch.rand(2,4) *2 - 1\n",
        "print(\"Common functions: \")\n",
        "print(torch.abs(a))"
      ],
      "metadata": {
        "colab": {
          "base_uri": "https://localhost:8080/"
        },
        "id": "YAVa0yc1KCio",
        "outputId": "2c076a6d-ea9e-4b3a-bfea-30c4b4a28ae2"
      },
      "execution_count": null,
      "outputs": [
        {
          "output_type": "stream",
          "name": "stdout",
          "text": [
            "Common functions: \n",
            "tensor([[0.0077, 0.0504, 0.5100, 0.9995],\n",
            "        [0.9020, 0.0628, 0.4889, 0.3530]])\n"
          ]
        }
      ]
    },
    {
      "cell_type": "code",
      "source": [
        "print(torch.ceil(a))"
      ],
      "metadata": {
        "colab": {
          "base_uri": "https://localhost:8080/"
        },
        "id": "cTRT_QCHKbYf",
        "outputId": "3fe9063d-63f9-41e0-d5bd-ee885ecf57b4"
      },
      "execution_count": null,
      "outputs": [
        {
          "output_type": "stream",
          "name": "stdout",
          "text": [
            "tensor([[-0., 1., -0., 1.],\n",
            "        [1., -0., -0., -0.]])\n"
          ]
        }
      ]
    },
    {
      "cell_type": "code",
      "source": [
        "print(torch.floor(a))"
      ],
      "metadata": {
        "colab": {
          "base_uri": "https://localhost:8080/"
        },
        "id": "3s4tuGZvKfiV",
        "outputId": "9e84dea9-b0ab-4ed8-e8e3-8ca836dbfd4e"
      },
      "execution_count": null,
      "outputs": [
        {
          "output_type": "stream",
          "name": "stdout",
          "text": [
            "tensor([[-1.,  0., -1.,  0.],\n",
            "        [ 0., -1., -1., -1.]])\n"
          ]
        }
      ]
    },
    {
      "cell_type": "code",
      "source": [
        "print(torch.clamp(a, -0.5, 0.5))"
      ],
      "metadata": {
        "colab": {
          "base_uri": "https://localhost:8080/"
        },
        "id": "7b9hnd90Kipv",
        "outputId": "dcaa1a4e-e501-4f61-ca7b-bcfade7374ee"
      },
      "execution_count": null,
      "outputs": [
        {
          "output_type": "stream",
          "name": "stdout",
          "text": [
            "tensor([[-0.0077,  0.0504, -0.5000,  0.5000],\n",
            "        [ 0.5000, -0.0628, -0.4889, -0.3530]])\n"
          ]
        }
      ]
    },
    {
      "cell_type": "code",
      "source": [
        "# trigonometric functions and their inverses\n",
        "angles = torch.tensor([0, math.pi / 4, math.pi /2, 3 * math.pi /4])\n",
        "print(angles)"
      ],
      "metadata": {
        "colab": {
          "base_uri": "https://localhost:8080/"
        },
        "id": "PHIJXmUmKpLk",
        "outputId": "8dcaaed4-ef2e-4461-f355-9428e4ff782f"
      },
      "execution_count": null,
      "outputs": [
        {
          "output_type": "stream",
          "name": "stdout",
          "text": [
            "tensor([0.0000, 0.7854, 1.5708, 2.3562])\n"
          ]
        }
      ]
    },
    {
      "cell_type": "code",
      "source": [
        "sines = torch.sin(angles)\n",
        "print(sines)"
      ],
      "metadata": {
        "colab": {
          "base_uri": "https://localhost:8080/"
        },
        "id": "IH23ytDGK5d9",
        "outputId": "b6be37a2-7245-4859-81e4-73a3e7fe3d93"
      },
      "execution_count": null,
      "outputs": [
        {
          "output_type": "stream",
          "name": "stdout",
          "text": [
            "tensor([0.0000, 0.7071, 1.0000, 0.7071])\n"
          ]
        }
      ]
    },
    {
      "cell_type": "code",
      "source": [
        "inverses = torch.asin(sines)\n",
        "print(inverses)"
      ],
      "metadata": {
        "colab": {
          "base_uri": "https://localhost:8080/"
        },
        "id": "bJySC0fCLD1j",
        "outputId": "08bca09b-9bdf-429e-9826-a40cc50f6105"
      },
      "execution_count": null,
      "outputs": [
        {
          "output_type": "stream",
          "name": "stdout",
          "text": [
            "tensor([0.0000, 0.7854, 1.5708, 0.7854])\n"
          ]
        }
      ]
    },
    {
      "cell_type": "code",
      "source": [
        "# bitwise operations\n",
        "print(\"\\nBitwise XOR: \")\n",
        "b = torch.tensor([1,5,11])\n",
        "c = torch.tensor([2,7,10])\n",
        "\n",
        "print(b)\n",
        "print(\"\\n\")\n",
        "print(c)\n",
        "print(\"\\n\")\n",
        "print(torch.bitwise_xor(b,c))"
      ],
      "metadata": {
        "colab": {
          "base_uri": "https://localhost:8080/"
        },
        "id": "eWfCQKm1LLej",
        "outputId": "f74aecf7-49e1-4445-8d76-e734691dd9a2"
      },
      "execution_count": null,
      "outputs": [
        {
          "output_type": "stream",
          "name": "stdout",
          "text": [
            "\n",
            "Bitwise XOR: \n",
            "tensor([ 1,  5, 11])\n",
            "\n",
            "\n",
            "tensor([ 2,  7, 10])\n",
            "\n",
            "\n",
            "tensor([3, 2, 1])\n"
          ]
        }
      ]
    },
    {
      "cell_type": "code",
      "source": [
        "# comparisions\n",
        "d = torch.tensor([[1., 2.],[3.,4.]])\n",
        "e = torch.ones(1,2)\n",
        "print(torch.eq(d,e))"
      ],
      "metadata": {
        "colab": {
          "base_uri": "https://localhost:8080/"
        },
        "id": "j5LpCL0hQWLy",
        "outputId": "d0cc9dde-afdb-472e-9e04-039c0d25e6cd"
      },
      "execution_count": null,
      "outputs": [
        {
          "output_type": "stream",
          "name": "stdout",
          "text": [
            "tensor([[ True, False],\n",
            "        [False, False]])\n"
          ]
        }
      ]
    },
    {
      "cell_type": "code",
      "source": [
        "# reductions\n",
        "print(torch.max(d))  # single element tensor"
      ],
      "metadata": {
        "colab": {
          "base_uri": "https://localhost:8080/"
        },
        "id": "JNDTMsPEQsuY",
        "outputId": "bc470670-d7bf-4ec0-a60a-8229c1dc5bce"
      },
      "execution_count": null,
      "outputs": [
        {
          "output_type": "stream",
          "name": "stdout",
          "text": [
            "tensor(4.)\n"
          ]
        }
      ]
    },
    {
      "cell_type": "code",
      "source": [
        "print(torch.max(d).item())"
      ],
      "metadata": {
        "colab": {
          "base_uri": "https://localhost:8080/"
        },
        "id": "ATDuRnNzRFqc",
        "outputId": "e2dc76d9-dfd2-4b1b-b919-9c37efa082f0"
      },
      "execution_count": null,
      "outputs": [
        {
          "output_type": "stream",
          "name": "stdout",
          "text": [
            "4.0\n"
          ]
        }
      ]
    },
    {
      "cell_type": "code",
      "source": [
        "print(torch.mean(d))"
      ],
      "metadata": {
        "colab": {
          "base_uri": "https://localhost:8080/"
        },
        "id": "v38e49XbRMO6",
        "outputId": "5a69538e-6b25-41e5-b480-730c438c6469"
      },
      "execution_count": null,
      "outputs": [
        {
          "output_type": "stream",
          "name": "stdout",
          "text": [
            "tensor(2.5000)\n"
          ]
        }
      ]
    },
    {
      "cell_type": "code",
      "source": [
        "print(torch.std(d))"
      ],
      "metadata": {
        "colab": {
          "base_uri": "https://localhost:8080/"
        },
        "id": "BGL9zZI4RPwc",
        "outputId": "82202c02-66b6-4c7c-d86f-29bcd87d2d0b"
      },
      "execution_count": null,
      "outputs": [
        {
          "output_type": "stream",
          "name": "stdout",
          "text": [
            "tensor(1.2910)\n"
          ]
        }
      ]
    },
    {
      "cell_type": "code",
      "source": [
        "print(torch.prod(d))  #product of all numbers"
      ],
      "metadata": {
        "colab": {
          "base_uri": "https://localhost:8080/"
        },
        "id": "ttLLcE10RUZz",
        "outputId": "d814396a-cd35-45ec-d748-30559c82f54b"
      },
      "execution_count": null,
      "outputs": [
        {
          "output_type": "stream",
          "name": "stdout",
          "text": [
            "tensor(24.)\n"
          ]
        }
      ]
    },
    {
      "cell_type": "code",
      "source": [
        "print(torch.unique(torch.tensor([1,2,1,2,1,2])))  # filter unique element"
      ],
      "metadata": {
        "colab": {
          "base_uri": "https://localhost:8080/"
        },
        "id": "RWRCEWwjRbzf",
        "outputId": "841a90aa-98a2-4070-f3f8-5aefe9086ba9"
      },
      "execution_count": null,
      "outputs": [
        {
          "output_type": "stream",
          "name": "stdout",
          "text": [
            "tensor([1, 2])\n"
          ]
        }
      ]
    },
    {
      "cell_type": "code",
      "source": [
        "# vector and linear algebra operations\n",
        "v1 = torch.tensor([1.,0.,0.])\n",
        "v2 = torch.tensor([0.,1.,0.])\n",
        "m1 = torch.rand(2,2)\n",
        "m2 = torch.tensor([[3.,0.], [0.,3.]])\n",
        "\n",
        "print(torch.linalg.cross(v2, v1))  #negative of z unit vector (v1 x v2 == -v2 x v1)"
      ],
      "metadata": {
        "colab": {
          "base_uri": "https://localhost:8080/"
        },
        "id": "LjoUJ2VLRn21",
        "outputId": "2381c4ee-44e5-4f60-8e13-1ab4d2a57eb1"
      },
      "execution_count": null,
      "outputs": [
        {
          "output_type": "stream",
          "name": "stdout",
          "text": [
            "tensor([ 0.,  0., -1.])\n"
          ]
        }
      ]
    },
    {
      "cell_type": "code",
      "source": [
        "print(m1)"
      ],
      "metadata": {
        "colab": {
          "base_uri": "https://localhost:8080/"
        },
        "id": "i9Gb7D_sSUV6",
        "outputId": "5c1ba57a-e52f-4eeb-efe9-9ca5816489bd"
      },
      "execution_count": null,
      "outputs": [
        {
          "output_type": "stream",
          "name": "stdout",
          "text": [
            "tensor([[0.2126, 0.4554],\n",
            "        [0.5411, 0.4905]])\n"
          ]
        }
      ]
    },
    {
      "cell_type": "code",
      "source": [
        "m3 = torch.linalg.matmul(m1,m2)\n",
        "print(m3)"
      ],
      "metadata": {
        "colab": {
          "base_uri": "https://localhost:8080/"
        },
        "id": "Sh81AHleSXQK",
        "outputId": "7cf9507e-7fec-4818-d277-2de0ced51346"
      },
      "execution_count": null,
      "outputs": [
        {
          "output_type": "stream",
          "name": "stdout",
          "text": [
            "tensor([[0.6377, 1.3661],\n",
            "        [1.6234, 1.4714]])\n"
          ]
        }
      ]
    },
    {
      "cell_type": "code",
      "source": [
        "print(torch.linalg.svd(m3))  # singular value decompostion"
      ],
      "metadata": {
        "colab": {
          "base_uri": "https://localhost:8080/"
        },
        "id": "YVRakIXASdzD",
        "outputId": "e2649d63-4568-4aa3-d2fd-846d12b0078a"
      },
      "execution_count": null,
      "outputs": [
        {
          "output_type": "stream",
          "name": "stdout",
          "text": [
            "torch.return_types.linalg_svd(\n",
            "U=tensor([[-0.5553, -0.8316],\n",
            "        [-0.8316,  0.5553]]),\n",
            "S=tensor([2.6141, 0.4894]),\n",
            "Vh=tensor([[-0.6519, -0.7583],\n",
            "        [ 0.7583, -0.6519]]))\n"
          ]
        }
      ]
    },
    {
      "cell_type": "markdown",
      "source": [
        "## Altering Tensors in Place\n",
        "\n",
        "Most binary operations on tensors will return a third new tensor. When we say `c = a * b`, the new tensor `c` will occupy a region of memory distinct from the other tensors.\n",
        "\n",
        "There are times, though, that you may wish to alter a tensor in place - for example, if you are doing an element-wise computation where you can discard intermediate values. For this, most of the math functions have a version with an appended underscore (`_`) that will alter a tensor in place."
      ],
      "metadata": {
        "id": "nR4UQw6TSqOX"
      }
    },
    {
      "cell_type": "code",
      "source": [
        "a = torch.tensor([0, math.pi / 4, math.pi / 2, 3 * math.pi / 4])\n",
        "print(a)"
      ],
      "metadata": {
        "colab": {
          "base_uri": "https://localhost:8080/"
        },
        "id": "HYLt1c-OUGhz",
        "outputId": "bbf94ee7-e55c-4598-ea51-d6822db7b369"
      },
      "execution_count": null,
      "outputs": [
        {
          "output_type": "stream",
          "name": "stdout",
          "text": [
            "tensor([0.0000, 0.7854, 1.5708, 2.3562])\n"
          ]
        }
      ]
    },
    {
      "cell_type": "code",
      "source": [
        "print(torch.sin(a))  # this operation build a new tensor in memory"
      ],
      "metadata": {
        "colab": {
          "base_uri": "https://localhost:8080/"
        },
        "id": "Y9leaY8TUQ_Q",
        "outputId": "8f6b7111-98d4-4d48-ef0c-d3665c71ce4f"
      },
      "execution_count": null,
      "outputs": [
        {
          "output_type": "stream",
          "name": "stdout",
          "text": [
            "tensor([0.0000, 0.7071, 1.0000, 0.7071])\n"
          ]
        }
      ]
    },
    {
      "cell_type": "code",
      "source": [
        "print(a)  # a has not changed"
      ],
      "metadata": {
        "colab": {
          "base_uri": "https://localhost:8080/"
        },
        "id": "6h8SAQm2UYe4",
        "outputId": "7c03cb54-c9ac-42d5-86d5-ad14cf61b1e0"
      },
      "execution_count": null,
      "outputs": [
        {
          "output_type": "stream",
          "name": "stdout",
          "text": [
            "tensor([0.0000, 0.7854, 1.5708, 2.3562])\n"
          ]
        }
      ]
    },
    {
      "cell_type": "code",
      "source": [
        "b = torch.tensor([0, math.pi / 4, math.pi / 2, 3 * math.pi / 4])\n",
        "print(b)"
      ],
      "metadata": {
        "colab": {
          "base_uri": "https://localhost:8080/"
        },
        "id": "Yr_C98hsUolo",
        "outputId": "fcdfeec7-701c-4776-b2f4-4a8642e6cbd4"
      },
      "execution_count": null,
      "outputs": [
        {
          "output_type": "stream",
          "name": "stdout",
          "text": [
            "tensor([0.0000, 0.7854, 1.5708, 2.3562])\n"
          ]
        }
      ]
    },
    {
      "cell_type": "code",
      "source": [
        "print(torch.sin_(b))"
      ],
      "metadata": {
        "colab": {
          "base_uri": "https://localhost:8080/"
        },
        "id": "2WSLhmGyUuiw",
        "outputId": "1513f75e-7bd2-469b-a931-4d30bcf5f4ba"
      },
      "execution_count": null,
      "outputs": [
        {
          "output_type": "stream",
          "name": "stdout",
          "text": [
            "tensor([0.0000, 0.7071, 1.0000, 0.7071])\n"
          ]
        }
      ]
    },
    {
      "cell_type": "code",
      "source": [
        "print(b)  # b has changed"
      ],
      "metadata": {
        "colab": {
          "base_uri": "https://localhost:8080/"
        },
        "id": "VSGOi56AU0TG",
        "outputId": "ce72b091-1c46-4165-f8ae-3f240c08c866"
      },
      "execution_count": null,
      "outputs": [
        {
          "output_type": "stream",
          "name": "stdout",
          "text": [
            "tensor([0.0000, 0.7071, 1.0000, 0.7071])\n"
          ]
        }
      ]
    },
    {
      "cell_type": "markdown",
      "source": [
        "For arithmetic operations, there are functions that behave similary:"
      ],
      "metadata": {
        "id": "eYCyH2p5U3oO"
      }
    },
    {
      "cell_type": "code",
      "source": [
        "a = torch.ones(2, 2)\n",
        "b = torch.rand(2,2)\n",
        "\n",
        "print(a)\n",
        "print(\"\\n\")\n",
        "print(b)"
      ],
      "metadata": {
        "colab": {
          "base_uri": "https://localhost:8080/"
        },
        "id": "nhrb6_RjVMc8",
        "outputId": "c4842f9b-ac11-4788-f2b1-775b26152bd8"
      },
      "execution_count": null,
      "outputs": [
        {
          "output_type": "stream",
          "name": "stdout",
          "text": [
            "tensor([[1., 1.],\n",
            "        [1., 1.]])\n",
            "\n",
            "\n",
            "tensor([[0.9067, 0.5964],\n",
            "        [0.9480, 0.0323]])\n"
          ]
        }
      ]
    },
    {
      "cell_type": "code",
      "source": [
        "print(a.add_(b))\n",
        "print(a)\n",
        "print(b)"
      ],
      "metadata": {
        "colab": {
          "base_uri": "https://localhost:8080/"
        },
        "id": "IReGh8nmVVT6",
        "outputId": "acf2238a-8c62-4ea8-d270-90d48adc6504"
      },
      "execution_count": null,
      "outputs": [
        {
          "output_type": "stream",
          "name": "stdout",
          "text": [
            "tensor([[1.9067, 1.5964],\n",
            "        [1.9480, 1.0323]])\n",
            "tensor([[1.9067, 1.5964],\n",
            "        [1.9480, 1.0323]])\n",
            "tensor([[0.9067, 0.5964],\n",
            "        [0.9480, 0.0323]])\n"
          ]
        }
      ]
    },
    {
      "cell_type": "code",
      "source": [
        "print(b.mul_(b))\n",
        "print(b)"
      ],
      "metadata": {
        "colab": {
          "base_uri": "https://localhost:8080/"
        },
        "id": "g2UVTJGAVeQf",
        "outputId": "ce22e527-f7a7-4b9b-b8a2-007432ab6f22"
      },
      "execution_count": null,
      "outputs": [
        {
          "output_type": "stream",
          "name": "stdout",
          "text": [
            "tensor([[0.8221, 0.3557],\n",
            "        [0.8986, 0.0010]])\n",
            "tensor([[0.8221, 0.3557],\n",
            "        [0.8986, 0.0010]])\n"
          ]
        }
      ]
    },
    {
      "cell_type": "code",
      "source": [
        "a = torch.rand(2,2)\n",
        "b = torch.rand(2,2)\n",
        "c = torch.zeros(2,2)\n",
        "\n",
        "old_id = id(c)  #"
      ],
      "metadata": {
        "id": "F0XYP7hbVx0O"
      },
      "execution_count": null,
      "outputs": []
    },
    {
      "cell_type": "code",
      "source": [
        "print(c)\n"
      ],
      "metadata": {
        "colab": {
          "base_uri": "https://localhost:8080/"
        },
        "id": "joCDWfo0V96f",
        "outputId": "c09388e3-11a2-4efe-9a2b-4532dd78abec"
      },
      "execution_count": null,
      "outputs": [
        {
          "output_type": "stream",
          "name": "stdout",
          "text": [
            "tensor([[0., 0.],\n",
            "        [0., 0.]])\n"
          ]
        }
      ]
    },
    {
      "cell_type": "code",
      "source": [
        "d = torch.matmul(a,b, out=c)\n",
        "print(c)"
      ],
      "metadata": {
        "colab": {
          "base_uri": "https://localhost:8080/"
        },
        "id": "dfs6i6D-WA8O",
        "outputId": "83506504-76d3-413b-c5cf-21152724288e"
      },
      "execution_count": null,
      "outputs": [
        {
          "output_type": "stream",
          "name": "stdout",
          "text": [
            "tensor([[1.0698, 1.1595],\n",
            "        [0.3429, 0.4001]])\n"
          ]
        }
      ]
    },
    {
      "cell_type": "code",
      "source": [
        "assert c is d   # test c & d are the same object, not containing equal values\n",
        "assert id(c) == old_id  # make sure that our new c is the same object as the old one"
      ],
      "metadata": {
        "id": "7jU9_-bNVIPd"
      },
      "execution_count": null,
      "outputs": []
    },
    {
      "cell_type": "code",
      "source": [
        "torch.rand(2,2, out=c)\n",
        "print(c)"
      ],
      "metadata": {
        "colab": {
          "base_uri": "https://localhost:8080/"
        },
        "id": "UzT-lkRZVYeK",
        "outputId": "989795bf-be82-4538-d104-40997c725b1a"
      },
      "execution_count": null,
      "outputs": [
        {
          "output_type": "stream",
          "name": "stdout",
          "text": [
            "tensor([[0.4296, 0.3178],\n",
            "        [0.4992, 0.9284]])\n"
          ]
        }
      ]
    },
    {
      "cell_type": "code",
      "source": [
        "assert id(c) == old_id  # still the same object\n",
        "print(c)"
      ],
      "metadata": {
        "colab": {
          "base_uri": "https://localhost:8080/"
        },
        "id": "BBDI-abUVpuu",
        "outputId": "8a9be310-14cf-4eb6-f57c-3cf0e8ea1c2f"
      },
      "execution_count": null,
      "outputs": [
        {
          "output_type": "stream",
          "name": "stdout",
          "text": [
            "tensor([[0.4296, 0.3178],\n",
            "        [0.4992, 0.9284]])\n"
          ]
        }
      ]
    },
    {
      "cell_type": "markdown",
      "source": [
        "## Copying Tensors\n",
        "\n",
        "As with any object in Python, assigning a tensor to a varible makes the variable a *label* of the tensor, and does not copy it. For example:"
      ],
      "metadata": {
        "id": "uRneWS0JV2A9"
      }
    },
    {
      "cell_type": "code",
      "source": [
        "a = torch.ones(2,2)\n",
        "b = a"
      ],
      "metadata": {
        "id": "XwA53IlkWPrr"
      },
      "execution_count": null,
      "outputs": []
    },
    {
      "cell_type": "code",
      "source": [
        "a[0][1] = 561\n",
        "print(b)"
      ],
      "metadata": {
        "colab": {
          "base_uri": "https://localhost:8080/"
        },
        "id": "A3xRjXPmWUEq",
        "outputId": "8ccb0af3-7b1c-4de8-c5bc-072eefa84f0e"
      },
      "execution_count": null,
      "outputs": [
        {
          "output_type": "stream",
          "name": "stdout",
          "text": [
            "tensor([[  1., 561.],\n",
            "        [  1.,   1.]])\n"
          ]
        }
      ]
    },
    {
      "cell_type": "markdown",
      "source": [
        "But what if you want a separate copy of the data to work on? The `clone` method should be used:"
      ],
      "metadata": {
        "id": "ObKAj9OQWbo7"
      }
    },
    {
      "cell_type": "code",
      "source": [
        "a = torch.ones(3,3)\n",
        "b = a.clone()\n",
        "\n",
        "print(a)\n",
        "print(b)"
      ],
      "metadata": {
        "colab": {
          "base_uri": "https://localhost:8080/"
        },
        "id": "ejFiyKhrWl_a",
        "outputId": "67e2731a-bbb2-471a-a06e-d2061f7d5159"
      },
      "execution_count": null,
      "outputs": [
        {
          "output_type": "stream",
          "name": "stdout",
          "text": [
            "tensor([[1., 1., 1.],\n",
            "        [1., 1., 1.],\n",
            "        [1., 1., 1.]])\n",
            "tensor([[1., 1., 1.],\n",
            "        [1., 1., 1.],\n",
            "        [1., 1., 1.]])\n"
          ]
        }
      ]
    },
    {
      "cell_type": "code",
      "source": [
        "assert b is not a   # different objects in memory\n",
        "print(torch.eq(a,b))   # but still with the same contents"
      ],
      "metadata": {
        "colab": {
          "base_uri": "https://localhost:8080/"
        },
        "id": "ghnUoE5bW2k5",
        "outputId": "b0870ddd-a8e2-464e-b655-573cb22db53f"
      },
      "execution_count": null,
      "outputs": [
        {
          "output_type": "stream",
          "name": "stdout",
          "text": [
            "tensor([[True, True, True],\n",
            "        [True, True, True],\n",
            "        [True, True, True]])\n"
          ]
        }
      ]
    },
    {
      "cell_type": "code",
      "source": [
        "a[0][1] = 258\n",
        "print(b)"
      ],
      "metadata": {
        "colab": {
          "base_uri": "https://localhost:8080/"
        },
        "id": "mpwN9yH_XDaI",
        "outputId": "88f3e35d-9072-4193-e681-a096b82690f6"
      },
      "execution_count": null,
      "outputs": [
        {
          "output_type": "stream",
          "name": "stdout",
          "text": [
            "tensor([[1., 1., 1.],\n",
            "        [1., 1., 1.],\n",
            "        [1., 1., 1.]])\n"
          ]
        }
      ]
    },
    {
      "cell_type": "markdown",
      "source": [
        "**There is an important thing to be aware of when using `clone()`**. If your source tensor has autograd, enabled then so will the clone. **This will be covered more deeply in the video on autograd**.\n",
        "\n",
        "If your model has multiple computation paths in its `forward()` method, and *both* the original tensor and its clone contribute to the model's output, then to enable model learning you want autograd turned on for both tensors."
      ],
      "metadata": {
        "id": "EbKRDiBxXQKA"
      }
    },
    {
      "cell_type": "code",
      "source": [
        "a = torch.rand(3,3, requires_grad=True)  # turn on autograd\n",
        "print(a)"
      ],
      "metadata": {
        "colab": {
          "base_uri": "https://localhost:8080/"
        },
        "id": "-mxuCZJbZ3yQ",
        "outputId": "bfa20977-1354-4f35-a3de-a0950b9ea810"
      },
      "execution_count": null,
      "outputs": [
        {
          "output_type": "stream",
          "name": "stdout",
          "text": [
            "tensor([[0.9296, 0.5939, 0.1371],\n",
            "        [0.1972, 0.1117, 0.9535],\n",
            "        [0.2096, 0.8589, 0.7376]], requires_grad=True)\n"
          ]
        }
      ]
    },
    {
      "cell_type": "code",
      "source": [
        "b = a.clone()\n",
        "print(b)"
      ],
      "metadata": {
        "colab": {
          "base_uri": "https://localhost:8080/"
        },
        "id": "bYGu99i3aBdV",
        "outputId": "650fb236-56a4-4f49-ea11-434d4f8ccc6f"
      },
      "execution_count": null,
      "outputs": [
        {
          "output_type": "stream",
          "name": "stdout",
          "text": [
            "tensor([[0.9296, 0.5939, 0.1371],\n",
            "        [0.1972, 0.1117, 0.9535],\n",
            "        [0.2096, 0.8589, 0.7376]], grad_fn=<CloneBackward0>)\n"
          ]
        }
      ]
    },
    {
      "cell_type": "code",
      "source": [
        "c = a.detach().clone()\n",
        "print(c)"
      ],
      "metadata": {
        "colab": {
          "base_uri": "https://localhost:8080/"
        },
        "id": "4G_CO9nJaGHU",
        "outputId": "c2e4ab43-f2da-4490-e2c8-045ed56865f9"
      },
      "execution_count": null,
      "outputs": [
        {
          "output_type": "stream",
          "name": "stdout",
          "text": [
            "tensor([[0.9296, 0.5939, 0.1371],\n",
            "        [0.1972, 0.1117, 0.9535],\n",
            "        [0.2096, 0.8589, 0.7376]])\n"
          ]
        }
      ]
    },
    {
      "cell_type": "code",
      "source": [
        "print(a)"
      ],
      "metadata": {
        "colab": {
          "base_uri": "https://localhost:8080/"
        },
        "id": "LC9ses8HaNgY",
        "outputId": "bea1ba77-bfc5-41af-8497-55c825ca9402"
      },
      "execution_count": null,
      "outputs": [
        {
          "output_type": "stream",
          "name": "stdout",
          "text": [
            "tensor([[0.9296, 0.5939, 0.1371],\n",
            "        [0.1972, 0.1117, 0.9535],\n",
            "        [0.2096, 0.8589, 0.7376]], requires_grad=True)\n"
          ]
        }
      ]
    },
    {
      "cell_type": "markdown",
      "source": [
        "## Moving to Accelerator\n",
        "\n",
        "One the major advanteges of PyTorch is its robust acceleration on an **accelerator** such as CUDA, MPS, MTIA, or XPU. How to move to faster hardware?\n",
        "\n",
        "First check whether an accelerator is available, with the `is_available()` method."
      ],
      "metadata": {
        "id": "lMF79_huaWRr"
      }
    },
    {
      "cell_type": "code",
      "source": [
        "if torch.accelerator.is_available():\n",
        "  print(\"We have an accelerator\")\n",
        "else:\n",
        "  print(\"Only CPU\")"
      ],
      "metadata": {
        "colab": {
          "base_uri": "https://localhost:8080/"
        },
        "id": "ONTy9cx6bI7O",
        "outputId": "5e82e777-3fef-46d3-bf9b-63fd03a61b5c"
      },
      "execution_count": null,
      "outputs": [
        {
          "output_type": "stream",
          "name": "stdout",
          "text": [
            "Only CPU\n"
          ]
        }
      ]
    },
    {
      "cell_type": "markdown",
      "source": [
        "Must put the data in someplace where the accelerator can see it. In CPU the data is in computer's RAM. The accelerator has attached memory to it. To performa a computation on a device, *all* the data must be moved  for that memory access to the computation on the device. **Moving the data to memory accessible by the accelerator**"
      ],
      "metadata": {
        "id": "5r85_6dhbbMQ"
      }
    },
    {
      "cell_type": "code",
      "source": [
        "if torch.accelerator.is_available():\n",
        "  gpu_rand = torch.rand(2,2, device=torch.accelerator.current_accelerator())\n",
        "  print(gpu_rand)\n",
        "else:\n",
        "  print(\"Only CPU\")"
      ],
      "metadata": {
        "colab": {
          "base_uri": "https://localhost:8080/"
        },
        "id": "rQ-o7q2Kb___",
        "outputId": "9ce6ce99-b62d-432c-918a-013ba277fa00"
      },
      "execution_count": null,
      "outputs": [
        {
          "output_type": "stream",
          "name": "stdout",
          "text": [
            "Only CPU\n"
          ]
        }
      ]
    },
    {
      "cell_type": "code",
      "source": [
        "the_device = torch.accelerator.current_accelerator() if torch.accelerator.is_available() else torch.device('cpu')\n",
        "print(\"Device: {}\".format(the_device))"
      ],
      "metadata": {
        "colab": {
          "base_uri": "https://localhost:8080/"
        },
        "id": "Sr8sy0J6cp7l",
        "outputId": "789be4c1-7625-4d87-fc7f-fe5cac6edbab"
      },
      "execution_count": null,
      "outputs": [
        {
          "output_type": "stream",
          "name": "stdout",
          "text": [
            "Device: cpu\n"
          ]
        }
      ]
    },
    {
      "cell_type": "code",
      "source": [
        "x = torch.rand(2,2, device=the_device)\n",
        "print(x)"
      ],
      "metadata": {
        "colab": {
          "base_uri": "https://localhost:8080/"
        },
        "id": "o8R_0g-Ac-r4",
        "outputId": "061f5edf-45c2-400a-fb6b-2ad8e1b665ec"
      },
      "execution_count": null,
      "outputs": [
        {
          "output_type": "stream",
          "name": "stdout",
          "text": [
            "tensor([[0.9392, 0.6402],\n",
            "        [0.0835, 0.8189]])\n"
          ]
        }
      ]
    },
    {
      "cell_type": "markdown",
      "source": [
        "It is important to know that in order to do computation involving two or more tensors, *all of the tensors must be on the same device**."
      ],
      "metadata": {
        "id": "IlsoOJg4dFr8"
      }
    },
    {
      "cell_type": "code",
      "source": [
        "x = torch.rand(3,3)\n",
        "y = torch.rand(3,3) #, device = 'cuda')\n",
        "z = x + y\n",
        "print(z)"
      ],
      "metadata": {
        "colab": {
          "base_uri": "https://localhost:8080/"
        },
        "id": "orR6PTJmda4d",
        "outputId": "36746231-e836-44cd-ba58-28b86f2b2c39"
      },
      "execution_count": null,
      "outputs": [
        {
          "output_type": "stream",
          "name": "stdout",
          "text": [
            "tensor([[1.5766, 0.6797, 0.6494],\n",
            "        [0.4924, 1.4856, 0.9668],\n",
            "        [1.0417, 1.1170, 0.9398]])\n"
          ]
        }
      ]
    },
    {
      "cell_type": "markdown",
      "source": [
        "## Manipulating Tensor Shape\n",
        "\n",
        "Some time is needed to change the shape of your tensor\n",
        "\n",
        "### Changing the Number of Dimensions\n",
        "\n",
        "One case you might need to change the number of dimensions is passing a single instance of input to your model.\n",
        "\n",
        "image = 3 x 226 x 226 -> tensor of shape: `3,226,226` -The model is expecting input of shape `N, 3, 226, 266` - `N` is the batch number images"
      ],
      "metadata": {
        "id": "ghlgqSvDdO6Z"
      }
    },
    {
      "cell_type": "code",
      "source": [
        "d = torch.rand(3,226,226)\n",
        "print(d)"
      ],
      "metadata": {
        "colab": {
          "base_uri": "https://localhost:8080/"
        },
        "id": "Ip2Nfv9xh2mh",
        "outputId": "f5c277a3-1f76-43a7-9621-365cae4aadd0"
      },
      "execution_count": null,
      "outputs": [
        {
          "output_type": "stream",
          "name": "stdout",
          "text": [
            "tensor([[[0.3204, 0.8058, 0.0370,  ..., 0.2195, 0.2207, 0.7330],\n",
            "         [0.8361, 0.3658, 0.6938,  ..., 0.9683, 0.3638, 0.2475],\n",
            "         [0.5820, 0.2608, 0.6153,  ..., 0.7359, 0.8985, 0.1118],\n",
            "         ...,\n",
            "         [0.9496, 0.4388, 0.8936,  ..., 0.9678, 0.8317, 0.6429],\n",
            "         [0.7641, 0.8809, 0.3937,  ..., 0.0847, 0.8107, 0.8816],\n",
            "         [0.0609, 0.1981, 0.9407,  ..., 0.3599, 0.3107, 0.7289]],\n",
            "\n",
            "        [[0.6043, 0.4600, 0.4547,  ..., 0.4690, 0.1008, 0.1081],\n",
            "         [0.3463, 0.8656, 0.7683,  ..., 0.0406, 0.0699, 0.1389],\n",
            "         [0.6053, 0.2353, 0.8936,  ..., 0.3387, 0.4694, 0.7640],\n",
            "         ...,\n",
            "         [0.6626, 0.5311, 0.5382,  ..., 0.9648, 0.0547, 0.2062],\n",
            "         [0.5867, 0.5908, 0.7050,  ..., 0.8685, 0.2570, 0.2347],\n",
            "         [0.0152, 0.3167, 0.4279,  ..., 0.7190, 0.9231, 0.6000]],\n",
            "\n",
            "        [[0.6983, 0.9499, 0.7530,  ..., 0.4081, 0.7838, 0.8676],\n",
            "         [0.9744, 0.2991, 0.6545,  ..., 0.6733, 0.6091, 0.5449],\n",
            "         [0.8270, 0.8316, 0.7049,  ..., 0.0496, 0.9466, 0.8584],\n",
            "         ...,\n",
            "         [0.1821, 0.6942, 0.9091,  ..., 0.2420, 0.2845, 0.7362],\n",
            "         [0.8993, 0.0794, 0.1101,  ..., 0.2872, 0.9523, 0.3352],\n",
            "         [0.7001, 0.2248, 0.7227,  ..., 0.4015, 0.8091, 0.5525]]])\n"
          ]
        }
      ]
    },
    {
      "cell_type": "code",
      "source": [
        "e = d.unsqueeze(0)\n",
        "\n",
        "print(d.shape)\n",
        "print(e.shape)"
      ],
      "metadata": {
        "colab": {
          "base_uri": "https://localhost:8080/"
        },
        "id": "tmlNOZrzhKMM",
        "outputId": "3683e8bd-61fe-46fc-ee2c-cc13efe30672"
      },
      "execution_count": null,
      "outputs": [
        {
          "output_type": "stream",
          "name": "stdout",
          "text": [
            "torch.Size([3, 226, 226])\n",
            "torch.Size([1, 3, 226, 226])\n"
          ]
        }
      ]
    },
    {
      "cell_type": "markdown",
      "source": [
        "The `unsqueeze()` method adds a dimension of extent 1. `unsqueeze(0) adds it as a new zeroth dimension - now you have a batch of one.\n",
        "\n",
        "So if that's *uns*queezing? What do we mean by squeezing? We are taking advantage of the fact that any dimension of extent 1 *does not* change the number of elements in the tensor."
      ],
      "metadata": {
        "id": "5dxpTRdqiYCA"
      }
    },
    {
      "cell_type": "code",
      "source": [
        "f = torch.rand(1,1,1,1,1)\n",
        "print(f)"
      ],
      "metadata": {
        "colab": {
          "base_uri": "https://localhost:8080/"
        },
        "id": "ni7MuOVyjKH3",
        "outputId": "16ca8733-2312-4c3b-ef9a-7ff8d5a22fa2"
      },
      "execution_count": null,
      "outputs": [
        {
          "output_type": "stream",
          "name": "stdout",
          "text": [
            "tensor([[[[[0.6776]]]]])\n"
          ]
        }
      ]
    },
    {
      "cell_type": "code",
      "source": [
        "g = torch.rand(1,20)\n",
        "print(g.shape)\n",
        "print(g)"
      ],
      "metadata": {
        "colab": {
          "base_uri": "https://localhost:8080/"
        },
        "id": "tvdjhGsgjjw3",
        "outputId": "f383407b-9065-4920-b8d3-7bb971e11019"
      },
      "execution_count": null,
      "outputs": [
        {
          "output_type": "stream",
          "name": "stdout",
          "text": [
            "torch.Size([1, 20])\n",
            "tensor([[0.8323, 0.2391, 0.2215, 0.4867, 0.6418, 0.4243, 0.4272, 0.3588, 0.3616,\n",
            "         0.0756, 0.7566, 0.7580, 0.5265, 0.0769, 0.3226, 0.2676, 0.1703, 0.0250,\n",
            "         0.1297, 0.1785]])\n"
          ]
        }
      ]
    },
    {
      "cell_type": "code",
      "source": [
        "h = g.squeeze(0)\n",
        "print(h.shape)\n",
        "print(h)"
      ],
      "metadata": {
        "colab": {
          "base_uri": "https://localhost:8080/"
        },
        "id": "2DPhOvfpjp-_",
        "outputId": "fcaaec4d-3cce-4fcd-b63d-e4e86697fbf2"
      },
      "execution_count": null,
      "outputs": [
        {
          "output_type": "stream",
          "name": "stdout",
          "text": [
            "torch.Size([20])\n",
            "tensor([0.8323, 0.2391, 0.2215, 0.4867, 0.6418, 0.4243, 0.4272, 0.3588, 0.3616,\n",
            "        0.0756, 0.7566, 0.7580, 0.5265, 0.0769, 0.3226, 0.2676, 0.1703, 0.0250,\n",
            "        0.1297, 0.1785])\n"
          ]
        }
      ]
    },
    {
      "cell_type": "code",
      "source": [
        "i = torch.rand(2,2)\n",
        "print(i.shape)\n",
        "print(i)"
      ],
      "metadata": {
        "colab": {
          "base_uri": "https://localhost:8080/"
        },
        "id": "tZ9m8uZaj5uu",
        "outputId": "d106b998-5b20-45c1-8823-980e9ef086ca"
      },
      "execution_count": null,
      "outputs": [
        {
          "output_type": "stream",
          "name": "stdout",
          "text": [
            "torch.Size([2, 2])\n",
            "tensor([[0.9845, 0.7858],\n",
            "        [0.0054, 0.8430]])\n"
          ]
        }
      ]
    },
    {
      "cell_type": "code",
      "source": [
        "j = i.squeeze(0)\n",
        "print(j.shape)"
      ],
      "metadata": {
        "colab": {
          "base_uri": "https://localhost:8080/"
        },
        "id": "2c79tMi8j-m_",
        "outputId": "07d10991-73d6-4402-b5ed-eadd738eb7f2"
      },
      "execution_count": null,
      "outputs": [
        {
          "output_type": "stream",
          "name": "stdout",
          "text": [
            "torch.Size([2, 2])\n"
          ]
        }
      ]
    },
    {
      "cell_type": "markdown",
      "source": [
        "You may only `squeeze()` dimensions of extend 1.\n",
        "\n",
        "Calls to `squeeze()` and `unsqueeze()` can only act on dimensions of extent 1 because to do otherwise would change the number of elements in the tensor."
      ],
      "metadata": {
        "id": "oQMhWZDgkQyH"
      }
    },
    {
      "cell_type": "code",
      "source": [
        "k = torch.ones(4,3,2)\n",
        "print(k)"
      ],
      "metadata": {
        "colab": {
          "base_uri": "https://localhost:8080/"
        },
        "id": "ATRCdETvlOHb",
        "outputId": "32dbaaa4-e998-4685-dfe8-0f49ece1762f"
      },
      "execution_count": null,
      "outputs": [
        {
          "output_type": "stream",
          "name": "stdout",
          "text": [
            "tensor([[[1., 1.],\n",
            "         [1., 1.],\n",
            "         [1., 1.]],\n",
            "\n",
            "        [[1., 1.],\n",
            "         [1., 1.],\n",
            "         [1., 1.]],\n",
            "\n",
            "        [[1., 1.],\n",
            "         [1., 1.],\n",
            "         [1., 1.]],\n",
            "\n",
            "        [[1., 1.],\n",
            "         [1., 1.],\n",
            "         [1., 1.]]])\n"
          ]
        }
      ]
    },
    {
      "cell_type": "code",
      "source": [
        "l = k * torch.rand(3,1)\n",
        "print(l)"
      ],
      "metadata": {
        "colab": {
          "base_uri": "https://localhost:8080/"
        },
        "id": "-TklnRqElVfP",
        "outputId": "be88ee90-a58f-4da2-d31d-03339a22543c"
      },
      "execution_count": null,
      "outputs": [
        {
          "output_type": "stream",
          "name": "stdout",
          "text": [
            "tensor([[[0.1269, 0.1269],\n",
            "         [0.0603, 0.0603],\n",
            "         [0.5838, 0.5838]],\n",
            "\n",
            "        [[0.1269, 0.1269],\n",
            "         [0.0603, 0.0603],\n",
            "         [0.5838, 0.5838]],\n",
            "\n",
            "        [[0.1269, 0.1269],\n",
            "         [0.0603, 0.0603],\n",
            "         [0.5838, 0.5838]],\n",
            "\n",
            "        [[0.1269, 0.1269],\n",
            "         [0.0603, 0.0603],\n",
            "         [0.5838, 0.5838]]])\n"
          ]
        }
      ]
    },
    {
      "cell_type": "code",
      "source": [
        "m = torch.ones(4,3,2)\n",
        "n = torch.rand(3)\n",
        "o = n.unsqueeze(1)\n",
        "\n",
        "print(m)\n",
        "print(n)\n",
        "print(o)\n",
        "print(o.shape)\n",
        "print(m * o)"
      ],
      "metadata": {
        "colab": {
          "base_uri": "https://localhost:8080/"
        },
        "id": "mnDdqaHZljxe",
        "outputId": "da38dbe8-c1ac-429d-cc4f-681a3ebf19d0"
      },
      "execution_count": null,
      "outputs": [
        {
          "output_type": "stream",
          "name": "stdout",
          "text": [
            "tensor([[[1., 1.],\n",
            "         [1., 1.],\n",
            "         [1., 1.]],\n",
            "\n",
            "        [[1., 1.],\n",
            "         [1., 1.],\n",
            "         [1., 1.]],\n",
            "\n",
            "        [[1., 1.],\n",
            "         [1., 1.],\n",
            "         [1., 1.]],\n",
            "\n",
            "        [[1., 1.],\n",
            "         [1., 1.],\n",
            "         [1., 1.]]])\n",
            "tensor([0.5477, 0.1734, 0.5365])\n",
            "tensor([[0.5477],\n",
            "        [0.1734],\n",
            "        [0.5365]])\n",
            "torch.Size([3, 1])\n",
            "tensor([[[0.5477, 0.5477],\n",
            "         [0.1734, 0.1734],\n",
            "         [0.5365, 0.5365]],\n",
            "\n",
            "        [[0.5477, 0.5477],\n",
            "         [0.1734, 0.1734],\n",
            "         [0.5365, 0.5365]],\n",
            "\n",
            "        [[0.5477, 0.5477],\n",
            "         [0.1734, 0.1734],\n",
            "         [0.5365, 0.5365]],\n",
            "\n",
            "        [[0.5477, 0.5477],\n",
            "         [0.1734, 0.1734],\n",
            "         [0.5365, 0.5365]]])\n"
          ]
        }
      ]
    },
    {
      "cell_type": "markdown",
      "source": [
        "The `squeeze()` and `unsqueeze()` methods also hevwe in-place versions `squeeze_()` and `unsqueeze_()`"
      ],
      "metadata": {
        "id": "OI0OS826mBv-"
      }
    },
    {
      "cell_type": "code",
      "source": [
        "batch_me = torch.rand(3,226,226)\n",
        "print(batch_me.shape)"
      ],
      "metadata": {
        "colab": {
          "base_uri": "https://localhost:8080/"
        },
        "id": "22nIy9dBmQPO",
        "outputId": "cd194dbf-ae94-401a-8bca-b7be8d62a43a"
      },
      "execution_count": null,
      "outputs": [
        {
          "output_type": "stream",
          "name": "stdout",
          "text": [
            "torch.Size([3, 226, 226])\n"
          ]
        }
      ]
    },
    {
      "cell_type": "code",
      "source": [
        "batch_me.unsqueeze_(0)\n",
        "print(batch_me.shape)"
      ],
      "metadata": {
        "colab": {
          "base_uri": "https://localhost:8080/"
        },
        "id": "ZfJsH2fzmY5W",
        "outputId": "5d54d7a5-7279-4c29-db88-357627824c92"
      },
      "execution_count": null,
      "outputs": [
        {
          "output_type": "stream",
          "name": "stdout",
          "text": [
            "torch.Size([1, 3, 226, 226])\n"
          ]
        }
      ]
    },
    {
      "cell_type": "markdown",
      "source": [
        "Change the shape of a tensor more radically, while still preserving the number of elements and their contents. One case whre this happens is at the interface between a convolutional layer of a model and a linear layer of the model - this is common in image classification models. A convolutional kernel will yield an output tensor of shape *features x width x height*, but the following layer expects a 1-dimensional input. `reshape()` will do this for you, provided tha the dimensions you request yield the same number of elements as the input tensor has."
      ],
      "metadata": {
        "id": "lT0LlKxEnpnb"
      }
    },
    {
      "cell_type": "code",
      "source": [
        "output3d = torch.rand(6,20,20)\n",
        "print(output3d.shape)"
      ],
      "metadata": {
        "colab": {
          "base_uri": "https://localhost:8080/"
        },
        "id": "Fps7LDP0pbU9",
        "outputId": "773e7f59-2a1f-4628-9fea-f8f3d8049a51"
      },
      "execution_count": null,
      "outputs": [
        {
          "output_type": "stream",
          "name": "stdout",
          "text": [
            "torch.Size([6, 20, 20])\n"
          ]
        }
      ]
    },
    {
      "cell_type": "code",
      "source": [
        "input1d = output3d.reshape( 6 * 20 * 20)\n",
        "print(input1d.shape)"
      ],
      "metadata": {
        "colab": {
          "base_uri": "https://localhost:8080/"
        },
        "id": "2c0EJ8d9piG1",
        "outputId": "54cfb63c-b6eb-4534-de4d-fe63a9cc6a15"
      },
      "execution_count": null,
      "outputs": [
        {
          "output_type": "stream",
          "name": "stdout",
          "text": [
            "torch.Size([2400])\n"
          ]
        }
      ]
    },
    {
      "cell_type": "code",
      "source": [
        "# can also call it as a method on the torhc module\n",
        "print(torch.reshape(output3d, (6*20*20,)).shape)"
      ],
      "metadata": {
        "colab": {
          "base_uri": "https://localhost:8080/"
        },
        "id": "raSGNn-cpugV",
        "outputId": "99fdc709-d8ae-4b1b-af6e-d40a06dfd220"
      },
      "execution_count": null,
      "outputs": [
        {
          "output_type": "stream",
          "name": "stdout",
          "text": [
            "torch.Size([2400])\n"
          ]
        }
      ]
    },
    {
      "cell_type": "markdown",
      "source": [
        "## NumPy Bridge\n"
      ],
      "metadata": {
        "id": "23P8PYTFqed2"
      }
    },
    {
      "cell_type": "code",
      "source": [
        "import numpy as np\n",
        "\n",
        "numpy_array = np.ones((2,3))\n",
        "print(numpy_array)"
      ],
      "metadata": {
        "colab": {
          "base_uri": "https://localhost:8080/"
        },
        "id": "-jBQZzIFqqq1",
        "outputId": "9fe797f7-2fa0-402a-8d72-866f9d742105"
      },
      "execution_count": null,
      "outputs": [
        {
          "output_type": "stream",
          "name": "stdout",
          "text": [
            "[[1. 1. 1.]\n",
            " [1. 1. 1.]]\n"
          ]
        }
      ]
    },
    {
      "cell_type": "code",
      "source": [
        "pytorch_tensor = torch.from_numpy(numpy_array)\n",
        "print(pytorch_tensor)"
      ],
      "metadata": {
        "colab": {
          "base_uri": "https://localhost:8080/"
        },
        "id": "nH8ZnkI9q0yh",
        "outputId": "9ff6af42-39c5-4a46-d56b-a55495d17c98"
      },
      "execution_count": null,
      "outputs": [
        {
          "output_type": "stream",
          "name": "stdout",
          "text": [
            "tensor([[1., 1., 1.],\n",
            "        [1., 1., 1.]], dtype=torch.float64)\n"
          ]
        }
      ]
    },
    {
      "cell_type": "code",
      "source": [
        "rand_pytorch = torch.rand(3,4)\n",
        "print(rand_pytorch)"
      ],
      "metadata": {
        "colab": {
          "base_uri": "https://localhost:8080/"
        },
        "id": "zuM8NDQnrHyl",
        "outputId": "d442bee0-5fb4-4438-a1f5-1afabcff8f2b"
      },
      "execution_count": null,
      "outputs": [
        {
          "output_type": "stream",
          "name": "stdout",
          "text": [
            "tensor([[0.3954, 0.0095, 0.8254, 0.8930],\n",
            "        [0.1860, 0.0600, 0.3284, 0.9694],\n",
            "        [0.8756, 0.2252, 0.5117, 0.7928]])\n"
          ]
        }
      ]
    },
    {
      "cell_type": "code",
      "source": [
        "rand_numpy = rand_pytorch.numpy()\n",
        "print(rand_numpy)"
      ],
      "metadata": {
        "colab": {
          "base_uri": "https://localhost:8080/"
        },
        "id": "v3kcaVPtrN9N",
        "outputId": "cf5c471a-86ce-4d6e-a63c-ae6513358dd7"
      },
      "execution_count": null,
      "outputs": [
        {
          "output_type": "stream",
          "name": "stdout",
          "text": [
            "[[0.39537996 0.00950062 0.82537323 0.8929838 ]\n",
            " [0.18599337 0.06004375 0.32843876 0.9694138 ]\n",
            " [0.87563914 0.22523832 0.5117328  0.7928024 ]]\n"
          ]
        }
      ]
    },
    {
      "cell_type": "markdown",
      "source": [
        "It is important to know that these converted objects are using *the same underlying memory* as their source objects, meaning that changes to one are reflected in the other."
      ],
      "metadata": {
        "id": "HxctDSJ4rZm-"
      }
    },
    {
      "cell_type": "code",
      "source": [
        "numpy_array[1,1] = 23\n",
        "print(pytorch_tensor)"
      ],
      "metadata": {
        "colab": {
          "base_uri": "https://localhost:8080/"
        },
        "id": "uRc7Q9VKrojN",
        "outputId": "2ebfc1b2-5b73-42c9-bfea-7c7143cf4565"
      },
      "execution_count": null,
      "outputs": [
        {
          "output_type": "stream",
          "name": "stdout",
          "text": [
            "tensor([[ 1.,  1.,  1.],\n",
            "        [ 1., 23.,  1.]], dtype=torch.float64)\n"
          ]
        }
      ]
    },
    {
      "cell_type": "code",
      "source": [
        "rand_pytorch[1,1] = 18\n",
        "print(rand_numpy)"
      ],
      "metadata": {
        "colab": {
          "base_uri": "https://localhost:8080/"
        },
        "id": "l1E333hOruWv",
        "outputId": "6298f9ee-9307-4704-f460-631005221109"
      },
      "execution_count": null,
      "outputs": [
        {
          "output_type": "stream",
          "name": "stdout",
          "text": [
            "[[3.9537996e-01 9.5006227e-03 8.2537323e-01 8.9298379e-01]\n",
            " [1.8599337e-01 1.8000000e+01 3.2843876e-01 9.6941382e-01]\n",
            " [8.7563914e-01 2.2523832e-01 5.1173282e-01 7.9280239e-01]]\n"
          ]
        }
      ]
    }
  ]
}