{
  "nbformat": 4,
  "nbformat_minor": 0,
  "metadata": {
    "colab": {
      "provenance": [],
      "gpuType": "T4",
      "authorship_tag": "ABX9TyPCTDs2ZNuw52WsU46bGdN0",
      "include_colab_link": true
    },
    "kernelspec": {
      "name": "python3",
      "display_name": "Python 3"
    },
    "language_info": {
      "name": "python"
    },
    "accelerator": "GPU"
  },
  "cells": [
    {
      "cell_type": "markdown",
      "metadata": {
        "id": "view-in-github",
        "colab_type": "text"
      },
      "source": [
        "<a href=\"https://colab.research.google.com/github/BedinEduardo/Colab_Repositories/blob/master/00_PyTorch_Exercices.ipynb\" target=\"_parent\"><img src=\"https://colab.research.google.com/assets/colab-badge.svg\" alt=\"Open In Colab\"/></a>"
      ]
    },
    {
      "cell_type": "markdown",
      "source": [
        "###PYtorch Exercises module 00 - fundamentals"
      ],
      "metadata": {
        "id": "YrTXvgBVtuNt"
      }
    },
    {
      "cell_type": "code",
      "source": [
        "import torch #importing the library"
      ],
      "metadata": {
        "id": "HcuMYbJrufyl"
      },
      "execution_count": null,
      "outputs": []
    },
    {
      "cell_type": "code",
      "execution_count": null,
      "metadata": {
        "colab": {
          "base_uri": "https://localhost:8080/"
        },
        "id": "283XjqEgtdMJ",
        "outputId": "0dd09be5-0277-4a9c-f8f6-2ec9923aae51"
      },
      "outputs": [
        {
          "output_type": "stream",
          "name": "stdout",
          "text": [
            "Random tensor:  tensor([[0.6970, 0.7678, 0.5601, 0.9336, 0.3840, 0.4923, 0.7533],\n",
            "        [0.6560, 0.4695, 0.9222, 0.0897, 0.9918, 0.4267, 0.2466],\n",
            "        [0.0823, 0.7178, 0.9357, 0.5678, 0.4773, 0.1640, 0.1206],\n",
            "        [0.8604, 0.8529, 0.5621, 0.5305, 0.3004, 0.1718, 0.0619],\n",
            "        [0.7505, 0.4882, 0.6677, 0.4685, 0.7107, 0.6435, 0.8683],\n",
            "        [0.8651, 0.5756, 0.3728, 0.1925, 0.8055, 0.9776, 0.1715],\n",
            "        [0.4401, 0.6684, 0.0522, 0.0375, 0.0054, 0.8523, 0.9348]])\n"
          ]
        }
      ],
      "source": [
        "###Create a random tensor of 7x7\n",
        "tensor = torch.rand(7,7)\n",
        "print(\"Random tensor: \", tensor)"
      ]
    },
    {
      "cell_type": "code",
      "source": [
        "tensor_2 = torch.rand(1,7)  #(7x7) x (1,7) can't be muliplied\n",
        "\n",
        "tensor_2_transpose = tensor_2.T\n",
        "\n",
        "print(\"Tensor 2: \", tensor_2)\n",
        "print(\"\\n\")\n",
        "\n",
        "print(\"Tensor2 transpose: \", tensor_2_transpose)\n",
        "\n",
        "#perform a multiplication tensor 2 x tensor\n",
        "tensor_multi = torch.matmul(tensor_2, tensor)\n",
        "\n",
        "tensor_multi_T = torch.matmul(tensor, tensor_2_transpose)\n",
        "print(\"\\n\")\n",
        "print(\"Tensor multiplied: \", tensor_multi)\n",
        "print(\"\\n\")\n",
        "print(\"Tensor multiplied T: \", tensor_multi_T)"
      ],
      "metadata": {
        "colab": {
          "base_uri": "https://localhost:8080/"
        },
        "id": "K3px9CyVupuv",
        "outputId": "a35b5b27-608c-4d04-ab95-ab20e026a57d"
      },
      "execution_count": null,
      "outputs": [
        {
          "output_type": "stream",
          "name": "stdout",
          "text": [
            "Tensor 2:  tensor([[0.9817, 0.8422, 0.7623, 0.3325, 0.6063, 0.4206, 0.8056]])\n",
            "\n",
            "\n",
            "Tensor2 transpose:  tensor([[0.9817],\n",
            "        [0.8422],\n",
            "        [0.7623],\n",
            "        [0.3325],\n",
            "        [0.6063],\n",
            "        [0.4206],\n",
            "        [0.8056]])\n",
            "\n",
            "\n",
            "Tensor multiplied:  tensor([[2.7590, 3.0565, 2.8304, 1.9965, 2.4501, 2.5128, 2.4114]])\n",
            "\n",
            "\n",
            "Tensor multiplied T:  tensor([[3.1150],\n",
            "        [2.7518],\n",
            "        [2.0429],\n",
            "        [2.4721],\n",
            "        [3.2137],\n",
            "        [2.7200],\n",
            "        [2.1621]])\n"
          ]
        }
      ]
    },
    {
      "cell_type": "code",
      "source": [
        "#now inserting a random seed - to generate random tensors\n",
        "RANDOM_SEED = 0\n",
        "#tensor_seed = torch.manual_seed(RANDOM_SEED)\n",
        "torch.manual_seed(RANDOM_SEED)\n",
        "\n",
        "random_tensor_c = torch.rand(7,7)\n",
        "torch.manual_seed(RANDOM_SEED)\n",
        "tensor_d = torch.rand(1,7)\n",
        "transposed_e = tensor_d.T\n",
        "\n",
        "multi_d_c = torch.matmul(tensor_d, random_tensor_c)\n",
        "multi_c_d = torch.matmul(random_tensor_c, transposed_e)\n",
        "\n",
        "\n",
        "print(\"Tensor c: \", random_tensor_c)\n",
        "print(\"\\n\")\n",
        "print(\"Tensor D: \", tensor_d, \"\\n\")\n",
        "print(\"C x D: \", multi_d_c, \"\\n\")\n",
        "print(\"D x C: \", multi_c_d,\"\\n\")"
      ],
      "metadata": {
        "colab": {
          "base_uri": "https://localhost:8080/"
        },
        "id": "MZaGy2_Cv9dY",
        "outputId": "0237fdf8-a2e0-4254-a90f-5c8c01619646"
      },
      "execution_count": null,
      "outputs": [
        {
          "output_type": "stream",
          "name": "stdout",
          "text": [
            "Tensor c:  tensor([[0.4963, 0.7682, 0.0885, 0.1320, 0.3074, 0.6341, 0.4901],\n",
            "        [0.8964, 0.4556, 0.6323, 0.3489, 0.4017, 0.0223, 0.1689],\n",
            "        [0.2939, 0.5185, 0.6977, 0.8000, 0.1610, 0.2823, 0.6816],\n",
            "        [0.9152, 0.3971, 0.8742, 0.4194, 0.5529, 0.9527, 0.0362],\n",
            "        [0.1852, 0.3734, 0.3051, 0.9320, 0.1759, 0.2698, 0.1507],\n",
            "        [0.0317, 0.2081, 0.9298, 0.7231, 0.7423, 0.5263, 0.2437],\n",
            "        [0.5846, 0.0332, 0.1387, 0.2422, 0.8155, 0.7932, 0.2783]])\n",
            "\n",
            "\n",
            "Tensor D:  tensor([[0.4963, 0.7682, 0.0885, 0.1320, 0.3074, 0.6341, 0.4901]]) \n",
            "\n",
            "C x D:  tensor([[1.4453, 1.0926, 1.4581, 1.3235, 1.4729, 1.2880, 0.7752]]) \n",
            "\n",
            "D x C:  tensor([[1.5985],\n",
            "        [1.1173],\n",
            "        [1.2741],\n",
            "        [1.6838],\n",
            "        [0.8279],\n",
            "        [1.0347],\n",
            "        [1.2498]]) \n",
            "\n"
          ]
        }
      ]
    },
    {
      "cell_type": "code",
      "source": [
        "#random tensor fof shape (2,3)\n",
        "torch.manual_seed(1234)  #this value is for GPU\n",
        "tensor_a = torch.rand(2,3)\n",
        "tensor_b = torch.rand(2,3)\n"
      ],
      "metadata": {
        "id": "rK3NuhSZz64N"
      },
      "execution_count": null,
      "outputs": []
    },
    {
      "cell_type": "code",
      "source": [
        "torch.cuda.is_available()\n"
      ],
      "metadata": {
        "colab": {
          "base_uri": "https://localhost:8080/"
        },
        "id": "hhzB_Y9b0Zd6",
        "outputId": "fc89bfbc-bd34-4dc3-ede5-8e387cc2f064"
      },
      "execution_count": null,
      "outputs": [
        {
          "output_type": "execute_result",
          "data": {
            "text/plain": [
              "True"
            ]
          },
          "metadata": {},
          "execution_count": 6
        }
      ]
    },
    {
      "cell_type": "code",
      "source": [
        "device = \"cuda\" if torch.cuda.is_available() else \"cpu\"\n",
        "\n",
        "print(\"device: \", device)\n"
      ],
      "metadata": {
        "colab": {
          "base_uri": "https://localhost:8080/"
        },
        "id": "cdA_l4xf0g4z",
        "outputId": "820d8db7-00ae-4299-bc2e-624bec134e0b"
      },
      "execution_count": null,
      "outputs": [
        {
          "output_type": "stream",
          "name": "stdout",
          "text": [
            "device:  cuda\n"
          ]
        }
      ]
    },
    {
      "cell_type": "code",
      "source": [
        "#count the number of gpu\n",
        "torch.cuda.device_count()"
      ],
      "metadata": {
        "colab": {
          "base_uri": "https://localhost:8080/"
        },
        "id": "3Uhbn9JD0vFT",
        "outputId": "99d6fe91-36db-4839-818d-96969c4c9400"
      },
      "execution_count": null,
      "outputs": [
        {
          "output_type": "execute_result",
          "data": {
            "text/plain": [
              "1"
            ]
          },
          "metadata": {},
          "execution_count": 8
        }
      ]
    },
    {
      "cell_type": "code",
      "source": [
        "#putting the tensor on GPU\n",
        "tensor_on_gpu = tensor.to(device)  #receiving the device path"
      ],
      "metadata": {
        "id": "D_wJUaDs06u5"
      },
      "execution_count": null,
      "outputs": []
    },
    {
      "cell_type": "code",
      "source": [
        "#performing the matrix multiplication a and b\n",
        "\n",
        "tranposed = tensor_b.T\n",
        "print(\"transposed: \", tranposed, \"\\n\")\n",
        "\n",
        "multiplication = torch.matmul(tensor_a, tranposed)\n",
        "\n",
        "print(\"multiplicated: \", multiplication,\"\\n\")"
      ],
      "metadata": {
        "colab": {
          "base_uri": "https://localhost:8080/"
        },
        "id": "_sOBct0E1pEA",
        "outputId": "3a109f60-52bf-42ed-edc2-8bf5363ead71"
      },
      "execution_count": null,
      "outputs": [
        {
          "output_type": "stream",
          "name": "stdout",
          "text": [
            "transposed:  tensor([[0.0518, 0.3315],\n",
            "        [0.4681, 0.7837],\n",
            "        [0.6738, 0.5631]]) \n",
            "\n",
            "multiplicated:  tensor([[0.3647, 0.4709],\n",
            "        [0.5184, 0.5617]]) \n",
            "\n"
          ]
        }
      ]
    },
    {
      "cell_type": "code",
      "source": [
        "#finding the min, mas and mean\n",
        "#min\n",
        "minimo = torch.min(multiplication)\n",
        "maximo = torch.max(multiplication)\n",
        "\n",
        "print(\"Minimo: \", minimo, \"\\n\", \"Maximo: \", maximo, \"\\n\")"
      ],
      "metadata": {
        "colab": {
          "base_uri": "https://localhost:8080/"
        },
        "id": "x8gcmeox4hSE",
        "outputId": "1b87e53d-9af0-43f8-ed84-3ece1fd43649"
      },
      "execution_count": null,
      "outputs": [
        {
          "output_type": "stream",
          "name": "stdout",
          "text": [
            "Minimo:  tensor(0.3647) \n",
            " Maximo:  tensor(0.5617) \n",
            "\n"
          ]
        }
      ]
    },
    {
      "cell_type": "code",
      "source": [
        "#finding the positions of mean and maximum\n",
        "\n",
        "max_position = multiplication.argmax()\n",
        "min_position = multiplication.argmin()\n",
        "\n",
        "print(\"Max position: \", max_position, \"\\n\", \"Min position: \", min_position,\"\\n\")"
      ],
      "metadata": {
        "colab": {
          "base_uri": "https://localhost:8080/"
        },
        "id": "WXQDpySk5BWj",
        "outputId": "73840a5d-70be-4746-9d1c-0605a8cba171"
      },
      "execution_count": null,
      "outputs": [
        {
          "output_type": "stream",
          "name": "stdout",
          "text": [
            "Max position:  tensor(3) \n",
            " Min position:  tensor(0) \n",
            "\n"
          ]
        }
      ]
    },
    {
      "cell_type": "code",
      "source": [
        "#random tensor\n",
        "RANDOM_SED = 7\n",
        "torch.manual_seed(RANDOM_SED)\n",
        "tensor_rand = torch.rand(1,1,1,10)\n",
        "torch.manual_seed(RANDOM_SED)\n",
        "tensor_2 = torch.rand(10)\n",
        "\n",
        "print(\"rand: \", tensor_rand,\"\\n\")\n",
        "print(\"2: \", tensor_2,\"\\n\")"
      ],
      "metadata": {
        "colab": {
          "base_uri": "https://localhost:8080/"
        },
        "id": "96DjFa4095EN",
        "outputId": "71bee83b-8399-4369-b2be-5f71febb939f"
      },
      "execution_count": null,
      "outputs": [
        {
          "output_type": "stream",
          "name": "stdout",
          "text": [
            "rand:  tensor([[[[0.5349, 0.1988, 0.6592, 0.6569, 0.2328, 0.4251, 0.2071, 0.6297,\n",
            "           0.3653, 0.8513]]]]) \n",
            "\n",
            "2:  tensor([0.5349, 0.1988, 0.6592, 0.6569, 0.2328, 0.4251, 0.2071, 0.6297, 0.3653,\n",
            "        0.8513]) \n",
            "\n"
          ]
        }
      ]
    }
  ]
}