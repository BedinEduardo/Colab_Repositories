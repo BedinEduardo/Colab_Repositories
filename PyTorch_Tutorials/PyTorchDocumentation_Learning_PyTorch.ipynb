{
  "nbformat": 4,
  "nbformat_minor": 0,
  "metadata": {
    "colab": {
      "provenance": [],
      "authorship_tag": "ABX9TyNEdyI/o9hZy+HDKKczmxg8",
      "include_colab_link": true
    },
    "kernelspec": {
      "name": "python3",
      "display_name": "Python 3"
    },
    "language_info": {
      "name": "python"
    }
  },
  "cells": [
    {
      "cell_type": "markdown",
      "metadata": {
        "id": "view-in-github",
        "colab_type": "text"
      },
      "source": [
        "<a href=\"https://colab.research.google.com/github/BedinEduardo/Colab_Repositories/blob/master/PyTorchDocumentation_Learning_PyTorch.ipynb\" target=\"_parent\"><img src=\"https://colab.research.google.com/assets/colab-badge.svg\" alt=\"Open In Colab\"/></a>"
      ]
    },
    {
      "cell_type": "markdown",
      "source": [
        "# Deep Learning With PyTorch: A 60 Minute Blits\n",
        "\n",
        "## What is PyTorch\n",
        "\n",
        "PyTorch is Python-based scientific computing package saving two board proposes:\n",
        "\n",
        "* A Replacement for NumPy to use the power of GPU and other accelerators\n",
        "* An automatic differentiation library that is useful to implement neural networks.\n",
        "\n",
        "\n",
        "## Tensors\n",
        "\n",
        "Tensors are a specialized data structure that very similar to arrays and matices.\n",
        "In PyTorch, we use tensors to encode the inputs and outputs of a model, as well as the model's parameters.\n",
        "\n",
        "Tensors are similar to NumPy's ndarrays, except that tensors can run on GPU's or other specialized hardware to accelerate computing"
      ],
      "metadata": {
        "id": "4pr0eaFYYrCK"
      }
    },
    {
      "cell_type": "code",
      "source": [
        "import torch\n",
        "import numpy as np"
      ],
      "metadata": {
        "id": "M4OzShGebNbY"
      },
      "execution_count": null,
      "outputs": []
    },
    {
      "cell_type": "markdown",
      "source": [
        "## Tensor Initialization"
      ],
      "metadata": {
        "id": "dVAsJtT_bQFN"
      }
    },
    {
      "cell_type": "code",
      "source": [
        "# Direct from data:\n",
        "data = [[1,2], [3,4]]\n",
        "x_data = torch.tensor(data)\n",
        "print(x_data)"
      ],
      "metadata": {
        "colab": {
          "base_uri": "https://localhost:8080/"
        },
        "id": "2qUwC1lkbZxm",
        "outputId": "c4474bdc-9f16-4cad-a8ba-b78b117f30f3"
      },
      "execution_count": null,
      "outputs": [
        {
          "output_type": "stream",
          "name": "stdout",
          "text": [
            "tensor([[1, 2],\n",
            "        [3, 4]])\n"
          ]
        }
      ]
    },
    {
      "cell_type": "code",
      "source": [
        "# From Numpy array:\n",
        "np_array = np.array(data)\n",
        "print(np_array)\n",
        "x_np = torch.from_numpy(np_array)\n",
        "print(x_np)"
      ],
      "metadata": {
        "colab": {
          "base_uri": "https://localhost:8080/"
        },
        "id": "SJOqJxVabi-j",
        "outputId": "1609ae4d-8b39-4bf1-8059-e71155bcf059"
      },
      "execution_count": null,
      "outputs": [
        {
          "output_type": "stream",
          "name": "stdout",
          "text": [
            "[[1 2]\n",
            " [3 4]]\n",
            "tensor([[1, 2],\n",
            "        [3, 4]])\n"
          ]
        }
      ]
    },
    {
      "cell_type": "code",
      "source": [
        "# From another tensor\n",
        "# The new tensor retains the properties (shape, datatype) of the argument tensor, unless explicity overriden\n",
        "\n",
        "x_ones = torch.ones_like(x_data)  #retains the properties do x_dta\n",
        "print(x_ones)\n",
        "\n",
        "x_rand = torch.rand_like(x_data, dtype=torch.float)  # overrides the datatype of x_data\n",
        "print(x_rand)"
      ],
      "metadata": {
        "colab": {
          "base_uri": "https://localhost:8080/"
        },
        "id": "jwcve2XCb3FV",
        "outputId": "079ca000-f109-404e-d5a3-3f8550c9a56c"
      },
      "execution_count": null,
      "outputs": [
        {
          "output_type": "stream",
          "name": "stdout",
          "text": [
            "tensor([[1, 1],\n",
            "        [1, 1]])\n",
            "tensor([[0.0073, 0.2682],\n",
            "        [0.4836, 0.6428]])\n"
          ]
        }
      ]
    },
    {
      "cell_type": "code",
      "source": [
        "# With random or constant values\n",
        "# `shape` is a tuple fo tensor dimensions - determines the dimensionality of the output tensor.\n",
        "shape = (2,3)\n",
        "rand_tensor = torch.rand(shape)\n",
        "print(rand_tensor)\n",
        "\n",
        "ones_tensor = torch.ones(shape)\n",
        "print(ones_tensor)\n",
        "\n",
        "zeros_tensor = torch.zeros(shape)\n",
        "print(zeros_tensor)"
      ],
      "metadata": {
        "colab": {
          "base_uri": "https://localhost:8080/"
        },
        "id": "H7AmfuHLdGeJ",
        "outputId": "50c014a9-0285-4935-bed4-0835df7a2270"
      },
      "execution_count": null,
      "outputs": [
        {
          "output_type": "stream",
          "name": "stdout",
          "text": [
            "tensor([[0.7988, 0.7754, 0.1792],\n",
            "        [0.9162, 0.1904, 0.0815]])\n",
            "tensor([[1., 1., 1.],\n",
            "        [1., 1., 1.]])\n",
            "tensor([[0., 0., 0.],\n",
            "        [0., 0., 0.]])\n"
          ]
        }
      ]
    },
    {
      "cell_type": "markdown",
      "source": [
        "## Tensor Attributes\n",
        "\n",
        "Tensors attributes describes their shape, datatype, and the device on which they are stored."
      ],
      "metadata": {
        "id": "_-JbN4y-dhsi"
      }
    },
    {
      "cell_type": "code",
      "source": [
        "tensor = torch.rand(3,4)\n",
        "print(f\"Shape: {tensor.shape}\")\n",
        "print(f\"Dataytype: {tensor.dtype}\")\n",
        "print(f\"Device tensor is stored on: {tensor.device}\")"
      ],
      "metadata": {
        "colab": {
          "base_uri": "https://localhost:8080/"
        },
        "id": "4YnXQLF5RpEb",
        "outputId": "e9c2e67b-26dd-42f8-d08a-efef9d1d5a01"
      },
      "execution_count": null,
      "outputs": [
        {
          "output_type": "stream",
          "name": "stdout",
          "text": [
            "Shape: torch.Size([3, 4])\n",
            "Dataytype: torch.float32\n",
            "Device tensor is stored on: cpu\n"
          ]
        }
      ]
    },
    {
      "cell_type": "markdown",
      "source": [
        "## Tensors Operations\n",
        "\n",
        "Over 100 operations, including transposing, indexing, slicing, mathematical operations, linear algerbra, random sampling, and more are comprehensively described **here**.\n",
        "\n",
        "Eachof them can be run on GPU"
      ],
      "metadata": {
        "id": "ytmYIyobR-AD"
      }
    },
    {
      "cell_type": "code",
      "source": [
        "# Move our tensor to the GPU if available\n",
        "if torch.cuda.is_available():\n",
        "  tensor = tensor.to('cuda')\n",
        "  print(f\"Device tensor moved to {tensor.device}\")\n",
        "else:\n",
        "  tensor = tensor.to('cpu')\n",
        "  print(f\"Device tensor moved to {tensor.device}\")"
      ],
      "metadata": {
        "colab": {
          "base_uri": "https://localhost:8080/"
        },
        "id": "7F-T7ZYUSbR_",
        "outputId": "50b449fb-ba67-4b79-dd34-a30815657513"
      },
      "execution_count": null,
      "outputs": [
        {
          "output_type": "stream",
          "name": "stdout",
          "text": [
            "Device tensor moved to cpu\n"
          ]
        }
      ]
    },
    {
      "cell_type": "markdown",
      "source": [
        "Try out some of the operations from the list. If you are familiar with the NumPy API."
      ],
      "metadata": {
        "id": "nlsA3miiTJ5m"
      }
    },
    {
      "cell_type": "code",
      "source": [
        "# Standard numpy-like indexing and slicing\n",
        "tensor = torch.ones(4,4)\n",
        "tensor[:,3] = 0.99\n",
        "print(tensor)"
      ],
      "metadata": {
        "colab": {
          "base_uri": "https://localhost:8080/"
        },
        "id": "eGRb678ATY1e",
        "outputId": "245b8f2d-e260-422e-e6b2-867b076f6f72"
      },
      "execution_count": null,
      "outputs": [
        {
          "output_type": "stream",
          "name": "stdout",
          "text": [
            "tensor([[1.0000, 1.0000, 1.0000, 0.9900],\n",
            "        [1.0000, 1.0000, 1.0000, 0.9900],\n",
            "        [1.0000, 1.0000, 1.0000, 0.9900],\n",
            "        [1.0000, 1.0000, 1.0000, 0.9900]])\n"
          ]
        }
      ]
    },
    {
      "cell_type": "markdown",
      "source": [
        "**Joining tensors**: You can use `torch.cat` to concatenate a sequence of tensors along a given dimension. See also `torch.stack`-> subtle different from `torch.cat`"
      ],
      "metadata": {
        "id": "LI8_cjBBTqUQ"
      }
    },
    {
      "cell_type": "code",
      "source": [
        "t1 = torch.cat([tensor,tensor,tensor], dim=1)\n",
        "print(t1)"
      ],
      "metadata": {
        "colab": {
          "base_uri": "https://localhost:8080/"
        },
        "id": "ClPntPu_UDJo",
        "outputId": "7a187b8d-c1f8-4063-daba-72e32a1f90be"
      },
      "execution_count": null,
      "outputs": [
        {
          "output_type": "stream",
          "name": "stdout",
          "text": [
            "tensor([[1.0000, 1.0000, 1.0000, 0.9900, 1.0000, 1.0000, 1.0000, 0.9900, 1.0000,\n",
            "         1.0000, 1.0000, 0.9900],\n",
            "        [1.0000, 1.0000, 1.0000, 0.9900, 1.0000, 1.0000, 1.0000, 0.9900, 1.0000,\n",
            "         1.0000, 1.0000, 0.9900],\n",
            "        [1.0000, 1.0000, 1.0000, 0.9900, 1.0000, 1.0000, 1.0000, 0.9900, 1.0000,\n",
            "         1.0000, 1.0000, 0.9900],\n",
            "        [1.0000, 1.0000, 1.0000, 0.9900, 1.0000, 1.0000, 1.0000, 0.9900, 1.0000,\n",
            "         1.0000, 1.0000, 0.9900]])\n"
          ]
        }
      ]
    },
    {
      "cell_type": "code",
      "source": [
        "# Multiplying tensors\n",
        "# This computes the element-wise product\n",
        "print(f\"tensor.mul(tensor): \\n {tensor.mul(tensor)}\")\n",
        "print(f\"\\n tensor x tensor: \\n {tensor*tensor}\")"
      ],
      "metadata": {
        "colab": {
          "base_uri": "https://localhost:8080/"
        },
        "id": "lHmgBM16UTeF",
        "outputId": "09803f93-8d94-4d35-afb6-c4bbd8b71e37"
      },
      "execution_count": null,
      "outputs": [
        {
          "output_type": "stream",
          "name": "stdout",
          "text": [
            "tensor.mul(tensor): \n",
            " tensor([[1.0000, 1.0000, 1.0000, 0.9801],\n",
            "        [1.0000, 1.0000, 1.0000, 0.9801],\n",
            "        [1.0000, 1.0000, 1.0000, 0.9801],\n",
            "        [1.0000, 1.0000, 1.0000, 0.9801]])\n",
            "\n",
            " tensor x tensor: \n",
            " tensor([[1.0000, 1.0000, 1.0000, 0.9801],\n",
            "        [1.0000, 1.0000, 1.0000, 0.9801],\n",
            "        [1.0000, 1.0000, 1.0000, 0.9801],\n",
            "        [1.0000, 1.0000, 1.0000, 0.9801]])\n"
          ]
        }
      ]
    },
    {
      "cell_type": "code",
      "source": [
        "# This computes the matrix multiplication between two tensors\n",
        "\n",
        "print(f\"tensor.matmul.T: \\n: {tensor.matmul(tensor.T)}\")\n",
        "# Alternative sintax\n",
        "print(f\"tensor @ tensor.T \\n: {tensor@tensor.T}\")"
      ],
      "metadata": {
        "colab": {
          "base_uri": "https://localhost:8080/"
        },
        "id": "s92Xuve4Vcow",
        "outputId": "e6c55c24-6388-40ed-fac3-4141cd3f698f"
      },
      "execution_count": null,
      "outputs": [
        {
          "output_type": "stream",
          "name": "stdout",
          "text": [
            "tensor.matmul.T: \n",
            ": tensor([[3.9801, 3.9801, 3.9801, 3.9801],\n",
            "        [3.9801, 3.9801, 3.9801, 3.9801],\n",
            "        [3.9801, 3.9801, 3.9801, 3.9801],\n",
            "        [3.9801, 3.9801, 3.9801, 3.9801]])\n",
            "tensor @ tensor.T \n",
            ": tensor([[3.9801, 3.9801, 3.9801, 3.9801],\n",
            "        [3.9801, 3.9801, 3.9801, 3.9801],\n",
            "        [3.9801, 3.9801, 3.9801, 3.9801],\n",
            "        [3.9801, 3.9801, 3.9801, 3.9801]])\n"
          ]
        }
      ]
    },
    {
      "cell_type": "code",
      "source": [
        "# Inplace operations\n",
        "# Operations that have a _ sufix are in-place. For example: x.copy_(y), x.t_( ), will change x\n",
        "print(tensor, \"\\n\")\n",
        "tensor.add_(5)\n",
        "print(f\"Inplaced tensor: {tensorm}\")"
      ],
      "metadata": {
        "colab": {
          "base_uri": "https://localhost:8080/"
        },
        "id": "XE2DHpprWpkF",
        "outputId": "60d6afc7-a9d1-436d-cb76-a8c13adbc7a7"
      },
      "execution_count": null,
      "outputs": [
        {
          "output_type": "stream",
          "name": "stdout",
          "text": [
            "tensor([[1.0000, 1.0000, 1.0000, 0.9900],\n",
            "        [1.0000, 1.0000, 1.0000, 0.9900],\n",
            "        [1.0000, 1.0000, 1.0000, 0.9900],\n",
            "        [1.0000, 1.0000, 1.0000, 0.9900]]) \n",
            "\n",
            "Inplaced tensor: tensor([[6.0000, 6.0000, 6.0000, 5.9900],\n",
            "        [6.0000, 6.0000, 6.0000, 5.9900],\n",
            "        [6.0000, 6.0000, 6.0000, 5.9900],\n",
            "        [6.0000, 6.0000, 6.0000, 5.9900]])\n"
          ]
        }
      ]
    },
    {
      "cell_type": "markdown",
      "source": [
        "## Bridge with numpy\n",
        "\n",
        "Tensors on the CPU and NumPy arrays can share their underlying memory access locations, and changing one will change the other.\n",
        "\n",
        "### Tensor to Numpy array"
      ],
      "metadata": {
        "id": "d-ok8HcIXHRq"
      }
    },
    {
      "cell_type": "code",
      "source": [
        "t = torch.ones(5)\n",
        "print(f\"t: {t}\")\n",
        "n = t.numpy()\n",
        "print(f\"\\n: {n}\")"
      ],
      "metadata": {
        "colab": {
          "base_uri": "https://localhost:8080/"
        },
        "id": "vb2OPlUyXpJ9",
        "outputId": "473da602-90e3-487e-ab15-e13c6e777536"
      },
      "execution_count": null,
      "outputs": [
        {
          "output_type": "stream",
          "name": "stdout",
          "text": [
            "t: tensor([1., 1., 1., 1., 1.])\n",
            "\n",
            ": [1. 1. 1. 1. 1.]\n"
          ]
        }
      ]
    },
    {
      "cell_type": "code",
      "source": [
        "# A change in tensor reflects in NumPy array\n",
        "t.add_(1)\n",
        "print(f\"Tensor +1: \\n{t}\")\n",
        "print(f\"n: {n}\")"
      ],
      "metadata": {
        "colab": {
          "base_uri": "https://localhost:8080/"
        },
        "id": "pypAR-i1X05J",
        "outputId": "08bc0b7a-b64e-4b39-9486-3c8b5f37fa17"
      },
      "execution_count": null,
      "outputs": [
        {
          "output_type": "stream",
          "name": "stdout",
          "text": [
            "Tensor +1: \n",
            "tensor([2., 2., 2., 2., 2.])\n",
            "n: [2. 2. 2. 2. 2.]\n"
          ]
        }
      ]
    },
    {
      "cell_type": "markdown",
      "source": [
        "### Numpy array to Tensor"
      ],
      "metadata": {
        "id": "sYYP2zlSYMlH"
      }
    },
    {
      "cell_type": "code",
      "source": [
        "n = np.ones(5)\n",
        "print(n)\n",
        "t=torch.from_numpy(n)\n",
        "print(t)"
      ],
      "metadata": {
        "colab": {
          "base_uri": "https://localhost:8080/"
        },
        "id": "R8IJnU6KYRUi",
        "outputId": "c6e494cf-4f9c-4a91-b953-5a472333a49a"
      },
      "execution_count": null,
      "outputs": [
        {
          "output_type": "stream",
          "name": "stdout",
          "text": [
            "[1. 1. 1. 1. 1.]\n",
            "tensor([1., 1., 1., 1., 1.], dtype=torch.float64)\n"
          ]
        }
      ]
    }
  ]
}