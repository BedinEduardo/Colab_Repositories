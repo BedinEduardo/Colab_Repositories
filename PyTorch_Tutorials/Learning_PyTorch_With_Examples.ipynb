{
  "nbformat": 4,
  "nbformat_minor": 0,
  "metadata": {
    "colab": {
      "provenance": [],
      "authorship_tag": "ABX9TyOaMsVVntZnNr8A/smD4ayA",
      "include_colab_link": true
    },
    "kernelspec": {
      "name": "python3",
      "display_name": "Python 3"
    },
    "language_info": {
      "name": "python"
    }
  },
  "cells": [
    {
      "cell_type": "markdown",
      "metadata": {
        "id": "view-in-github",
        "colab_type": "text"
      },
      "source": [
        "<a href=\"https://colab.research.google.com/github/BedinEduardo/Colab_Repositories/blob/master/Learning_PyTorch_With_Examples.ipynb\" target=\"_parent\"><img src=\"https://colab.research.google.com/assets/colab-badge.svg\" alt=\"Open In Colab\"/></a>"
      ]
    },
    {
      "cell_type": "markdown",
      "source": [
        "# Learning PyTorch with Examples\n",
        "\n",
        "This tutorial introduces the fundamental concepts of **PyTorch** trhough self-contained examples.\n",
        "\n",
        "PyTorch:\n",
        "\n",
        "* An- *n-dimensional* Tensor, similar Numpy but can run on GPUs\n",
        "* Automatic differentiation for buildinf and training NN"
      ],
      "metadata": {
        "id": "gjpz0skw4WgG"
      }
    },
    {
      "cell_type": "markdown",
      "source": [
        "## Tensors\n",
        "\n",
        "Numpy provides an n-dimensional array object, and many functions for manipulatiing these arrays."
      ],
      "metadata": {
        "id": "Qmmhs8zg7jqK"
      }
    },
    {
      "cell_type": "code",
      "source": [
        "#\n",
        "import numpy as np\n",
        "import math\n",
        "\n",
        "# build random input and output data\n",
        "x = np.linspace(-math.pi, math.pi, 20000)\n",
        "\n",
        "y = np.sin(x)\n",
        "\n",
        "print(x)\n",
        "print(y)"
      ],
      "metadata": {
        "colab": {
          "base_uri": "https://localhost:8080/"
        },
        "id": "cwWcEP6S7wSK",
        "outputId": "54153271-9cc3-4f5f-e00d-ef42752b0b53"
      },
      "execution_count": null,
      "outputs": [
        {
          "output_type": "stream",
          "name": "stdout",
          "text": [
            "[-3.14159265 -3.14127848 -3.1409643  ...  3.1409643   3.14127848\n",
            "  3.14159265]\n",
            "[-1.22464680e-16 -3.14174969e-04 -6.28349907e-04 ...  6.28349907e-04\n",
            "  3.14174969e-04  1.22464680e-16]\n"
          ]
        }
      ]
    },
    {
      "cell_type": "code",
      "source": [
        "# random initialize weights\n",
        "a = np.random.randn()\n",
        "b = np.random.randn()\n",
        "c = np.random.randn()\n",
        "d = np.random.randn()\n",
        "\n",
        "print(a)\n",
        "print(b)\n",
        "print(c)\n",
        "print(d)"
      ],
      "metadata": {
        "colab": {
          "base_uri": "https://localhost:8080/"
        },
        "id": "YpJ3HhoE8A5r",
        "outputId": "140e174a-da27-4df6-c0dd-eeb2f92e71e4"
      },
      "execution_count": null,
      "outputs": [
        {
          "output_type": "stream",
          "name": "stdout",
          "text": [
            "-0.8146623655005207\n",
            "-1.6856753979805996\n",
            "-0.6123274389539223\n",
            "1.767770404568969\n"
          ]
        }
      ]
    },
    {
      "cell_type": "code",
      "source": [
        "learning_rate = 0.000001\n",
        "for t in range(2000):\n",
        "  # forward pass: compute predicted y\n",
        "  # y = a + b x + c^2 + d x^3\n",
        "  y_pred = a + b*x + c*x**2 + d*x**3\n",
        "\n",
        "  # compute and print loss\n",
        "  loss = np.square(y_pred - y).sum()\n",
        "  if t % 100 == 99:\n",
        "    print(t, loss)\n",
        "\n",
        "  # backprop to compute gradients of a, b, c, d with respect to loss\n",
        "  grad_y_pred = 2.0 * (y_pred -y)\n",
        "  grad_a = grad_y_pred.sum()\n",
        "  grad_b = (grad_y_pred * x).sum()\n",
        "  grad_c = (grad_y_pred * x ** 2).sum()\n",
        "  grad_d = (grad_y_pred * x ** 3).sum()\n",
        "\n",
        "  # update weights\n",
        "  a -= learning_rate * grad_a\n",
        "  b -= learning_rate * grad_b\n",
        "  c -= learning_rate * grad_c\n",
        "  d -= learning_rate * grad_d\n",
        "\n",
        "print(f\"Result: y = {a} + {b} + {c}X^2 + {d} X^3\")"
      ],
      "metadata": {
        "colab": {
          "base_uri": "https://localhost:8080/"
        },
        "id": "opay1Dc18Xaz",
        "outputId": "4d89a723-db2e-4f15-c6ba-c25f3495854c"
      },
      "execution_count": null,
      "outputs": [
        {
          "output_type": "stream",
          "name": "stdout",
          "text": [
            "99 1.3607234142327261e+138\n",
            "199 6.362311075775465e+270\n"
          ]
        },
        {
          "output_type": "stream",
          "name": "stderr",
          "text": [
            "/usr/local/lib/python3.11/dist-packages/numpy/_core/_methods.py:52: RuntimeWarning: overflow encountered in reduce\n",
            "  return umr_sum(a, axis, dtype, out, keepdims, initial, where)\n",
            "<ipython-input-42-f6348156319e>:8: RuntimeWarning: overflow encountered in square\n",
            "  loss = np.square(y_pred - y).sum()\n"
          ]
        },
        {
          "output_type": "stream",
          "name": "stdout",
          "text": [
            "299 inf\n",
            "399 inf\n"
          ]
        },
        {
          "output_type": "stream",
          "name": "stderr",
          "text": [
            "/usr/local/lib/python3.11/dist-packages/numpy/_core/_methods.py:52: RuntimeWarning: invalid value encountered in reduce\n",
            "  return umr_sum(a, axis, dtype, out, keepdims, initial, where)\n",
            "<ipython-input-42-f6348156319e>:23: RuntimeWarning: invalid value encountered in scalar subtract\n",
            "  d -= learning_rate * grad_d\n"
          ]
        },
        {
          "output_type": "stream",
          "name": "stdout",
          "text": [
            "499 nan\n",
            "599 nan\n",
            "699 nan\n",
            "799 nan\n",
            "899 nan\n",
            "999 nan\n",
            "1099 nan\n",
            "1199 nan\n",
            "1299 nan\n",
            "1399 nan\n",
            "1499 nan\n",
            "1599 nan\n",
            "1699 nan\n",
            "1799 nan\n",
            "1899 nan\n",
            "1999 nan\n",
            "Result: y = nan + nan + nanX^2 + nan X^3\n"
          ]
        }
      ]
    },
    {
      "cell_type": "markdown",
      "source": [
        "## Pytorch: Tensors\n",
        "\n",
        "Numpy is a great framework, but can not utilize GPU to accelerate its numerical computations.\n",
        "GPU spedups 50x or greater\n",
        "\n",
        "PyTorch concept: **Tensor**\n",
        "\n",
        "A PyTorch Tensor is conceptually identical to a numpy array: a Tensor is an n-dimensional array, and PyTorch provides many functions for operating on these Tensors.\n",
        "\n",
        "Run the Tensor on GPU, should specify the correct device."
      ],
      "metadata": {
        "id": "XEy4KcJo_S9p"
      }
    },
    {
      "cell_type": "code",
      "source": [
        "import torch\n",
        "import math\n",
        "\n",
        "dtype = torch.float\n",
        "device = torch.device(\"cpu\")\n",
        "\n",
        "# Build random input and data output\n",
        "x = torch.linspace(-math.pi, math.pi, 2000, device=device, dtype=dtype)\n",
        "y = torch.sin(x)\n",
        "\n",
        "# randomly initialize weights\n",
        "a = torch.randn((), device=device, dtype=dtype)\n",
        "b = torch.randn((), device=device, dtype=dtype)\n",
        "c = torch.randn((), device=device, dtype=dtype)\n",
        "d = torch.randn((), device=device, dtype=dtype)\n",
        "\n",
        "learning_rate = 0.001\n",
        "\n",
        "for t in range(2000):\n",
        "  # forward pass: compute predicted y\n",
        "  y_pred = a + b*x + c*x**2 + d*x**3\n",
        "\n",
        "  # compute and print loss\n",
        "  loss = (y_pred - y).pow(2).sum().item()\n",
        "  if t % 100 == 99:\n",
        "    print(t, loss)\n",
        "\n",
        "  # Backprop to compute gradients of a,b,c,d withrespect to loss\n",
        "  grad_y_pred = 2.0 * (y_pred - y)\n",
        "  grad_a = grad_y_pred.sum()\n",
        "  grad_b = (grad_y_pred * x).sum()\n",
        "  grad_c = (grad_y_pred * x ** 2).sum()\n",
        "  grad_d = (grad_y_pred * x**3).sum()\n",
        "\n",
        "  # update weights using gradient descent\n",
        "  a -= learning_rate * grad_a\n",
        "  b -= learning_rate * grad_b\n",
        "  c -= learning_rate * grad_c\n",
        "  d -= learning_rate * grad_d\n",
        "\n",
        "print(f\"Result = y {a.item()} + {b.item()}x + {c.item()}X^2 + {d.item()} X^3\")"
      ],
      "metadata": {
        "colab": {
          "base_uri": "https://localhost:8080/"
        },
        "id": "Xdh_zk1eAI8b",
        "outputId": "f413bb4b-65ea-4199-afb8-424dd2eebc52"
      },
      "execution_count": null,
      "outputs": [
        {
          "output_type": "stream",
          "name": "stdout",
          "text": [
            "99 nan\n",
            "199 nan\n",
            "299 nan\n",
            "399 nan\n",
            "499 nan\n",
            "599 nan\n",
            "699 nan\n",
            "799 nan\n",
            "899 nan\n",
            "999 nan\n",
            "1099 nan\n",
            "1199 nan\n",
            "1299 nan\n",
            "1399 nan\n",
            "1499 nan\n",
            "1599 nan\n",
            "1699 nan\n",
            "1799 nan\n",
            "1899 nan\n",
            "1999 nan\n",
            "Result = y nan + nanx + nanX^2 + nan X^3\n"
          ]
        }
      ]
    },
    {
      "cell_type": "markdown",
      "source": [
        "## Autograd\n",
        "\n",
        "Manually implementing the backward pass is not a big deal for a small two-layer network, but can quickly get very hairy for large complex networks.\n",
        "\n",
        "**automatic differentiation**\n",
        "The **autograd** package in PyTorch provides exactly this functionality.\n",
        "When using autograd, the forward pass of your network will define a **computational graph**; nodes in the graph will be Tensors, and edges will be functions that produce output Tensors from input Tensor.\n",
        "\n",
        "Now we no longer need to manually implement the backward pass through the networks."
      ],
      "metadata": {
        "id": "UA-K7NfCCdzU"
      }
    },
    {
      "cell_type": "code",
      "source": [
        "import torch\n",
        "import math\n",
        "\n",
        "dtype = torch.float\n",
        "device = torch.accelerator.current_accelerator().type if torch.accelerator.is_available() else \"cpu\"\n",
        "print(f\"Using {device} device\")\n",
        "torch.set_default_device(device)"
      ],
      "metadata": {
        "colab": {
          "base_uri": "https://localhost:8080/"
        },
        "id": "a3TO4KwkJQas",
        "outputId": "91a3c67f-3d78-4d24-ca43-181d9ef9fd62"
      },
      "execution_count": null,
      "outputs": [
        {
          "output_type": "stream",
          "name": "stdout",
          "text": [
            "Using cpu device\n"
          ]
        }
      ]
    },
    {
      "cell_type": "code",
      "source": [
        "# building random tensors\n",
        "a = torch.randn((), dtype=dtype, requires_grad=True)\n",
        "b = torch.randn((), dtype=dtype, requires_grad=True)\n",
        "c = torch.randn((), dtype=dtype, requires_grad=True)\n",
        "d = torch.randn((), dtype=dtype, requires_grad=True)"
      ],
      "metadata": {
        "id": "aRNKx56tJvbp"
      },
      "execution_count": null,
      "outputs": []
    },
    {
      "cell_type": "code",
      "source": [
        "learning_rate = 1e-6\n",
        "for t in range(2000):\n",
        "    # Forward pass: compute predicted y using operations on Tensors.\n",
        "    y_pred = a + b * x + c * x ** 2 + d * x ** 3\n",
        "\n",
        "    # Compute and print loss using operations on Tensors.\n",
        "    # Now loss is a Tensor of shape (1,)\n",
        "    # loss.item() gets the scalar value held in the loss.\n",
        "    loss = (y_pred - y).pow(2).sum()\n",
        "    if t % 100 == 99:\n",
        "        print(t, loss.item())\n",
        "\n",
        "    # Use autograd to compute the backward pass. This call will compute the\n",
        "    # gradient of loss with respect to all Tensors with requires_grad=True.\n",
        "    # After this call a.grad, b.grad. c.grad and d.grad will be Tensors holding\n",
        "    # the gradient of the loss with respect to a, b, c, d respectively.\n",
        "    loss.backward()\n",
        "\n",
        "    # Manually update weights using gradient descent. Wrap in torch.no_grad()\n",
        "    # because weights have requires_grad=True, but we don't need to track this\n",
        "    # in autograd.\n",
        "    with torch.no_grad():\n",
        "        a -= learning_rate * a.grad\n",
        "        b -= learning_rate * b.grad\n",
        "        c -= learning_rate * c.grad\n",
        "        d -= learning_rate * d.grad\n",
        "\n",
        "        # Manually zero the gradients after updating weights\n",
        "        a.grad = None\n",
        "        b.grad = None\n",
        "        c.grad = None\n",
        "        d.grad = None\n",
        "\n",
        "print(f\"Result: y = {a.item()} + {b.item()}x + {c.item()}x^2 + {d.item()} x^3\")"
      ],
      "metadata": {
        "colab": {
          "base_uri": "https://localhost:8080/"
        },
        "id": "hfFO5dVrKEP4",
        "outputId": "899a9acc-fb2c-45d2-b87e-72ddde0a15c7"
      },
      "execution_count": null,
      "outputs": [
        {
          "output_type": "stream",
          "name": "stdout",
          "text": [
            "99 2763.3330078125\n",
            "199 1852.7413330078125\n",
            "299 1244.0357666015625\n",
            "399 836.8740844726562\n",
            "499 564.3440551757812\n",
            "599 381.8023376464844\n",
            "699 259.44683837890625\n",
            "799 177.37184143066406\n",
            "899 122.27376556396484\n",
            "999 85.25555419921875\n",
            "1099 60.36354446411133\n",
            "1199 43.610862731933594\n",
            "1299 32.32604217529297\n",
            "1399 24.71729850769043\n",
            "1499 19.582271575927734\n",
            "1599 16.113296508789062\n",
            "1699 13.767494201660156\n",
            "1799 12.179561614990234\n",
            "1899 11.103515625\n",
            "1999 10.373579978942871\n",
            "Result: y = 0.027593832463026047 + 0.8279563188552856x + -0.004760395735502243x^2 + -0.08923603594303131 x^3\n"
          ]
        }
      ]
    },
    {
      "cell_type": "markdown",
      "source": [
        "## PyTorch: Defining new autograd functions\n",
        "\n",
        "Under the hood, each primitive in autograd operator is really two functions that operates on Tensors.\n",
        "The **forward** function computes ouput Tensors from input Tensors.\n",
        "The **backward** functiono receives the gradient of the output Tensors with respect to some scalar value, and computes the gradient of the input Tensor wiht respect to thar same scalar value.\n",
        "\n",
        "In PyTorch define our own autograd operator by defining a subclass of `torch.autograd.Function` and implementing the `forward` and `backward` functions.\n",
        "We can then use our new autograd operator by constructing an instance and calling it like a function, passing Tensors containing input data."
      ],
      "metadata": {
        "id": "2NoAf_JyLvZl"
      }
    },
    {
      "cell_type": "code",
      "source": [
        "import torch\n",
        "import math\n",
        "\n",
        "class LegendPolynomial3(torch.autograd.Function):\n",
        "  \"\"\"\n",
        "  We can implement our own custom autograd Functions by subclassing\n",
        "  torch.autograd.Function and implementing the forward and backward passes\n",
        "  which operate on Tensors.\n",
        "  \"\"\"\n",
        "\n",
        "  @staticmethod\n",
        "  def forward(ctx, input):\n",
        "    \"\"\"\n",
        "    In the forward pass we receive a Tensor containing the input and return\n",
        "    a Tensor containing the output. ctx is a context object that can be used\n",
        "    to stash information for backward computation. You can cache tensors for\n",
        "    use in the backward pass using the ``ctx.save_for_backward`` method. Other\n",
        "    objects can be stored directly as attributes on the ctx object, such as\n",
        "    ``ctx.my_object = my_object``. Check out `Extending torch.autograd <https://docs.pytorch.org/docs/stable/notes/extending.html#extending-torch-autograd>`_\n",
        "    for further details.\n",
        "    \"\"\"\n",
        "    ctx.save_for_backward(input)\n",
        "    return 0.5 * (5 * input ** 3 - 3 * input)\n",
        "\n",
        "  @staticmethod\n",
        "  def backward(ctx, grad_output):\n",
        "    \"\"\"\n",
        "    In the backward pass we receive a Tensor containing the gradient of the loss\n",
        "    with respect to the output, and we need to compute the gradient of the loss\n",
        "    with respect to the input.\n",
        "    \"\"\"\n",
        "\n",
        "    input, = ctx.saved_tensors\n",
        "    return grad_output * 1.5 * (5 * input ** 2 -1)"
      ],
      "metadata": {
        "id": "eGItHR8fM6fT"
      },
      "execution_count": null,
      "outputs": []
    },
    {
      "cell_type": "code",
      "source": [
        "dtype = torch.float\n",
        "device = torch.device(\"cpu\")\n",
        "\n",
        "# build tensors to hold input and outputs\n",
        "# By default, requires_grad=False, which indicates that we do not need to\n",
        "# compute gradients with respect to theese Tensors during the backward pass.\n",
        "\n",
        "x = torch.linspace(-math.pi, math.pi, 2000, device=device, dtype=dtype)\n",
        "y = torch.sin(x)\n",
        "\n",
        "# Build random Tensors for weights\n",
        "# needs to be initialized\n",
        "# not too far from the correct result to ensure convergence\n",
        "# Setting requires_grad = True indicates that we want to compute gradients with\n",
        "# respect to these Tensors during the backward pass.\n",
        "a = torch.full((), 0.0, device=device, dtype=dtype, requires_grad=True)\n",
        "b = torch.full((), -1.0, device=device, dtype=dtype, requires_grad=True)\n",
        "c = torch.full((), 0.0, device=device, dtype=dtype, requires_grad=True)\n",
        "d = torch.full((), 0.3, device=device, dtype=dtype, requires_grad=True)\n",
        "\n",
        "learning_rate = 0.001\n",
        "for t in range(2000):\n",
        "  # To apply our Function, we use Function.apply method. We alias this as 'P3'\n",
        "  P3 = LegendPolynomial3.apply\n",
        "  # forward pass\n",
        "  # P3 using our custom autograd operation\n",
        "  y_pred = a + b * P3(c + d * x)\n",
        "\n",
        "  # Compute and print loss\n",
        "  loss = (y_pred - y).pow(2).sum()  # only sum\n",
        "  if t % 100 == 99:\n",
        "      print(t, loss.item())\n",
        "\n",
        "  # Use autograd to compute the backward pass.\n",
        "  loss.backward()\n",
        "\n",
        "  # Update weights using gradient descent\n",
        "  with torch.no_grad():\n",
        "      a -= learning_rate * a.grad\n",
        "      b -= learning_rate * b.grad\n",
        "      c -= learning_rate * c.grad\n",
        "      d -= learning_rate * d.grad\n",
        "\n",
        "  # Manually zero the gradients after updating weights.\n",
        "  a.grad = None\n",
        "  b.grad = None\n",
        "  c.grad = None\n",
        "  d.grad = None\n",
        "\n",
        "print(f'Result: y = {a.item()} + {b.item()} * P3({c.item()} + {d.item()} x)')\n",
        "\n"
      ],
      "metadata": {
        "colab": {
          "base_uri": "https://localhost:8080/"
        },
        "id": "gf1C_wUHOkYj",
        "outputId": "4046f52d-c596-47ba-a99c-1eaacd06e49e"
      },
      "execution_count": null,
      "outputs": [
        {
          "output_type": "stream",
          "name": "stdout",
          "text": [
            "99 nan\n",
            "199 nan\n",
            "299 nan\n",
            "399 nan\n",
            "499 nan\n",
            "599 nan\n",
            "699 nan\n",
            "799 nan\n",
            "899 nan\n",
            "999 nan\n",
            "1099 nan\n",
            "1199 nan\n",
            "1299 nan\n",
            "1399 nan\n",
            "1499 nan\n",
            "1599 nan\n",
            "1699 nan\n",
            "1799 nan\n",
            "1899 nan\n",
            "1999 nan\n",
            "Result: y = nan + nan * P3(nan + nan x)\n"
          ]
        }
      ]
    },
    {
      "cell_type": "markdown",
      "source": [
        "## `nn` module\n",
        "\n",
        "## PyTorch: `nn`\n",
        "\n",
        "Cmputational graphs and autograd are very powerful paradigm for defining complex operators and automatically taking derivates; however for large NN raw autograd can be a bit too low-level.\n",
        "\n",
        "Build NN, frequently arranging the computation into **layers**, some of which have **learnable parameters** which will be optimized during learning.\n",
        "\n",
        "`nn` package server to higher-level abstractiion over raw computational graphs that are useful for building NN.\n",
        "\n",
        "A set of **Modules**, which are roughly equivalent to NN.\n",
        "A module receives input Tensors and computes output Tensors, but may also hold internal state such as Tensors containing learnable parameters.\n",
        "The `nn` package also defines a set of useful loss functions that are commonly used when training NN.\n",
        "\n"
      ],
      "metadata": {
        "id": "4db9P_rGR4ov"
      }
    },
    {
      "cell_type": "code",
      "source": [
        "import torch\n",
        "import math\n",
        "\n",
        "# build tensors to hold input and outputs\n",
        "x = torch.linspace(-math.pi, math.pi, 2000)\n",
        "y = torch.sin(x)\n",
        "\n",
        "# Lienar layeer NN\n",
        "p = torch.tensor([1,2,3])\n",
        "xx = x.unsqueeze(-1).pow(p)\n"
      ],
      "metadata": {
        "id": "FYRYk4HQUUOk"
      },
      "execution_count": null,
      "outputs": []
    },
    {
      "cell_type": "code",
      "source": [
        "print(p)\n",
        "print(xx)"
      ],
      "metadata": {
        "colab": {
          "base_uri": "https://localhost:8080/"
        },
        "id": "W2I-1_abUys9",
        "outputId": "106799ea-d682-47f2-8bed-42a41c1e8281"
      },
      "execution_count": null,
      "outputs": [
        {
          "output_type": "stream",
          "name": "stdout",
          "text": [
            "tensor([1, 2, 3])\n",
            "tensor([[ -3.1416,   9.8696, -31.0063],\n",
            "        [ -3.1384,   9.8499, -30.9133],\n",
            "        [ -3.1353,   9.8301, -30.8205],\n",
            "        ...,\n",
            "        [  3.1353,   9.8301,  30.8205],\n",
            "        [  3.1384,   9.8499,  30.9133],\n",
            "        [  3.1416,   9.8696,  31.0063]])\n"
          ]
        }
      ]
    },
    {
      "cell_type": "code",
      "source": [
        "print(p.shape)\n",
        "print(xx.shape)"
      ],
      "metadata": {
        "colab": {
          "base_uri": "https://localhost:8080/"
        },
        "id": "YUGEFX2QU1pt",
        "outputId": "bbc5cb4c-cee6-46b5-fccf-67ebaefc95eb"
      },
      "execution_count": null,
      "outputs": [
        {
          "output_type": "stream",
          "name": "stdout",
          "text": [
            "torch.Size([3])\n",
            "torch.Size([2000, 3])\n"
          ]
        }
      ]
    },
    {
      "cell_type": "code",
      "source": [
        "# use the nn package to define our model as a sequence of layers\n",
        "# nn.Sequential is a Module that contains other Modules, and applies them in sequende to produce the output\n",
        "# The Linear Module computes output from input using a linear function\n",
        "# and holds internal Tensors for its weights and bias.\n",
        "# The Flatten layer flattens the output of the linear layer to a 1D tensor.\n",
        "# to match the shape of `y`\n",
        "model = torch.nn.Sequential(\n",
        "    torch.nn.Linear(3,1),\n",
        "    torch.nn.Flatten(0,1)\n",
        ")"
      ],
      "metadata": {
        "id": "GRvYC7ohU9hs"
      },
      "execution_count": null,
      "outputs": []
    },
    {
      "cell_type": "code",
      "source": [
        "print(model)"
      ],
      "metadata": {
        "colab": {
          "base_uri": "https://localhost:8080/"
        },
        "id": "tLikqz6eV415",
        "outputId": "61f5a56d-67e1-41db-8e0d-05a31ed33eaf"
      },
      "execution_count": null,
      "outputs": [
        {
          "output_type": "stream",
          "name": "stdout",
          "text": [
            "Sequential(\n",
            "  (0): Linear(in_features=3, out_features=1, bias=True)\n",
            "  (1): Flatten(start_dim=0, end_dim=1)\n",
            ")\n"
          ]
        }
      ]
    },
    {
      "cell_type": "code",
      "source": [
        "loss_fn = torch.nn.MSELoss(reduction=\"sum\")"
      ],
      "metadata": {
        "id": "v3c2xEbwV80b"
      },
      "execution_count": null,
      "outputs": []
    },
    {
      "cell_type": "code",
      "source": [
        "learning_rate = 0.001\n",
        "for t in range(2000):\n",
        "  # forward pass\n",
        "  y_pred = model(xx)  #trought the data into model\n",
        "\n",
        "  loss = loss_fn(y_pred, y)  # calculate the loss\n",
        "\n",
        "  # zero the gradients before running the backward pass\n",
        "  model.zero_grad()\n",
        "\n",
        "  # backward pass: compute gradient of the loss wiht respect to all learnable parameters\n",
        "  # in Tensors with requires_grad=True, so this call will compute gradients for all learnable parameters\n",
        "  loss.backward()\n",
        "\n",
        "  # Update the weights using gradient descent. Each parameter is a Tensor - can be updated by `optim`\n",
        "  with torch.no_grad():\n",
        "    for param in model.parameters():\n",
        "      param -= learning_rate * param.grad\n",
        "\n",
        "# You can access the firs layer of the \"model\" like accessing the 1st item of a list\n",
        "linear_layer = model[0]\n",
        "\n",
        "print(f\"Result: y = {linear_layer.bias.item()} + {linear_layer.weight[:,0].item()} x + {linear_layer.weight[:,1].item()}X^2 + {linear_layer.weight[:,2].item()}X^3\")"
      ],
      "metadata": {
        "colab": {
          "base_uri": "https://localhost:8080/"
        },
        "id": "9IbJuS9kWKw2",
        "outputId": "db3d06ca-80cf-4a47-d9ad-4cdf842d4a48"
      },
      "execution_count": null,
      "outputs": [
        {
          "output_type": "stream",
          "name": "stdout",
          "text": [
            "Result: y = nan + nan x + nanX^2 + nanX^3\n"
          ]
        }
      ]
    },
    {
      "cell_type": "markdown",
      "source": [
        "## PyTorch: optim\n",
        "\n",
        "Up this point we have updated the weights of our models by manually mutating the Tensors holding learnable parameters with `torch.no_grad()`.\n",
        "\n",
        "When often train NN using more sophisticated optimizers like `AdaGrad`, `RMSProp`, `Adam`\n",
        "\n",
        "The `optim` package in PyTorch abstracts the ideas of an optimization algorithm and provides implementations of commonly used optimization algorithms."
      ],
      "metadata": {
        "id": "jRJkfgXsbRbI"
      }
    },
    {
      "cell_type": "code",
      "source": [
        "import torch\n",
        "import math\n",
        "\n",
        "\n",
        "# Create Tensors to hold input and outputs.\n",
        "x = torch.linspace(-math.pi, math.pi, 2000)\n",
        "y = torch.sin(x)\n",
        "\n",
        "# Prepare the input tensor (x, x^2, x^3).\n",
        "p = torch.tensor([1, 2, 3])\n",
        "xx = x.unsqueeze(-1).pow(p)\n",
        "\n",
        "# Use the nn package to define our model and loss function.\n",
        "model = torch.nn.Sequential(\n",
        "    torch.nn.Linear(3, 1),\n",
        "    torch.nn.Flatten(0, 1)\n",
        ")\n",
        "loss_fn = torch.nn.MSELoss(reduction='sum')\n",
        "\n",
        "# Use the optim package to define an Optimizer that will update the weights of\n",
        "# the model for us. Here we will use RMSprop; the optim package contains many other\n",
        "# optimization algorithms. The first argument to the RMSprop constructor tells the\n",
        "# optimizer which Tensors it should update.\n",
        "learning_rate = 1e-3\n",
        "optimizer = torch.optim.RMSprop(model.parameters(), lr=learning_rate)\n",
        "\n",
        "for t in range(2000):\n",
        "  y_pred = model(xx)\n",
        "\n",
        "  loss = loss_fn(y_pred, y)\n",
        "  if t % 100 == 99:\n",
        "    print(t, loss.item())\n",
        "\n",
        "  optimizer.zero_grad()\n",
        "\n",
        "  loss.backward() # backpropagation\n",
        "\n",
        "  # Calling the step function on an optimizer makes an update to its parameters\n",
        "  optimizer.step()\n",
        "\n",
        "linear_layer = model[0]\n",
        "\n",
        "print(f'Result: y = {linear_layer.bias.item()} + {linear_layer.weight[:, 0].item()} x + {linear_layer.weight[:, 1].item()} x^2 + {linear_layer.weight[:, 2].item()} x^3')"
      ],
      "metadata": {
        "colab": {
          "base_uri": "https://localhost:8080/"
        },
        "id": "Sw8V1SJmcAdq",
        "outputId": "fe2e26e7-328e-4eb5-c589-51c00b2cd5f8"
      },
      "execution_count": null,
      "outputs": [
        {
          "output_type": "stream",
          "name": "stdout",
          "text": [
            "99 2615.024169921875\n",
            "199 915.942138671875\n",
            "299 706.7383422851562\n",
            "399 627.2535400390625\n",
            "499 538.1360473632812\n",
            "599 439.22088623046875\n",
            "699 340.0784912109375\n",
            "799 250.116455078125\n",
            "899 174.33290100097656\n",
            "999 114.22319030761719\n",
            "1099 69.51390838623047\n",
            "1199 39.00996398925781\n",
            "1299 20.828262329101562\n",
            "1399 12.626038551330566\n",
            "1499 9.353293418884277\n",
            "1599 9.099508285522461\n",
            "1699 8.966208457946777\n",
            "1799 8.89753532409668\n",
            "1899 8.89608097076416\n",
            "1999 8.930171012878418\n",
            "Result: y = -0.0006351800402626395 + 0.8562504053115845 x + -0.0006351760821416974 x^2 + -0.09384316205978394 x^3\n"
          ]
        }
      ]
    },
    {
      "cell_type": "markdown",
      "source": [
        "## PyTorch: Custom `nn` Modules\n",
        "\n",
        "Specify models that are more complex than a sequence of existing Modules.\n",
        "\n",
        "Can subclassing `nn.Module` and defining `forward` which receives input Tensors and produces output Tensors using other modules or other autograd operations on Tensors."
      ],
      "metadata": {
        "id": "7kPk1hIkdMNX"
      }
    },
    {
      "cell_type": "code",
      "source": [
        "import torch\n",
        "import math\n",
        "\n",
        "class Polynomial3(torch.nn.Module):\n",
        "  def __init__(self):\n",
        "    \"\"\"\n",
        "      In this constructor we instantiate four parameters and assingn them as member parameters\n",
        "    \"\"\"\n",
        "\n",
        "    super().__init__()\n",
        "    self.a = torch.nn.Parameter(torch.randn(()))\n",
        "    self.b = torch.nn.Parameter(torch.randn(()))\n",
        "    self.c = torch.nn.Parameter(torch.randn(()))\n",
        "    self.d = torch.nn.Parameter(torch.randn(()))\n",
        "\n",
        "  def forward(self, x):\n",
        "    \"\"\"\n",
        "    In the forward function we accept a Tensor of input data and we must return\n",
        "    a Tensor of output data. We can use Modules defined in the constructor as\n",
        "    well as arbitrary operators on Tensors.\n",
        "    \"\"\"\n",
        "\n",
        "    return self.a + self.b * x + self.c * x **2 + self.d*x**2\n",
        "\n",
        "  def string(self):\n",
        "    \"\"\"\n",
        "    Just like any class in Python, you can also define custom method on PyTorch modules\n",
        "    \"\"\"\n",
        "    return f'y = {self.a.item()} + {self.b.item()} x + {self.c.item()} x^2 + {self.d.item()} x^3'\n"
      ],
      "metadata": {
        "id": "9blnC_zzeacL"
      },
      "execution_count": null,
      "outputs": []
    },
    {
      "cell_type": "code",
      "source": [
        "# Build Tensors to hold input and outputs\n",
        "x = torch.linspace(-math.pi, math.pi, 2000)\n",
        "y = torch.sin(x)"
      ],
      "metadata": {
        "id": "nDwMU3vc2fkM"
      },
      "execution_count": null,
      "outputs": []
    },
    {
      "cell_type": "code",
      "source": [
        "# Construct our model by instantiating the class defined above\n",
        "model = Polynomial3()"
      ],
      "metadata": {
        "id": "SJ3a3VsH2oqp"
      },
      "execution_count": null,
      "outputs": []
    },
    {
      "cell_type": "code",
      "source": [
        "criterion = torch.nn.MSELoss(reduction='sum')\n",
        "optimizer = torch.optim.SGD(model.parameters(), lr=0.001)"
      ],
      "metadata": {
        "id": "Y0Or2-gE3IGt"
      },
      "execution_count": null,
      "outputs": []
    },
    {
      "cell_type": "code",
      "source": [
        "for t in range(2000):\n",
        "  # Forward pass: Compute predicted y by passing x to the model\n",
        "  y_pred = model(x)\n",
        "\n",
        "  # compute and print loss\n",
        "  loss = criterion(y_pred,y)\n",
        "  if t % 100 ==99 :\n",
        "    print(t, loss.item())\n",
        "\n",
        "  #Zero gradients, perform a backward passs, and update the weights\n",
        "  optimizer.zero_grad()\n",
        "  loss.backward()\n",
        "  optimizer.step()\n",
        "\n",
        "print(f'Result: {model.string()}')\n"
      ],
      "metadata": {
        "colab": {
          "base_uri": "https://localhost:8080/"
        },
        "id": "bHAAmqJp3U5X",
        "outputId": "7c3226cd-443a-44ec-988c-0578fa07963d"
      },
      "execution_count": null,
      "outputs": [
        {
          "output_type": "stream",
          "name": "stdout",
          "text": [
            "99 nan\n",
            "199 nan\n",
            "299 nan\n",
            "399 nan\n",
            "499 nan\n",
            "599 nan\n",
            "699 nan\n",
            "799 nan\n",
            "899 nan\n",
            "999 nan\n",
            "1099 nan\n",
            "1199 nan\n",
            "1299 nan\n",
            "1399 nan\n",
            "1499 nan\n",
            "1599 nan\n",
            "1699 nan\n",
            "1799 nan\n",
            "1899 nan\n",
            "1999 nan\n",
            "Result: y = nan + nan x + nan x^2 + nan x^3\n"
          ]
        }
      ]
    },
    {
      "cell_type": "markdown",
      "source": [
        "## PyTorch: Control Flow + Weight Sharing\n",
        "\n",
        "Example of dynamic graphs and weight sharing, we implement a very strange model: a third-fifth order polynomial that on each forward pass chooses a random number between 3 and 5 and uses that many orders.\n",
        "Reusing the same weights multiple times to compute the fourth and fifth order.\n",
        "\n",
        "Python flow control to implement the loop, and we can implement weight sharing by simply reusing the same parameter multiple times when defining the forward pass."
      ],
      "metadata": {
        "id": "1dt9R-oV5EyK"
      }
    },
    {
      "cell_type": "code",
      "source": [
        "import random\n",
        "import torch\n",
        "import math\n",
        "\n",
        "class DynamicNet(torch.nn.Module):\n",
        "  def __init__(self):\n",
        "    \"\"\"\n",
        "    In the constructor we instantiate five parameters and assign them as members.\n",
        "    \"\"\"\n",
        "    super().__init__()\n",
        "    self.a = torch.nn.Parameter(torch.randn(()))\n",
        "    self.b = torch.nn.Parameter(torch.randn(()))\n",
        "    self.c = torch.nn.Parameter(torch.randn(()))\n",
        "    self.d = torch.nn.Parameter(torch.randn(()))\n",
        "    self.e = torch.nn.Parameter(torch.randn(()))\n",
        "\n",
        "  def forward(self, x):\n",
        "    \"\"\"\n",
        "    For the forward pass of the model, we randomly choose either 4, 5\n",
        "    and reuse the e parameter to compute the contribution of these orders.\n",
        "\n",
        "    Since each forward pass builds a dynamic computation graph, we can use normal\n",
        "    Python control-flow operators like loops or conditional statements when\n",
        "    defining the forward pass of the model.\n",
        "\n",
        "    Here we also see that it is perfectly safe to reuse the same parameter many\n",
        "    times when defining a computational graph.\n",
        "    \"\"\"\n",
        "\n",
        "    y = self.a + self.b * x + self.c * x **2 + self.d * x ** 3\n",
        "    for exp in range(4, random.randint(4,6)):\n",
        "      y = y + self.e * x ** exp\n",
        "    return y\n",
        "\n",
        "  def string(self):\n",
        "    \"\"\"\n",
        "    Just like any class in Python, you can also define custom method on PyTorch modules\n",
        "    \"\"\"\n",
        "    return f'y = {self.a.item()} + {self.b.item()} x + {self.c.item()} x^2 + {self.d.item()} x^3 + {self.e.item()} x^4 ? + {self.e.item()} x^5 ?'\n",
        "\n",
        "# Create Tensors to hold input and outputs.\n",
        "x = torch.linspace(-math.pi, math.pi, 2000)\n",
        "y = torch.sin(x)\n",
        "\n",
        "# Construct our model by instantiating the class defined above\n",
        "model = DynamicNet()\n",
        "\n",
        "# Construct our loss function and an Optimizer. Training this strange model with\n",
        "# vanilla stochastic gradient descent is tough, so we use momentum\n",
        "criterion = torch.nn.MSELoss(reduction='sum')\n",
        "optimizer = torch.optim.SGD(model.parameters(), lr=1e-8, momentum=0.9)\n",
        "for t in range(30000):\n",
        "    # Forward pass: Compute predicted y by passing x to the model\n",
        "    y_pred = model(x)\n",
        "\n",
        "    # Compute and print loss\n",
        "    loss = criterion(y_pred, y)\n",
        "    if t % 2000 == 1999:\n",
        "        print(t, loss.item())\n",
        "\n",
        "    # Zero gradients, perform a backward pass, and update the weights.\n",
        "    optimizer.zero_grad()\n",
        "    loss.backward()\n",
        "    optimizer.step()\n",
        "\n",
        "print(f'Result: {model.string()}')"
      ],
      "metadata": {
        "colab": {
          "base_uri": "https://localhost:8080/"
        },
        "id": "Ihu2i3_85_UK",
        "outputId": "59f9ab89-9a75-48bc-9297-0b45c681bb33"
      },
      "execution_count": null,
      "outputs": [
        {
          "output_type": "stream",
          "name": "stdout",
          "text": [
            "1999 1971.2418212890625\n",
            "3999 872.4619140625\n",
            "5999 457.234619140625\n",
            "7999 224.2855987548828\n",
            "9999 111.95813751220703\n",
            "11999 58.53325653076172\n",
            "13999 32.564537048339844\n",
            "15999 20.350635528564453\n",
            "17999 14.531449317932129\n",
            "19999 11.725642204284668\n",
            "21999 10.215021133422852\n",
            "23999 9.4893798828125\n",
            "25999 9.14384937286377\n",
            "27999 9.002721786499023\n",
            "29999 8.912214279174805\n",
            "Result: y = -0.00845723133534193 + 0.8542687296867371 x + 0.0009974547429010272 x^2 + -0.09323780238628387 x^3 + 9.15713535505347e-05 x^4 ? + 9.15713535505347e-05 x^5 ?\n"
          ]
        }
      ]
    },
    {
      "cell_type": "code",
      "source": [],
      "metadata": {
        "id": "kCLMmDZx5g_i"
      },
      "execution_count": null,
      "outputs": []
    }
  ]
}