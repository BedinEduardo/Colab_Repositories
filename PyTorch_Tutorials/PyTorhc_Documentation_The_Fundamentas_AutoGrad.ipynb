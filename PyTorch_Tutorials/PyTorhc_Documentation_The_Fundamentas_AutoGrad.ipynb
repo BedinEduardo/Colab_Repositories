{
  "nbformat": 4,
  "nbformat_minor": 0,
  "metadata": {
    "colab": {
      "provenance": [],
      "authorship_tag": "ABX9TyOrDrSq3bEwoMt+EIbqDDMD",
      "include_colab_link": true
    },
    "kernelspec": {
      "name": "python3",
      "display_name": "Python 3"
    },
    "language_info": {
      "name": "python"
    }
  },
  "cells": [
    {
      "cell_type": "markdown",
      "metadata": {
        "id": "view-in-github",
        "colab_type": "text"
      },
      "source": [
        "<a href=\"https://colab.research.google.com/github/BedinEduardo/Colab_Repositories/blob/master/PyTorhc_Documentation_The_Fundamentas_AutoGrad.ipynb\" target=\"_parent\"><img src=\"https://colab.research.google.com/assets/colab-badge.svg\" alt=\"Open In Colab\"/></a>"
      ]
    },
    {
      "cell_type": "markdown",
      "source": [
        "# The Fundamentals of AutoGrad\n",
        "\n",
        "*PyTorch's Autograd* feature  is part of what make PyTorch flexible and fast for building machine learning projects. It allows for the rapid and easy computation of multiple partial derivatives  - also refered as *gradients*- over complex computation. This operation is central to backpropagation-based neural network learning.\n",
        "\n",
        "The power of autograd comes from the fact that it traces your computation dynamically *at runtime*, meaning that if your model has decision branches, or loops lengths are nor known until runtime, the computation will still be traced correctly, and you will get correct gradients to drive learning. This, combined with the fact that your modells are built in Python, offers far more flexibility than frameworks that rely on static analysis of a more rigidly-structured model for computing gradients."
      ],
      "metadata": {
        "id": "NkXuTjsSr-xl"
      }
    },
    {
      "cell_type": "markdown",
      "source": [
        "## What Do We Need Autograd For?\n",
        "\n",
        "A ML model is a *function*, with inputs and outputs. For this discussion\n",
        "\n",
        "Since we will mostly be discussing autograd in the context of training, our output of interest will be the loss. Loss function is a single-valued scalar function of the models output. This function express how far off our model's prediction was from a particular input's ideal output.\n",
        "\n",
        "Training the model -> Minimize the loss. In real world, it means an interative process of nudging the learning weights until we see that we get a tolerable loss for a wide variety of inputs.\n",
        "\n",
        "HOw to decice how far and in which direction to nudge the weights? - *Minimize the loss* -> derivates = 0\n",
        "\n",
        "Loss -> Output\n",
        "\n",
        "The partial derivatives of the model's output with respect to its inputs, if were to expand the expression using the chain rule again, involve many local partial derivatives over every multiplied learning weight, every activation function, and every other mathematical transformation in the model. The full expression for each such partial derivative is the sum of the products of the local gradient of *every posssible path* trough the computation graph that ends with the variable whose gradient we are trying to measure.\n",
        "\n",
        "Gradients over the lerarning weights are the interest - *what direction to change each weight* to get loss closer to zero.\n",
        "\n",
        "Number of local derivatives growths exponentially mith more deep is the NN - more complexity in computing. Here the autograd comes: tracks the history of each computation.\n",
        "Every computed tensor - model carries history - input tensor to output tensor - computing own derivates - the greatly speed - needs to learn"
      ],
      "metadata": {
        "id": "QXwhb9mt4yNH"
      }
    },
    {
      "cell_type": "markdown",
      "source": [
        "### A simple Example\n"
      ],
      "metadata": {
        "id": "RY7EG4m03pa3"
      }
    },
    {
      "cell_type": "code",
      "source": [
        "import torch\n",
        "import matplotlib.pyplot as plt\n",
        "import matplotlib.ticker as ticker\n",
        "import math\n",
        "\n"
      ],
      "metadata": {
        "id": "OWIAe8DV3ucX"
      },
      "execution_count": null,
      "outputs": []
    },
    {
      "cell_type": "markdown",
      "source": [
        "`requires_grad=True`, setting this flag means that in every computation that follows, autograd will be accumulating the historyof the computation in the output tensorof that computation."
      ],
      "metadata": {
        "id": "cmbmzC6K35jn"
      }
    },
    {
      "cell_type": "code",
      "source": [
        "a = torch.linspace(0.,2 * math.pi, steps =25, requires_grad=True)\n",
        "print(a)"
      ],
      "metadata": {
        "id": "Ms1Cyzx94Zfa",
        "colab": {
          "base_uri": "https://localhost:8080/"
        },
        "outputId": "00d2b3b7-5b3f-4139-ed13-3dff3b7f7ba9"
      },
      "execution_count": null,
      "outputs": [
        {
          "output_type": "stream",
          "name": "stdout",
          "text": [
            "tensor([0.0000, 0.2618, 0.5236, 0.7854, 1.0472, 1.3090, 1.5708, 1.8326, 2.0944,\n",
            "        2.3562, 2.6180, 2.8798, 3.1416, 3.4034, 3.6652, 3.9270, 4.1888, 4.4506,\n",
            "        4.7124, 4.9742, 5.2360, 5.4978, 5.7596, 6.0214, 6.2832],\n",
            "       requires_grad=True)\n"
          ]
        }
      ]
    },
    {
      "cell_type": "code",
      "source": [
        "b = torch.sin(a)\n",
        "plt.plot(a.detach(), b.detach())"
      ],
      "metadata": {
        "id": "CGfDqeIw4ll9",
        "colab": {
          "base_uri": "https://localhost:8080/",
          "height": 447
        },
        "outputId": "69de3885-e7ff-4903-946a-d59cd294d85e"
      },
      "execution_count": null,
      "outputs": [
        {
          "output_type": "execute_result",
          "data": {
            "text/plain": [
              "[<matplotlib.lines.Line2D at 0x7a77b03e7310>]"
            ]
          },
          "metadata": {},
          "execution_count": 34
        },
        {
          "output_type": "display_data",
          "data": {
            "text/plain": [
              "<Figure size 640x480 with 1 Axes>"
            ],
            "image/png": "[encoded data removed]"
          },
          "metadata": {}
        }
      ]
    },
    {
      "cell_type": "code",
      "source": [
        "print(b)"
      ],
      "metadata": {
        "id": "6oZ99zmE5NOP",
        "colab": {
          "base_uri": "https://localhost:8080/"
        },
        "outputId": "375d3f2f-9495-4783-8433-efe2837db803"
      },
      "execution_count": null,
      "outputs": [
        {
          "output_type": "stream",
          "name": "stdout",
          "text": [
            "tensor([ 0.0000e+00,  2.5882e-01,  5.0000e-01,  7.0711e-01,  8.6603e-01,\n",
            "         9.6593e-01,  1.0000e+00,  9.6593e-01,  8.6603e-01,  7.0711e-01,\n",
            "         5.0000e-01,  2.5882e-01, -8.7423e-08, -2.5882e-01, -5.0000e-01,\n",
            "        -7.0711e-01, -8.6603e-01, -9.6593e-01, -1.0000e+00, -9.6593e-01,\n",
            "        -8.6603e-01, -7.0711e-01, -5.0000e-01, -2.5882e-01,  1.7485e-07],\n",
            "       grad_fn=<SinBackward0>)\n"
          ]
        }
      ]
    },
    {
      "cell_type": "code",
      "source": [
        "c = 2 * b\n",
        "print(c)"
      ],
      "metadata": {
        "id": "uUnqCcV65zRR",
        "colab": {
          "base_uri": "https://localhost:8080/"
        },
        "outputId": "76ebac8c-748a-4f92-ed46-aa6be474f10b"
      },
      "execution_count": null,
      "outputs": [
        {
          "output_type": "stream",
          "name": "stdout",
          "text": [
            "tensor([ 0.0000e+00,  5.1764e-01,  1.0000e+00,  1.4142e+00,  1.7321e+00,\n",
            "         1.9319e+00,  2.0000e+00,  1.9319e+00,  1.7321e+00,  1.4142e+00,\n",
            "         1.0000e+00,  5.1764e-01, -1.7485e-07, -5.1764e-01, -1.0000e+00,\n",
            "        -1.4142e+00, -1.7321e+00, -1.9319e+00, -2.0000e+00, -1.9319e+00,\n",
            "        -1.7321e+00, -1.4142e+00, -1.0000e+00, -5.1764e-01,  3.4969e-07],\n",
            "       grad_fn=<MulBackward0>)\n"
          ]
        }
      ]
    },
    {
      "cell_type": "code",
      "source": [
        "d = c + 1\n",
        "print(d)"
      ],
      "metadata": {
        "id": "fX78E1E_54ki",
        "colab": {
          "base_uri": "https://localhost:8080/"
        },
        "outputId": "b8c4f7eb-8608-4c95-c01e-4fcdcbd6ec55"
      },
      "execution_count": null,
      "outputs": [
        {
          "output_type": "stream",
          "name": "stdout",
          "text": [
            "tensor([ 1.0000e+00,  1.5176e+00,  2.0000e+00,  2.4142e+00,  2.7321e+00,\n",
            "         2.9319e+00,  3.0000e+00,  2.9319e+00,  2.7321e+00,  2.4142e+00,\n",
            "         2.0000e+00,  1.5176e+00,  1.0000e+00,  4.8236e-01, -3.5763e-07,\n",
            "        -4.1421e-01, -7.3205e-01, -9.3185e-01, -1.0000e+00, -9.3185e-01,\n",
            "        -7.3205e-01, -4.1421e-01,  4.7684e-07,  4.8236e-01,  1.0000e+00],\n",
            "       grad_fn=<AddBackward0>)\n"
          ]
        }
      ]
    },
    {
      "cell_type": "code",
      "source": [
        "plt.plot(b.detach(), a.detach())"
      ],
      "metadata": {
        "id": "BQkAMZD458ny",
        "colab": {
          "base_uri": "https://localhost:8080/",
          "height": 447
        },
        "outputId": "fc30c37d-3d63-4eb7-cf4a-a9cfd519ac1c"
      },
      "execution_count": null,
      "outputs": [
        {
          "output_type": "execute_result",
          "data": {
            "text/plain": [
              "[<matplotlib.lines.Line2D at 0x7a77955e7150>]"
            ]
          },
          "metadata": {},
          "execution_count": 38
        },
        {
          "output_type": "display_data",
          "data": {
            "text/plain": [
              "<Figure size 640x480 with 1 Axes>"
            ],
            "image/png": "[encoded data removed]"
          },
          "metadata": {}
        }
      ]
    },
    {
      "cell_type": "code",
      "source": [
        "out = d.sum()\n",
        "print(out)"
      ],
      "metadata": {
        "id": "0ZYXoOJh6QMs",
        "colab": {
          "base_uri": "https://localhost:8080/"
        },
        "outputId": "9ddaaf8b-f1be-4fbd-8c7f-16694e06ce1a"
      },
      "execution_count": null,
      "outputs": [
        {
          "output_type": "stream",
          "name": "stdout",
          "text": [
            "tensor(25., grad_fn=<SumBackward0>)\n"
          ]
        }
      ]
    },
    {
      "cell_type": "code",
      "source": [
        "print('d: ')\n",
        "print(d.grad_fn)"
      ],
      "metadata": {
        "id": "2JVWDFuL6TiK",
        "colab": {
          "base_uri": "https://localhost:8080/"
        },
        "outputId": "975f851e-f5f5-4aa4-bd12-43ab9c0dc12f"
      },
      "execution_count": null,
      "outputs": [
        {
          "output_type": "stream",
          "name": "stdout",
          "text": [
            "d: \n",
            "<AddBackward0 object at 0x7a77957afee0>\n"
          ]
        }
      ]
    },
    {
      "cell_type": "code",
      "source": [
        "print(d.grad_fn.next_functions)"
      ],
      "metadata": {
        "id": "hWlXd3Xt6m08",
        "colab": {
          "base_uri": "https://localhost:8080/"
        },
        "outputId": "88c84cd5-0e63-4fe4-ed31-1620e4008e65"
      },
      "execution_count": null,
      "outputs": [
        {
          "output_type": "stream",
          "name": "stdout",
          "text": [
            "((<MulBackward0 object at 0x7a77957af2b0>, 0), (None, 0))\n"
          ]
        }
      ]
    },
    {
      "cell_type": "code",
      "source": [
        "print(d.grad_fn.next_functions[0][0].next_functions)"
      ],
      "metadata": {
        "id": "Q9K1LjH96qlB",
        "colab": {
          "base_uri": "https://localhost:8080/"
        },
        "outputId": "669e204c-dffb-44d7-f82f-6368586e1b28"
      },
      "execution_count": null,
      "outputs": [
        {
          "output_type": "stream",
          "name": "stdout",
          "text": [
            "((<SinBackward0 object at 0x7a77958e6f50>, 0), (None, 0))\n"
          ]
        }
      ]
    },
    {
      "cell_type": "code",
      "source": [
        "print(c.grad_fn)"
      ],
      "metadata": {
        "id": "qaBkMqtQ6xqh",
        "colab": {
          "base_uri": "https://localhost:8080/"
        },
        "outputId": "0038bde0-4f68-461e-8470-649828c4e945"
      },
      "execution_count": null,
      "outputs": [
        {
          "output_type": "stream",
          "name": "stdout",
          "text": [
            "<MulBackward0 object at 0x7a7795835030>\n"
          ]
        }
      ]
    },
    {
      "cell_type": "code",
      "source": [
        "print(b.grad_fn)"
      ],
      "metadata": {
        "id": "ZEeVNw6A62Xg",
        "colab": {
          "base_uri": "https://localhost:8080/"
        },
        "outputId": "d4088a3a-95bd-42ec-cc90-4655e18b9772"
      },
      "execution_count": null,
      "outputs": [
        {
          "output_type": "stream",
          "name": "stdout",
          "text": [
            "<SinBackward0 object at 0x7a77958e7340>\n"
          ]
        }
      ]
    },
    {
      "cell_type": "code",
      "source": [
        "print(a.grad_fn)"
      ],
      "metadata": {
        "id": "zlcCWohV65LA",
        "colab": {
          "base_uri": "https://localhost:8080/"
        },
        "outputId": "4073f430-7b0e-4bad-a3b0-27d81ad9eaaa"
      },
      "execution_count": null,
      "outputs": [
        {
          "output_type": "stream",
          "name": "stdout",
          "text": [
            "None\n"
          ]
        }
      ]
    },
    {
      "cell_type": "markdown",
      "source": [
        "With all this machinery in place, how do we get derivatives out? You call the `backward()` method on the output, and check the input's `grad` property ot inspect the gradients.\n"
      ],
      "metadata": {
        "id": "J_MasUw36_9g"
      }
    },
    {
      "cell_type": "code",
      "source": [
        "out.backward()\n",
        "print(a.grad)"
      ],
      "metadata": {
        "id": "oJhAunTc7Qyg",
        "colab": {
          "base_uri": "https://localhost:8080/"
        },
        "outputId": "a3280388-7813-44a9-bb52-8b4f93d7eb04"
      },
      "execution_count": null,
      "outputs": [
        {
          "output_type": "stream",
          "name": "stdout",
          "text": [
            "tensor([ 2.0000e+00,  1.9319e+00,  1.7321e+00,  1.4142e+00,  1.0000e+00,\n",
            "         5.1764e-01, -8.7423e-08, -5.1764e-01, -1.0000e+00, -1.4142e+00,\n",
            "        -1.7321e+00, -1.9319e+00, -2.0000e+00, -1.9319e+00, -1.7321e+00,\n",
            "        -1.4142e+00, -1.0000e+00, -5.1764e-01,  2.3850e-08,  5.1764e-01,\n",
            "         1.0000e+00,  1.4142e+00,  1.7321e+00,  1.9319e+00,  2.0000e+00])\n"
          ]
        }
      ]
    },
    {
      "cell_type": "code",
      "source": [
        "plt.plot(a.detach(), a.grad.detach())"
      ],
      "metadata": {
        "id": "AC0Glw8u7UnQ",
        "colab": {
          "base_uri": "https://localhost:8080/",
          "height": 447
        },
        "outputId": "9332b716-2639-4dc1-ba58-5a64b74c9158"
      },
      "execution_count": null,
      "outputs": [
        {
          "output_type": "execute_result",
          "data": {
            "text/plain": [
              "[<matplotlib.lines.Line2D at 0x7a779566e0d0>]"
            ]
          },
          "metadata": {},
          "execution_count": 47
        },
        {
          "output_type": "display_data",
          "data": {
            "text/plain": [
              "<Figure size 640x480 with 1 Axes>"
            ],
            "image/png": "[encoded data removed]"
          },
          "metadata": {}
        }
      ]
    },
    {
      "cell_type": "markdown",
      "source": [
        "Recall the computation step we took to get here:"
      ],
      "metadata": {
        "id": "Ful0M94O7nWO"
      }
    },
    {
      "cell_type": "code",
      "source": [
        "a = torch.linspace(0., 2. * math.pi, steps=25, requires_grad=True)\n",
        "b = torch.sin(a)\n",
        "c = 2 * b\n",
        "d = c + 1\n",
        "out = d.sum()"
      ],
      "metadata": {
        "id": "g7hbJpvH7tHQ"
      },
      "execution_count": null,
      "outputs": []
    },
    {
      "cell_type": "code",
      "source": [
        "print(a)\n",
        "print(\"\\n\")\n",
        "print(b)\n",
        "print(\"\\n\")\n",
        "print(c)\n",
        "print(\"\\n\")\n",
        "print(d)\n",
        "print(\"\\n\")\n",
        "print(out)"
      ],
      "metadata": {
        "id": "FY0hwzHLcHTo",
        "colab": {
          "base_uri": "https://localhost:8080/"
        },
        "outputId": "63dec632-37b3-4458-d95c-bfe76070b69e"
      },
      "execution_count": null,
      "outputs": [
        {
          "output_type": "stream",
          "name": "stdout",
          "text": [
            "tensor([0.0000, 0.2618, 0.5236, 0.7854, 1.0472, 1.3090, 1.5708, 1.8326, 2.0944,\n",
            "        2.3562, 2.6180, 2.8798, 3.1416, 3.4034, 3.6652, 3.9270, 4.1888, 4.4506,\n",
            "        4.7124, 4.9742, 5.2360, 5.4978, 5.7596, 6.0214, 6.2832],\n",
            "       requires_grad=True)\n",
            "\n",
            "\n",
            "tensor([ 0.0000e+00,  2.5882e-01,  5.0000e-01,  7.0711e-01,  8.6603e-01,\n",
            "         9.6593e-01,  1.0000e+00,  9.6593e-01,  8.6603e-01,  7.0711e-01,\n",
            "         5.0000e-01,  2.5882e-01, -8.7423e-08, -2.5882e-01, -5.0000e-01,\n",
            "        -7.0711e-01, -8.6603e-01, -9.6593e-01, -1.0000e+00, -9.6593e-01,\n",
            "        -8.6603e-01, -7.0711e-01, -5.0000e-01, -2.5882e-01,  1.7485e-07],\n",
            "       grad_fn=<SinBackward0>)\n",
            "\n",
            "\n",
            "tensor([ 0.0000e+00,  5.1764e-01,  1.0000e+00,  1.4142e+00,  1.7321e+00,\n",
            "         1.9319e+00,  2.0000e+00,  1.9319e+00,  1.7321e+00,  1.4142e+00,\n",
            "         1.0000e+00,  5.1764e-01, -1.7485e-07, -5.1764e-01, -1.0000e+00,\n",
            "        -1.4142e+00, -1.7321e+00, -1.9319e+00, -2.0000e+00, -1.9319e+00,\n",
            "        -1.7321e+00, -1.4142e+00, -1.0000e+00, -5.1764e-01,  3.4969e-07],\n",
            "       grad_fn=<MulBackward0>)\n",
            "\n",
            "\n",
            "tensor([ 1.0000e+00,  1.5176e+00,  2.0000e+00,  2.4142e+00,  2.7321e+00,\n",
            "         2.9319e+00,  3.0000e+00,  2.9319e+00,  2.7321e+00,  2.4142e+00,\n",
            "         2.0000e+00,  1.5176e+00,  1.0000e+00,  4.8236e-01, -3.5763e-07,\n",
            "        -4.1421e-01, -7.3205e-01, -9.3185e-01, -1.0000e+00, -9.3185e-01,\n",
            "        -7.3205e-01, -4.1421e-01,  4.7684e-07,  4.8236e-01,  1.0000e+00],\n",
            "       grad_fn=<AddBackward0>)\n",
            "\n",
            "\n",
            "tensor(25., grad_fn=<SumBackward0>)\n"
          ]
        }
      ]
    },
    {
      "cell_type": "markdown",
      "source": [
        "## Autograd in Training\n",
        "\n",
        "We hada a brief look at how autograd works, but now does it look when it is used for its intended pourpose? Lets define a small model and examine how it changes after a single training batch."
      ],
      "metadata": {
        "id": "Wxr6xFqR8M3U"
      }
    },
    {
      "cell_type": "code",
      "source": [
        "BATCH_SIZE = 16\n",
        "DIM_IN = 1000\n",
        "HIDDEN_SIZE = 100\n",
        "DIM_OUT = 10\n",
        "\n",
        "class TinyModel(torch.nn.Module):\n",
        "  def __init__(self):\n",
        "    super(TinyModel, self).__init__()\n",
        "\n",
        "    self.layer1 = torch.nn.Linear(DIM_IN, HIDDEN_SIZE)\n",
        "    self.relu = torch.nn.ReLU()\n",
        "    self.layer2 = torch.nn.Linear(HIDDEN_SIZE, DIM_OUT)\n",
        "\n",
        "  def forward(self, x):\n",
        "    x = self.layer1(x)\n",
        "    x = self.relu(x)\n",
        "    x = self.layer2(x)\n",
        "\n",
        "    return x"
      ],
      "metadata": {
        "id": "jNHW_byFBxe0"
      },
      "execution_count": null,
      "outputs": []
    },
    {
      "cell_type": "code",
      "source": [
        "some_input = torch.rand(BATCH_SIZE, DIM_IN, requires_grad=False)\n",
        "ideal_output = torch.rand(BATCH_SIZE, DIM_OUT, requires_grad=False)"
      ],
      "metadata": {
        "id": "cQ8qLBE3D92h"
      },
      "execution_count": null,
      "outputs": []
    },
    {
      "cell_type": "code",
      "source": [
        "model = TinyModel()"
      ],
      "metadata": {
        "id": "ermO9D_PEPII"
      },
      "execution_count": null,
      "outputs": []
    },
    {
      "cell_type": "code",
      "source": [
        "print(model)"
      ],
      "metadata": {
        "id": "iKM4DxnBEUYX",
        "colab": {
          "base_uri": "https://localhost:8080/"
        },
        "outputId": "3e266de4-0d66-4e52-a3ed-6a9c3761dd5b"
      },
      "execution_count": null,
      "outputs": [
        {
          "output_type": "stream",
          "name": "stdout",
          "text": [
            "TinyModel(\n",
            "  (layer1): Linear(in_features=1000, out_features=100, bias=True)\n",
            "  (relu): ReLU()\n",
            "  (layer2): Linear(in_features=100, out_features=10, bias=True)\n",
            ")\n"
          ]
        }
      ]
    },
    {
      "cell_type": "markdown",
      "source": [
        "One thing that you might notice is that we never specify `requires_grad=True` for the models layers. Within a subclass of `torch.nn.Module`, it's assumed that we want to track gradients on the layers weights for learning.\n",
        "\n",
        "If we look at the layers of the model, we can examine the values of the wieghts, that no gradients have been computed yet:"
      ],
      "metadata": {
        "id": "nXj8dgAAEVmn"
      }
    },
    {
      "cell_type": "code",
      "source": [
        "print(model.layer2.weight[0][0:10])  # small slice\n",
        "print(model.layer2.weight.grad)"
      ],
      "metadata": {
        "id": "MxRfhJ6iFDr1",
        "colab": {
          "base_uri": "https://localhost:8080/"
        },
        "outputId": "0eb3e1ec-9aa9-43e6-d9b0-5c70857ee0d8"
      },
      "execution_count": null,
      "outputs": [
        {
          "output_type": "stream",
          "name": "stdout",
          "text": [
            "tensor([ 0.0909,  0.0555, -0.0349,  0.0862, -0.0445,  0.0037, -0.0102, -0.0162,\n",
            "         0.0010,  0.0486], grad_fn=<SliceBackward0>)\n",
            "None\n"
          ]
        }
      ]
    },
    {
      "cell_type": "code",
      "source": [
        "# Let's see how this change when run through one training batch.\n",
        "optimizer = torch.optim.SGD(model.parameters(), lr=0.001)\n",
        "prediction = model(some_input)\n",
        "loss = (ideal_output - prediction).pow(2).sum()\n",
        "print(loss)"
      ],
      "metadata": {
        "id": "XLNRFs0UFN8T",
        "colab": {
          "base_uri": "https://localhost:8080/"
        },
        "outputId": "803b9ad3-ec7d-440c-c9ad-01c398c02dde"
      },
      "execution_count": null,
      "outputs": [
        {
          "output_type": "stream",
          "name": "stdout",
          "text": [
            "tensor(63.8323, grad_fn=<SumBackward0>)\n"
          ]
        }
      ]
    },
    {
      "cell_type": "code",
      "source": [
        "# Now lets call loss.backward()\n",
        "loss.backward()\n",
        "print(model.layer2.weight[0][0:10])  #Weights\n",
        "print(model.layer2.weight.grad[0][0:10])  #gradients"
      ],
      "metadata": {
        "id": "hH2yoz3rHeoR",
        "colab": {
          "base_uri": "https://localhost:8080/"
        },
        "outputId": "a352c349-1fe6-4dcc-943e-fe620577001d"
      },
      "execution_count": null,
      "outputs": [
        {
          "output_type": "stream",
          "name": "stdout",
          "text": [
            "tensor([ 0.0909,  0.0555, -0.0349,  0.0862, -0.0445,  0.0037, -0.0102, -0.0162,\n",
            "         0.0010,  0.0486], grad_fn=<SliceBackward0>)\n",
            "tensor([-4.4462,  0.0000, -4.6891, -0.7880, -3.9062,  0.0000, -0.8196, -8.4671,\n",
            "         0.0000,  0.0000])\n"
          ]
        }
      ]
    },
    {
      "cell_type": "code",
      "source": [
        "# optimzer step\n",
        "optimizer.step()\n",
        "print(model.layer2.weight[0][0:10])  #updated\n",
        "print(model.layer2.weight.grad[0][0:10])"
      ],
      "metadata": {
        "id": "fkm-5E7TH7F4",
        "colab": {
          "base_uri": "https://localhost:8080/"
        },
        "outputId": "340baba6-c640-4906-df71-b3b1e123895a"
      },
      "execution_count": null,
      "outputs": [
        {
          "output_type": "stream",
          "name": "stdout",
          "text": [
            "tensor([ 0.0954,  0.0555, -0.0302,  0.0870, -0.0406,  0.0037, -0.0093, -0.0077,\n",
            "         0.0010,  0.0486], grad_fn=<SliceBackward0>)\n",
            "tensor([-4.4462,  0.0000, -4.6891, -0.7880, -3.9062,  0.0000, -0.8196, -8.4671,\n",
            "         0.0000,  0.0000])\n"
          ]
        }
      ]
    },
    {
      "cell_type": "markdown",
      "source": [
        "One important thing about the process: After calling `optmizer.step()`, you need to call `optmizer.zero_grad()`, or else every time you run `loss.backward()`, the gradients on the learning weights will acumulate:"
      ],
      "metadata": {
        "id": "aejPkasxIMyB"
      }
    },
    {
      "cell_type": "code",
      "source": [
        "print(model.layer2.weight.grad[0][0:10])\n",
        "\n",
        "for i in range(0,5):\n",
        "  prediction = model(some_input)\n",
        "  loss = (ideal_output - prediction).pow(2).sum()\n",
        "  loss.backward()\n",
        "\n",
        "print(model.layer2.weight.grad[0][0:10])\n",
        "\n",
        "optimizer.zero_grad(set_to_none=False)   # Zeroing the gradients\n",
        "\n",
        "print(model.layer2.weight.grad[0][0:10])"
      ],
      "metadata": {
        "colab": {
          "base_uri": "https://localhost:8080/"
        },
        "id": "7bfO86u2h_iL",
        "outputId": "ee19091c-cfac-4f11-ef17-c0127e1135a4"
      },
      "execution_count": null,
      "outputs": [
        {
          "output_type": "stream",
          "name": "stdout",
          "text": [
            "tensor([-4.4462,  0.0000, -4.6891, -0.7880, -3.9062,  0.0000, -0.8196, -8.4671,\n",
            "         0.0000,  0.0000])\n",
            "tensor([46.6156,  0.0000, -2.2129,  0.0487, 30.5680,  0.0000,  0.7681, 22.7493,\n",
            "         0.0000,  0.0000])\n",
            "tensor([0., 0., 0., 0., 0., 0., 0., 0., 0., 0.])\n"
          ]
        }
      ]
    },
    {
      "cell_type": "markdown",
      "source": [
        "Failling to zero the gradients before running your next training batch will cause the gradients to blow up in this manner, causing incorrect and unpredictable learning results."
      ],
      "metadata": {
        "id": "G7WXI2-xi5lh"
      }
    },
    {
      "cell_type": "markdown",
      "source": [
        "# Turning Autograd Off and On\n",
        "\n",
        "There are situations where you will need fine-grained control over whether autograd is enable.\n",
        "There are multiple way to do this, depending on situation\n",
        "\n",
        "The simplest one is to change the `requires_grad` flag on a tensor directly:"
      ],
      "metadata": {
        "id": "vRTqHCb1jMnp"
      }
    },
    {
      "cell_type": "code",
      "source": [
        "a = torch.ones(2, 3, requires_grad=True)\n",
        "print(a)"
      ],
      "metadata": {
        "colab": {
          "base_uri": "https://localhost:8080/"
        },
        "id": "4EWtqxoDjkox",
        "outputId": "9cdc3b07-3932-440a-eacc-81196cc155fb"
      },
      "execution_count": null,
      "outputs": [
        {
          "output_type": "stream",
          "name": "stdout",
          "text": [
            "tensor([[1., 1., 1.],\n",
            "        [1., 1., 1.]], requires_grad=True)\n"
          ]
        }
      ]
    },
    {
      "cell_type": "code",
      "source": [
        "b1 = 2 *a\n",
        "print(b1)"
      ],
      "metadata": {
        "colab": {
          "base_uri": "https://localhost:8080/"
        },
        "id": "82zIi0b9jwz6",
        "outputId": "0f7db66f-5a19-4332-a6c8-d9d34f14accc"
      },
      "execution_count": null,
      "outputs": [
        {
          "output_type": "stream",
          "name": "stdout",
          "text": [
            "tensor([[2., 2., 2.],\n",
            "        [2., 2., 2.]], grad_fn=<MulBackward0>)\n"
          ]
        }
      ]
    },
    {
      "cell_type": "code",
      "source": [
        "a.requires_grad = False\n",
        "b2 = 2 * a\n",
        "print(b2)"
      ],
      "metadata": {
        "colab": {
          "base_uri": "https://localhost:8080/"
        },
        "id": "sqrGrh8YjzRq",
        "outputId": "3ca96b7e-e69f-4238-b438-b52015fdc2a0"
      },
      "execution_count": null,
      "outputs": [
        {
          "output_type": "stream",
          "name": "stdout",
          "text": [
            "tensor([[2., 2., 2.],\n",
            "        [2., 2., 2.]])\n"
          ]
        }
      ]
    },
    {
      "cell_type": "markdown",
      "source": [
        "In the cell above -> computation history"
      ],
      "metadata": {
        "id": "LAScEa5HkDNk"
      }
    },
    {
      "cell_type": "code",
      "source": [
        "a = torch.ones(2,3, requires_grad=True) * 2\n",
        "b = torch.ones(2,3, requires_grad=True) * 3"
      ],
      "metadata": {
        "id": "DzixA12-vfoZ"
      },
      "execution_count": null,
      "outputs": []
    },
    {
      "cell_type": "code",
      "source": [
        "print(a)\n",
        "print(\"\\n\")\n",
        "print(b)"
      ],
      "metadata": {
        "colab": {
          "base_uri": "https://localhost:8080/"
        },
        "id": "F7SKcqfUvoqT",
        "outputId": "2662b8cc-89e5-4a48-9918-62e963078829"
      },
      "execution_count": null,
      "outputs": [
        {
          "output_type": "stream",
          "name": "stdout",
          "text": [
            "tensor([[2., 2., 2.],\n",
            "        [2., 2., 2.]], grad_fn=<MulBackward0>)\n",
            "\n",
            "\n",
            "tensor([[3., 3., 3.],\n",
            "        [3., 3., 3.]], grad_fn=<MulBackward0>)\n"
          ]
        }
      ]
    },
    {
      "cell_type": "code",
      "source": [
        "c1 = a + b\n",
        "print(c1)"
      ],
      "metadata": {
        "colab": {
          "base_uri": "https://localhost:8080/"
        },
        "id": "xyTkp934vuhE",
        "outputId": "6b9d830e-82cc-48db-afef-8cd439f0682d"
      },
      "execution_count": null,
      "outputs": [
        {
          "output_type": "stream",
          "name": "stdout",
          "text": [
            "tensor([[5., 5., 5.],\n",
            "        [5., 5., 5.]], grad_fn=<AddBackward0>)\n"
          ]
        }
      ]
    },
    {
      "cell_type": "code",
      "source": [
        "with torch.no_grad():\n",
        "  c2 = a + b\n",
        "\n",
        "print(c2)"
      ],
      "metadata": {
        "colab": {
          "base_uri": "https://localhost:8080/"
        },
        "id": "t-IVzFGbvyWs",
        "outputId": "4d191223-c8dd-4ae9-d767-264dc85ee92d"
      },
      "execution_count": null,
      "outputs": [
        {
          "output_type": "stream",
          "name": "stdout",
          "text": [
            "tensor([[5., 5., 5.],\n",
            "        [5., 5., 5.]])\n"
          ]
        }
      ]
    },
    {
      "cell_type": "code",
      "source": [
        "c3 = a * b\n",
        "\n",
        "print(c3)"
      ],
      "metadata": {
        "colab": {
          "base_uri": "https://localhost:8080/"
        },
        "id": "EgJXnucpv7ok",
        "outputId": "63e2cbb1-0bf8-4f8f-d93c-6eae5b332e3c"
      },
      "execution_count": null,
      "outputs": [
        {
          "output_type": "stream",
          "name": "stdout",
          "text": [
            "tensor([[6., 6., 6.],\n",
            "        [6., 6., 6.]], grad_fn=<MulBackward0>)\n"
          ]
        }
      ]
    },
    {
      "cell_type": "markdown",
      "source": [
        "`torch.no_grad()` can also be used as a function or method decorator"
      ],
      "metadata": {
        "id": "AR1HPLfJwRVt"
      }
    },
    {
      "cell_type": "code",
      "source": [
        "def add_tensor1(x,y):\n",
        "  return x + y\n",
        "\n",
        "@torch.no_grad()\n",
        "def add_tensor2(x,y):\n",
        "  return x + y\n"
      ],
      "metadata": {
        "id": "g-SAb6QHwZI-"
      },
      "execution_count": null,
      "outputs": []
    },
    {
      "cell_type": "code",
      "source": [
        "a = torch.ones(2,3, requires_grad = True) * 2\n",
        "print(a)"
      ],
      "metadata": {
        "colab": {
          "base_uri": "https://localhost:8080/"
        },
        "id": "9y_utArewmdO",
        "outputId": "3307fc4d-c1e0-46de-e1af-0267c983cd38"
      },
      "execution_count": null,
      "outputs": [
        {
          "output_type": "stream",
          "name": "stdout",
          "text": [
            "tensor([[2., 2., 2.],\n",
            "        [2., 2., 2.]], grad_fn=<MulBackward0>)\n"
          ]
        }
      ]
    },
    {
      "cell_type": "code",
      "source": [
        "b = torch.ones(2,3, requires_grad=True) * 3\n",
        "print(b)"
      ],
      "metadata": {
        "colab": {
          "base_uri": "https://localhost:8080/"
        },
        "id": "vcXjXAZkwsFu",
        "outputId": "bdda241a-ed49-4bfe-afb1-a6367481f1fb"
      },
      "execution_count": null,
      "outputs": [
        {
          "output_type": "stream",
          "name": "stdout",
          "text": [
            "tensor([[3., 3., 3.],\n",
            "        [3., 3., 3.]], grad_fn=<MulBackward0>)\n"
          ]
        }
      ]
    },
    {
      "cell_type": "code",
      "source": [
        "c1 = add_tensor1(a,b)\n",
        "print(c1)"
      ],
      "metadata": {
        "colab": {
          "base_uri": "https://localhost:8080/"
        },
        "id": "iZJrPqbrwyBv",
        "outputId": "b4ce9928-5a8b-459e-874d-f21220b4a1fa"
      },
      "execution_count": null,
      "outputs": [
        {
          "output_type": "stream",
          "name": "stdout",
          "text": [
            "tensor([[5., 5., 5.],\n",
            "        [5., 5., 5.]], grad_fn=<AddBackward0>)\n"
          ]
        }
      ]
    },
    {
      "cell_type": "code",
      "source": [
        "c2 = add_tensor(a,b)\n",
        "print(c2)"
      ],
      "metadata": {
        "colab": {
          "base_uri": "https://localhost:8080/"
        },
        "id": "KJ1bGFczw8YX",
        "outputId": "934f3f38-bd0a-4c38-f608-706b56224162"
      },
      "execution_count": null,
      "outputs": [
        {
          "output_type": "stream",
          "name": "stdout",
          "text": [
            "tensor([[5., 5., 5.],\n",
            "        [5., 5., 5.]], grad_fn=<AddBackward0>)\n"
          ]
        }
      ]
    },
    {
      "cell_type": "markdown",
      "source": [
        "Finally, you may have a tensor that requires gradient tracking, but you want a copy that does not. For this we have the `Tensor` object's `detach()` method - it build a copy of the tensor that is *detached* from the computation history"
      ],
      "metadata": {
        "id": "matW4EEIxXzH"
      }
    },
    {
      "cell_type": "code",
      "source": [
        "x = torch.rand(5, requires_grad = True)\n",
        "y = x.detach()\n",
        "\n",
        "print(x)\n",
        "print(\"\\n\")\n",
        "print(y)"
      ],
      "metadata": {
        "colab": {
          "base_uri": "https://localhost:8080/"
        },
        "id": "qezqcwQuxxTH",
        "outputId": "79ebd29d-583d-4dd4-cde6-a417792b3d06"
      },
      "execution_count": null,
      "outputs": [
        {
          "output_type": "stream",
          "name": "stdout",
          "text": [
            "tensor([0.4900, 0.5684, 0.9459, 0.9908, 0.8862], requires_grad=True)\n",
            "\n",
            "\n",
            "tensor([0.4900, 0.5684, 0.9459, 0.9908, 0.8862])\n"
          ]
        }
      ]
    },
    {
      "cell_type": "markdown",
      "source": [
        "Wanted to graph some of tensor -> `matplotlib` expect NumPy array as input -> implicit conversion from a PyTorch tensor to a NumPy array is not enabled for tensors with requires_grad=True. Detached copy lets us move forward\n",
        "\n",
        "## Autograd and In-place Operations\n",
        "\n",
        "Used variables to capture the intermediate values of computation.\n",
        "Autograd needs these intermediates values to perform *gradient* computations\n",
        "*For this reason, you must be careful about using in-place oprations when using autograd*.\n",
        "Doing so can destroy information you need to compute derivatives in the `backward()` call.\n",
        "PyTorch will even stop you if you attempt an in-place operation on leaf variable that requires autorgrad:"
      ],
      "metadata": {
        "id": "TV29zewQzKJF"
      }
    },
    {
      "cell_type": "markdown",
      "source": [
        "## Autograd Profiler\n",
        "\n",
        "Autograd tracks every step of your computation in detail.\n",
        "Such a computation history, combined with timing information - would make a handy profiler - and autograd has that feature baked in"
      ],
      "metadata": {
        "id": "ry5Qg9HS0oqU"
      }
    },
    {
      "cell_type": "code",
      "source": [
        "device = torch.device('cpu')\n",
        "run_on_gpu = False\n",
        "\n",
        "if torch.cuda.is_available():\n",
        "  device = torch.device('cuda')\n",
        "  run_on_gpu = True"
      ],
      "metadata": {
        "id": "SuXxxCPu1SZq"
      },
      "execution_count": null,
      "outputs": []
    },
    {
      "cell_type": "code",
      "source": [
        "x = torch.randn(2,3, requires_grad=True)\n",
        "y = torch.rand(2, 3, requires_grad=True)\n",
        "z = torch.ones(2,3, requires_grad=True)"
      ],
      "metadata": {
        "id": "Mu-7LGU-1wsp"
      },
      "execution_count": null,
      "outputs": []
    },
    {
      "cell_type": "code",
      "source": [
        "with torch.autograd.profiler.profile(use_cuda=run_on_gpu) as prf:\n",
        "  for _ in range(1000):\n",
        "    z = (z / x) * y"
      ],
      "metadata": {
        "id": "RF-TmeNO2CrI"
      },
      "execution_count": null,
      "outputs": []
    },
    {
      "cell_type": "code",
      "source": [
        "\n",
        "print(prf.key_averages().table(sort_by='self_cpu_time_total'))\n"
      ],
      "metadata": {
        "colab": {
          "base_uri": "https://localhost:8080/"
        },
        "id": "6o7v68Jn2Tk5",
        "outputId": "0d9bb7a1-e722-4568-b7af-7b03c2315b73"
      },
      "execution_count": null,
      "outputs": [
        {
          "output_type": "stream",
          "name": "stdout",
          "text": [
            "-------------  ------------  ------------  ------------  ------------  ------------  ------------  \n",
            "         Name    Self CPU %      Self CPU   CPU total %     CPU total  CPU time avg    # of Calls  \n",
            "-------------  ------------  ------------  ------------  ------------  ------------  ------------  \n",
            "    aten::div        52.25%       3.883ms        52.25%       3.883ms       3.883us          1000  \n",
            "    aten::mul        47.75%       3.549ms        47.75%       3.549ms       3.549us          1000  \n",
            "-------------  ------------  ------------  ------------  ------------  ------------  ------------  \n",
            "Self CPU time total: 7.432ms\n",
            "\n"
          ]
        }
      ]
    },
    {
      "cell_type": "markdown",
      "source": [
        "## Advanced Topic: More Autograd Deatail and the High-Level API\n",
        "\n",
        "**`torch.autograd` is an engine for computing these products**. This is how we accumulate the gradients over the learning weights during the backward pass.\n",
        "\n",
        "For these reason, the `backward()` call can *also* take an optional input.\n",
        "This vector represents a set of gradients over the tensor, which are multiplied by the Jacobian of the autograd-traced tensor that precedes it.\n"
      ],
      "metadata": {
        "id": "4KQBX3L23t6g"
      }
    },
    {
      "cell_type": "code",
      "source": [
        "x = torch.randn(3, requires_grad=True)\n",
        "print(x)"
      ],
      "metadata": {
        "colab": {
          "base_uri": "https://localhost:8080/"
        },
        "id": "04TS-Ht55uMg",
        "outputId": "74031fb3-9863-4186-a013-6d18a722a1b5"
      },
      "execution_count": null,
      "outputs": [
        {
          "output_type": "stream",
          "name": "stdout",
          "text": [
            "tensor([ 0.3761,  0.1191, -0.9486], requires_grad=True)\n"
          ]
        }
      ]
    },
    {
      "cell_type": "code",
      "source": [
        "y = x * 2\n",
        "while y.data.norm() < 1000:\n",
        "  y = y *2\n",
        "\n",
        "print(y)"
      ],
      "metadata": {
        "colab": {
          "base_uri": "https://localhost:8080/"
        },
        "id": "SNPii2jm55iQ",
        "outputId": "712041ff-da92-4681-97ba-a63b266d554a"
      },
      "execution_count": null,
      "outputs": [
        {
          "output_type": "stream",
          "name": "stdout",
          "text": [
            "tensor([ 385.1478,  121.9683, -971.3978], grad_fn=<MulBackward0>)\n"
          ]
        }
      ]
    },
    {
      "cell_type": "markdown",
      "source": [
        "For a multi-dimensional output, autograd expects us to provide gradients for those three outputs that it can multiply into the jacobian."
      ],
      "metadata": {
        "id": "gpzCaVTH6HNZ"
      }
    },
    {
      "cell_type": "code",
      "source": [
        "v = torch.tensor([0.1,1.0,0.0001], dtype=torch.float)\n",
        "y.backward(v)"
      ],
      "metadata": {
        "id": "_HU6Qwny6RNQ"
      },
      "execution_count": null,
      "outputs": []
    },
    {
      "cell_type": "code",
      "source": [
        "print(x.grad)"
      ],
      "metadata": {
        "colab": {
          "base_uri": "https://localhost:8080/"
        },
        "id": "rN5UFgPb79rU",
        "outputId": "e13c67d9-adff-4db5-df19-f12829567d86"
      },
      "execution_count": null,
      "outputs": [
        {
          "output_type": "stream",
          "name": "stdout",
          "text": [
            "tensor([1.0240e+02, 1.0240e+03, 1.0240e-01])\n"
          ]
        }
      ]
    },
    {
      "cell_type": "markdown",
      "source": [
        "## The High-Level API\n",
        "\n",
        "API - autograd - gves direct acces to important differential matrix and vector operations.\n",
        "Allows to calculate Jacobiona and *Hessian* matrices - particular function for particular inputs. *Hessian* - similar Jacobian - but express all the second derivats.\n",
        "Also produce methods for taking vector products with these matrices."
      ],
      "metadata": {
        "id": "s3dUVjzf8DF5"
      }
    },
    {
      "cell_type": "code",
      "source": [
        "def exp_adder(x, y):\n",
        "  return 2 * x.exp() + 3 * y\n",
        "\n",
        "inputs = (torch.rand(1), torch.rand(1))  # arguments for the function\n",
        "print(inputs)"
      ],
      "metadata": {
        "colab": {
          "base_uri": "https://localhost:8080/"
        },
        "id": "CXaKdnf588Fd",
        "outputId": "50bf4b46-ae00-43f5-cb88-c452c15c125f"
      },
      "execution_count": null,
      "outputs": [
        {
          "output_type": "stream",
          "name": "stdout",
          "text": [
            "(tensor([0.4705]), tensor([0.3110]))\n"
          ]
        }
      ]
    },
    {
      "cell_type": "code",
      "source": [
        "torch.autograd.functional.jacobian(exp_adder, inputs)"
      ],
      "metadata": {
        "colab": {
          "base_uri": "https://localhost:8080/"
        },
        "id": "2S7xSRDA9SpN",
        "outputId": "cc8bfddf-db47-40cd-a05e-02c42fb77dd7"
      },
      "execution_count": null,
      "outputs": [
        {
          "output_type": "execute_result",
          "data": {
            "text/plain": [
              "(tensor([[3.2015]]), tensor([[3.]]))"
            ]
          },
          "metadata": {},
          "execution_count": 86
        }
      ]
    },
    {
      "cell_type": "code",
      "source": [
        "inputs = (torch.rand(3), torch.rand(3))   # arguments for the function\n",
        "print(inputs)\n",
        "torch.autograd.functional.jacobian(exp_adder, inputs)"
      ],
      "metadata": {
        "colab": {
          "base_uri": "https://localhost:8080/"
        },
        "id": "NLOgQSlj98OT",
        "outputId": "4afd59bf-024c-4354-d98a-151cb4c7cff2"
      },
      "execution_count": null,
      "outputs": [
        {
          "output_type": "stream",
          "name": "stdout",
          "text": [
            "(tensor([0.5345, 0.0979, 0.2237]), tensor([0.8426, 0.7985, 0.3335]))\n"
          ]
        },
        {
          "output_type": "execute_result",
          "data": {
            "text/plain": [
              "(tensor([[3.4131, 0.0000, 0.0000],\n",
              "         [0.0000, 2.2058, 0.0000],\n",
              "         [0.0000, 0.0000, 2.5014]]),\n",
              " tensor([[3., 0., 0.],\n",
              "         [0., 3., 0.],\n",
              "         [0., 0., 3.]]))"
            ]
          },
          "metadata": {},
          "execution_count": 88
        }
      ]
    },
    {
      "cell_type": "markdown",
      "source": [
        "`torch.autograd.functional.hessian()` -> works identically to Jacobian -> but returns a matrix of all second derivates"
      ],
      "metadata": {
        "id": "z1sRHlyr-TKV"
      }
    },
    {
      "cell_type": "code",
      "source": [
        "def do_some_doubling(x):\n",
        "  y = x * 2\n",
        "  while y.data.norm() < 1000:\n",
        "    y = y * 2\n",
        "\n",
        "  return y"
      ],
      "metadata": {
        "id": "-GB-__jq-gL5"
      },
      "execution_count": null,
      "outputs": []
    },
    {
      "cell_type": "code",
      "source": [
        "inputs = torch.randn(3)\n",
        "my_gradients = torch.tensor([0.1,1.0,0.0001])\n",
        "torch.autograd.functional.vjp(do_some_doubling, inputs, v=my_gradients)"
      ],
      "metadata": {
        "colab": {
          "base_uri": "https://localhost:8080/"
        },
        "id": "eXuV6hn--wXK",
        "outputId": "0324063c-5ef3-42e5-a6b1-aa88b8b9dd74"
      },
      "execution_count": null,
      "outputs": [
        {
          "output_type": "execute_result",
          "data": {
            "text/plain": [
              "(tensor([ 894.1575,  159.9537, -473.9588]),\n",
              " tensor([5.1200e+01, 5.1200e+02, 5.1200e-02]))"
            ]
          },
          "metadata": {},
          "execution_count": 90
        }
      ]
    },
    {
      "cell_type": "markdown",
      "source": [
        "The `torch.autograd.functional.jvp()` method performs the same matrix multiplication as `vjp()` with the operands reverved."
      ],
      "metadata": {
        "id": "nuVEdSpJ_C09"
      }
    }
  ]
}