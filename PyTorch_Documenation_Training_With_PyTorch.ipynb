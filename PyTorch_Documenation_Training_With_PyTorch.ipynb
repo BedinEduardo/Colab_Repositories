{
  "nbformat": 4,
  "nbformat_minor": 0,
  "metadata": {
    "colab": {
      "provenance": [],
      "authorship_tag": "ABX9TyM6Uyyv6gTLGS74OQAEaTGr",
      "include_colab_link": true
    },
    "kernelspec": {
      "name": "python3",
      "display_name": "Python 3"
    },
    "language_info": {
      "name": "python"
    }
  },
  "cells": [
    {
      "cell_type": "markdown",
      "metadata": {
        "id": "view-in-github",
        "colab_type": "text"
      },
      "source": [
        "<a href=\"https://colab.research.google.com/github/BedinEduardo/Colab_Repositories/blob/master/PyTorch_Documenation_Training_With_PyTorch.ipynb\" target=\"_parent\"><img src=\"https://colab.research.google.com/assets/colab-badge.svg\" alt=\"Open In Colab\"/></a>"
      ]
    },
    {
      "cell_type": "markdown",
      "source": [
        "# Introduction\n",
        "\n",
        "In past videos, we discussed and demostred:\n",
        "\n",
        "* Buildong models with NN layers and functions of the torch.nn module\n",
        "* The mechanics of autograd gradient computation, which is central to gradient-based model traning\n",
        "* Using TensorBoard to visualize training progress and other activities\n",
        "\n",
        "In this video, we will be adding some new tools to your inventory:\n",
        "\n",
        "* We will get familiar with the dataset and dataloader abstractions, and how they ease the process of feeding data to your model during a training loop\n",
        "* We will discuss specific loss functions and when to use them\n",
        "* We will look at PyTorch optimizers, which implement algorithms, which implement algorithms to adjust model weights based on the outcome of a loss function\n",
        "\n",
        "Finally, we will pull all of these togethere and see a full PyTorch training loop in action"
      ],
      "metadata": {
        "id": "kaQiNQQpl301"
      }
    },
    {
      "cell_type": "markdown",
      "source": [
        "## Dataset and DataLoader\n",
        "\n",
        "The `Dataset` and `Dataloader` classes encapsulate the process of pulling your data from storage and exposing it to your training loop in batches.\n",
        "\n",
        "The `Dataset` is reponsible for accessing and processing single instances of data.\n",
        "\n",
        "The `DataLoader` pulls instance of data from the `Dataset` - either automatically or with a sampler that you define - collects them in batches, and returns them for consuption by your training loop.\n",
        "The `DataLoader` works with all kinds of datasets, regardless of the type of they contain.\n",
        "\n",
        "We use `torchvision.transforms.Normalize()` to zero-center and normalize the distribution of the image tile content, and download both training and validation data splits."
      ],
      "metadata": {
        "id": "r2zQF-qGun_I"
      }
    },
    {
      "cell_type": "code",
      "source": [
        "import torch\n",
        "import torchvision\n",
        "import torchvision.transforms as transforms"
      ],
      "metadata": {
        "id": "w8rmuwPXxhPA"
      },
      "execution_count": null,
      "outputs": []
    },
    {
      "cell_type": "code",
      "source": [
        "# PyTorch TensorBoard Support\n",
        "from torch.utils.tensorboard import SummaryWriter\n",
        "from datetime import datetime"
      ],
      "metadata": {
        "id": "olRPo1Grxp_0"
      },
      "execution_count": null,
      "outputs": []
    },
    {
      "cell_type": "code",
      "source": [
        "# Applying transforms Compose\n",
        "transform = transforms.Compose(\n",
        "    [transforms.ToTensor(),\n",
        "     transforms.Normalize((0.5,),(0.5,))]\n",
        ")"
      ],
      "metadata": {
        "id": "RGIqzxQoxw5d"
      },
      "execution_count": null,
      "outputs": []
    },
    {
      "cell_type": "code",
      "source": [
        "# Build datasets for training and validation, download if necessary\n",
        "training_set = torchvision.datasets.FashionMNIST('./data',\n",
        "                                                  train=True,\n",
        "                                                  transform=transform,\n",
        "                                                  download=True)\n",
        "\n",
        "validation_set = torchvision.datasets.FashionMNIST('./data',\n",
        "                                                   train=False,\n",
        "                                                   transform=transform,\n",
        "                                                   download=True)"
      ],
      "metadata": {
        "id": "cTXnVjIbyJI9",
        "colab": {
          "base_uri": "https://localhost:8080/"
        },
        "outputId": "30c4960c-9774-4f47-e66b-6c9d855630d0"
      },
      "execution_count": null,
      "outputs": [
        {
          "output_type": "stream",
          "name": "stderr",
          "text": [
            "100%|██████████| 26.4M/26.4M [00:01<00:00, 17.9MB/s]\n",
            "100%|██████████| 29.5k/29.5k [00:00<00:00, 268kB/s]\n",
            "100%|██████████| 4.42M/4.42M [00:00<00:00, 4.96MB/s]\n",
            "100%|██████████| 5.15k/5.15k [00:00<00:00, 11.7MB/s]\n"
          ]
        }
      ]
    },
    {
      "cell_type": "code",
      "source": [
        "# Build the data loaders for our datasets; shuffle for training not for validation\n",
        "training_dataloader = torch.utils.data.DataLoader(training_set, batch_size=4, shuffle=True)\n",
        "test_dataloader = torch.utils.data.DataLoader(validation_set, batch_size=4, shuffle=False)"
      ],
      "metadata": {
        "id": "so573lFFy8Vv"
      },
      "execution_count": null,
      "outputs": []
    },
    {
      "cell_type": "code",
      "source": [
        "classes = ('T-shirt/top', 'Trouser', 'Pullover', 'Dress', 'Coat',\n",
        "        'Sandal', 'Shirt', 'Sneaker', 'Bag', 'Ankle Boot')"
      ],
      "metadata": {
        "id": "O3rKjbixy3xx"
      },
      "execution_count": null,
      "outputs": []
    },
    {
      "cell_type": "code",
      "source": [
        "#report the split sizes\n",
        "print(f\"Training set has {format(len(training_set))} instances\")\n",
        "print(f\"Validation set has {format(len(validation_set))} instances\")"
      ],
      "metadata": {
        "colab": {
          "base_uri": "https://localhost:8080/"
        },
        "id": "tYzBmZmf0vox",
        "outputId": "f14d5b38-c00e-4bec-f0b7-65b347e1a04f"
      },
      "execution_count": null,
      "outputs": [
        {
          "output_type": "stream",
          "name": "stdout",
          "text": [
            "Training set has 60000 instances\n",
            "Validation set has 10000 instances\n"
          ]
        }
      ]
    },
    {
      "cell_type": "markdown",
      "source": [
        "As always, let's visualize the data as a sanity check:"
      ],
      "metadata": {
        "id": "Q3x0e2BXUX8J"
      }
    },
    {
      "cell_type": "code",
      "source": [
        "import matplotlib.pyplot as plt\n",
        "import numpy as np\n",
        "\n",
        "# Helper function for inline image display\n",
        "def matplotlib_imshow(img, one_channel=False):\n",
        "  if one_channel:\n",
        "    img = img.mean(dim=0)\n",
        "  img = img / 2 + 0.5  # unnormalize\n",
        "  npimg = img.numpy()\n",
        "  if one_channel:\n",
        "    plt.imshow(npimg, cmap=\"Greys\")\n",
        "  else:\n",
        "    plt.imshow(np.transpose(npimg (1,2,0)))\n",
        "\n",
        "dataiter = iter(training_dataloader)\n",
        "images, labels = next(dataiter)\n",
        "\n",
        "# Build a grid from the images and show them\n",
        "img_grid = torchvision.utils.make_grid(images)\n",
        "matplotlib_imshow(img_grid, one_channel=True)\n",
        "print(' '.join(classes[labels[j]] for j in range(4)))"
      ],
      "metadata": {
        "colab": {
          "base_uri": "https://localhost:8080/",
          "height": 212
        },
        "id": "FkF317jHUdZ7",
        "outputId": "ed55f83f-63db-407d-83cb-b1b30518f3e1"
      },
      "execution_count": null,
      "outputs": [
        {
          "output_type": "stream",
          "name": "stdout",
          "text": [
            "Shirt Shirt Sneaker Sneaker\n"
          ]
        },
        {
          "output_type": "display_data",
          "data": {
            "text/plain": [
              "<Figure size 640x480 with 1 Axes>"
            ],
            "image/png": "[encoded data removed]"
          },
          "metadata": {}
        }
      ]
    },
    {
      "cell_type": "markdown",
      "source": [
        "## The Model\n",
        "\n",
        "The model we will use in this example is a variant of LeNet-5 - it should be familiar if you have watched the previous videos in this series."
      ],
      "metadata": {
        "id": "gEVeRMjoWASO"
      }
    },
    {
      "cell_type": "code",
      "source": [
        "import torch.nn as nn\n",
        "import torch.nn.functional as F\n",
        "\n",
        "# PyTorch models inherit from torch.nn.Module\n",
        "class GarmentClassifier(nn.Module):\n",
        "  def __init__(self):\n",
        "    super(GarmentClassifier, self).__init__()\n",
        "    self.conv1 = nn.Conv2d(1,6,5)\n",
        "    self.pool = nn.MaxPool2d(2,2)\n",
        "    self.conv2 = nn.Conv2d(6,16,5)\n",
        "    self.fc1 = nn.Linear(16 * 4 * 4, 120)\n",
        "    self.fc2 = nn.Linear(120, 84)\n",
        "    self.fc3 = nn.Linear(84,10)\n",
        "\n",
        "  def forward(self, x):\n",
        "    x = self.pool(F.relu(self.conv1(x)))\n",
        "    x = self.pool(F.relu(self.conv2(x)))\n",
        "    x = x.view(-1, 16 * 4 *4)\n",
        "    x = F.relu(self.fc1(x))\n",
        "    x = F.relu(self.fc2(x))\n",
        "    x = self.fc3(x)\n",
        "\n",
        "    return x"
      ],
      "metadata": {
        "id": "dupYr7cQWX-y"
      },
      "execution_count": null,
      "outputs": []
    },
    {
      "cell_type": "code",
      "source": [
        "model = GarmentClassifier()"
      ],
      "metadata": {
        "id": "-hlKXvSfYpHr"
      },
      "execution_count": null,
      "outputs": []
    },
    {
      "cell_type": "code",
      "source": [
        "print(model)"
      ],
      "metadata": {
        "colab": {
          "base_uri": "https://localhost:8080/"
        },
        "id": "wzBG-AxvYrRX",
        "outputId": "c1c7e667-9c0f-4810-e431-94ed1717cd8c"
      },
      "execution_count": null,
      "outputs": [
        {
          "output_type": "stream",
          "name": "stdout",
          "text": [
            "GarmentClassifier(\n",
            "  (conv1): Conv2d(1, 6, kernel_size=(5, 5), stride=(1, 1))\n",
            "  (pool): MaxPool2d(kernel_size=2, stride=2, padding=0, dilation=1, ceil_mode=False)\n",
            "  (conv2): Conv2d(6, 16, kernel_size=(5, 5), stride=(1, 1))\n",
            "  (fc1): Linear(in_features=256, out_features=120, bias=True)\n",
            "  (fc2): Linear(in_features=120, out_features=84, bias=True)\n",
            "  (fc3): Linear(in_features=84, out_features=10, bias=True)\n",
            ")\n"
          ]
        }
      ]
    },
    {
      "cell_type": "markdown",
      "source": [
        "## Loss Function\n",
        "\n",
        "For this example, we will be using a cross-entropy loss.  For demostration purposes, we will build batches of dummy ouput and label values, run them thorugh the loss function, and examine the result."
      ],
      "metadata": {
        "id": "JgTXz5qPaWKp"
      }
    },
    {
      "cell_type": "code",
      "source": [
        "loss_fn = torch.nn.CrossEntropyLoss()\n",
        "# Loss function expect data in batches, so we are building batches of 4\n",
        "# Represents the model's confidence in each of the 10 classes, for a given input\n",
        "\n",
        "dummy_outputs = torch.rand(4,10)\n",
        "# Represents the correct class among the 10 being tested.\n",
        "dummy_labels = torch.tensor([1,5,3,7])\n",
        "\n",
        "print(dummy_outputs)\n",
        "print(\"\\n\")\n",
        "print(dummy_labels)"
      ],
      "metadata": {
        "colab": {
          "base_uri": "https://localhost:8080/"
        },
        "id": "Phsd8EYfxH-r",
        "outputId": "a0298379-2bf9-4c41-dd86-32f70e424c2d"
      },
      "execution_count": null,
      "outputs": [
        {
          "output_type": "stream",
          "name": "stdout",
          "text": [
            "tensor([[0.0562, 0.7091, 0.2280, 0.6953, 0.0848, 0.8041, 0.6545, 0.0544, 0.8191,\n",
            "         0.9474],\n",
            "        [0.8819, 0.6581, 0.8237, 0.1040, 0.7286, 0.7849, 0.4379, 0.8986, 0.7640,\n",
            "         0.5325],\n",
            "        [0.0304, 0.8785, 0.2898, 0.0630, 0.1004, 0.2020, 0.9170, 0.3188, 0.6867,\n",
            "         0.4683],\n",
            "        [0.9012, 0.6297, 0.6335, 0.4831, 0.1909, 0.2243, 0.9390, 0.3029, 0.6049,\n",
            "         0.6124]])\n",
            "\n",
            "\n",
            "tensor([1, 5, 3, 7])\n"
          ]
        }
      ]
    },
    {
      "cell_type": "code",
      "source": [
        "loss = loss_fn(dummy_outputs, dummy_labels)\n",
        "\n",
        "print(f\"Total loss for this batch: {format(loss.item())}\")"
      ],
      "metadata": {
        "colab": {
          "base_uri": "https://localhost:8080/"
        },
        "id": "H57ArNSHxzDW",
        "outputId": "bdee8de1-d557-4fe0-a2b9-0b940d4070de"
      },
      "execution_count": null,
      "outputs": [
        {
          "output_type": "stream",
          "name": "stdout",
          "text": [
            "Total loss for this batch: 2.4061243534088135\n"
          ]
        }
      ]
    },
    {
      "cell_type": "markdown",
      "source": [
        "## Optimizer\n",
        "\n",
        "For this example, we will be using simpe **stochastic gradient descent** with momentum.\n",
        "\n",
        "It can be instructive to try some variations on this optimizations scheme:\n",
        "\n",
        "* Learning rate determines the size of the steps the optimizer takes. What does a different learning rate do to the your training results, in terms of accuracy and convergence time?\n",
        "* Momentum nudges the optimizer in the direction of strongest gradient over multiple steps. What does changing this value do to your results?\n",
        "* Try some different optimization algorithms, such as averaged SGS, Adagrad, or Adam. How do your results differ?"
      ],
      "metadata": {
        "id": "Msyc9NkYxyDQ"
      }
    },
    {
      "cell_type": "code",
      "source": [
        "# optimizer specified in the torch.optim package\n",
        "optimizer = torch.optim.SGD(model.parameters(), lr=0.001, momentum=0.9)"
      ],
      "metadata": {
        "id": "EhBftNuKy-mN"
      },
      "execution_count": null,
      "outputs": []
    },
    {
      "cell_type": "markdown",
      "source": [
        "## The Training Loop\n",
        "\n",
        "Below, we have a function that performs one training epoch. It enumerates data from DataLoader, and on each pass of the loop does the following:\n",
        "\n",
        "* Gets a batch of training data from the DataLoader\n",
        "* Zeros the optimizer gradients\n",
        "* Performs an inference - that is, gets predictions from the model for an input batch\n",
        "* Calculates the loss for that set of predictions vs. the labels on the datasset\n",
        "* Calculates the backwards gradients over the learning weights\n",
        "* Tells the optimzer to perform one learning step - that is, adjust the model's learning weights based on the observed gradients for this batch, according to the optimization algorithm we chose.\n",
        "* It reports on the loss for evey 1000 batches.\n",
        "* Finally, it reports the average per-batch loss for the last 1000 batches, for comparision with a validation run"
      ],
      "metadata": {
        "id": "B5VtDBaw045S"
      }
    },
    {
      "cell_type": "code",
      "source": [
        "def train_one_epoch(epoch_index, tb_writer):\n",
        "  running_loss = 0.\n",
        "  last_loss = 0.\n",
        "\n",
        "  # Here, we use enumerate - training_loader - instead of iter - training_loader - so that we can track the batch index and do some intra-epoch reporting\n",
        "  for i, data in enumerate(training_dataloader):\n",
        "    # Every data instance is an ouptut + label pair\n",
        "    inputs, labels = data\n",
        "\n",
        "    # Zero your gradients for every batch\n",
        "    optimizer.zero_grad()\n",
        "\n",
        "    # Make predictions for this batch\n",
        "    outputs = model(inputs)\n",
        "\n",
        "    # Compute the loss and its gradients\n",
        "    loss = loss_fn(outputs, labels)\n",
        "    loss.backward()\n",
        "\n",
        "    # Adjust learning weights\n",
        "    optimizer.step()\n",
        "\n",
        "    # Gather data and report\n",
        "    running_loss += loss.item()\n",
        "    if i % 1000 == 999:\n",
        "      last_loss = running_loss / 1000 # loss per batch\n",
        "      print(f' Batch {format(i+1)} | Loss: {last_loss}')\n",
        "      tb_x = epoch_index * len(training_dataloader) + i +1\n",
        "      tb_writer.add_scalar('Loss/train', last_loss, tb_x)\n",
        "      running_loss = 0.\n",
        "\n",
        "  return last_loss"
      ],
      "metadata": {
        "id": "-5QIOuKl4E1C"
      },
      "execution_count": null,
      "outputs": []
    },
    {
      "cell_type": "markdown",
      "source": [
        "## Per-Epoch Activity\n",
        "\n",
        "There are a couple of things we will want to do once per epoch:\n",
        "\n",
        "* Perform validation by checking our relative loss on a set of a data that was not used for training, and report this\n",
        "* Save a copy of the model.\n",
        "\n",
        "Here, we will do our reporting in TensorBoard. This will require going to the command line to start TensorBoard, and opening it in another browser tab."
      ],
      "metadata": {
        "id": "_se3F0TJ6v3D"
      }
    },
    {
      "cell_type": "code",
      "source": [
        "# Initailizing in a separate cell so we can easily add more epochs to the same run\n",
        "timestamp = datetime.now().strftime('%Y%m%d_%H%M%S')\n",
        "writer = SummaryWriter('runs/fashion_trainer_{format(timestamp)}')\n",
        "epoch_number = 0\n",
        "\n",
        "EPOCHS = 5\n",
        "\n",
        "best_vloss = 1_000_000\n",
        "\n",
        "for epoch in range(EPOCHS):\n",
        "  print(f\"EPOCH: {format(epoch_number + 1)}\")\n",
        "\n",
        "  # Make sure gradient tracking is on, and do a pass over the data\n",
        "  model.train(True)\n",
        "  avg_loss = train_one_epoch(epoch_number, writer)\n",
        "\n",
        "  running_vloss = 0.0\n",
        "  # Set the model to evaluation mode, disabling dropout and using population\n",
        "  # statistcs for batch normalization\n",
        "  model.eval()\n",
        "\n",
        "  # Disable gradient computation and reduce memory comsuption\n",
        "  with torch.no_grad():\n",
        "    for i, vdata in enumerate(test_dataloader):\n",
        "      vinputs, vlabels = vdata\n",
        "      voutputs = model(vinputs)\n",
        "      vloss = loss_fn(voutputs, vlabels)\n",
        "      running_vloss += vloss\n",
        "\n",
        "  avg_vloss = running_vloss / (i+1)\n",
        "  print(f\"LOSS train {format(avg_loss)} | valid: {format(avg_vloss)}\")\n",
        "\n",
        "  # Log the running loss averaged per batch for both training and validation\n",
        "  writer.add_scalars('Training vs. Validation Loss',\n",
        "                     { 'Training': avg_loss, 'Validation': avg_vloss},\n",
        "                     epoch_number + 1)\n",
        "  writer.flush()\n",
        "\n",
        "  # Track best performance, and save the model's state\n",
        "  if avg_vloss < best_vloss:\n",
        "    best_vloss = avg_vloss\n",
        "    model_path = f'model_{format(timestamp)}_{format(epoch_number)}'\n",
        "    torch.save(model.state_dict(), model_path)\n",
        "\n",
        "  epoch_number +=1"
      ],
      "metadata": {
        "colab": {
          "base_uri": "https://localhost:8080/"
        },
        "id": "B36OxRdb8MSA",
        "outputId": "60b25564-1d59-41b0-a953-4f896eb25632"
      },
      "execution_count": null,
      "outputs": [
        {
          "output_type": "stream",
          "name": "stdout",
          "text": [
            "EPOCH: 1\n",
            " Batch 1000 | Loss: 1.622510337010026\n",
            " Batch 2000 | Loss: 0.83273185412772\n",
            " Batch 3000 | Loss: 0.7051361261811108\n",
            " Batch 4000 | Loss: 0.6159963581711054\n",
            " Batch 5000 | Loss: 0.6025558550967834\n",
            " Batch 6000 | Loss: 0.5785097821586532\n",
            " Batch 7000 | Loss: 0.5452367549687624\n",
            " Batch 8000 | Loss: 0.5117050479456083\n",
            " Batch 9000 | Loss: 0.48152009956369873\n",
            " Batch 10000 | Loss: 0.47623462688550355\n",
            " Batch 11000 | Loss: 0.44297481009166223\n",
            " Batch 12000 | Loss: 0.44969412846304474\n",
            " Batch 13000 | Loss: 0.4411469753604615\n",
            " Batch 14000 | Loss: 0.4203222837037756\n",
            " Batch 15000 | Loss: 0.4364258945485344\n",
            "LOSS train 0.4364258945485344 | valid: 0.40859439969062805\n",
            "EPOCH: 2\n",
            " Batch 1000 | Loss: 0.38740461650589714\n",
            " Batch 2000 | Loss: 0.38929962539949337\n",
            " Batch 3000 | Loss: 0.39275878414453474\n",
            " Batch 4000 | Loss: 0.37453301887694396\n",
            " Batch 5000 | Loss: 0.37172354366839866\n",
            " Batch 6000 | Loss: 0.3780099771274545\n",
            " Batch 7000 | Loss: 0.3942687249031005\n",
            " Batch 8000 | Loss: 0.37533525120004196\n",
            " Batch 9000 | Loss: 0.34664463033148785\n",
            " Batch 10000 | Loss: 0.35717637390567686\n",
            " Batch 11000 | Loss: 0.3535203938072082\n",
            " Batch 12000 | Loss: 0.36672245666524395\n",
            " Batch 13000 | Loss: 0.33650204522442073\n",
            " Batch 14000 | Loss: 0.35096204840554857\n",
            " Batch 15000 | Loss: 0.3449012267652433\n",
            "LOSS train 0.3449012267652433 | valid: 0.36337122321128845\n",
            "EPOCH: 3\n",
            " Batch 1000 | Loss: 0.33153541084530297\n",
            " Batch 2000 | Loss: 0.31879076796340816\n",
            " Batch 3000 | Loss: 0.33795869718585164\n",
            " Batch 4000 | Loss: 0.33665988868804564\n",
            " Batch 5000 | Loss: 0.3321101684459427\n",
            " Batch 6000 | Loss: 0.30912384321773423\n",
            " Batch 7000 | Loss: 0.3347054498351354\n",
            " Batch 8000 | Loss: 0.3127133726463799\n",
            " Batch 9000 | Loss: 0.31269004911181403\n",
            " Batch 10000 | Loss: 0.3147576666316891\n",
            " Batch 11000 | Loss: 0.3227961595086963\n",
            " Batch 12000 | Loss: 0.3074295733131221\n",
            " Batch 13000 | Loss: 0.32073379334333\n",
            " Batch 14000 | Loss: 0.3166891499254416\n",
            " Batch 15000 | Loss: 0.3290509850471426\n",
            "LOSS train 0.3290509850471426 | valid: 0.34634771943092346\n",
            "EPOCH: 4\n",
            " Batch 1000 | Loss: 0.3149891384478251\n",
            " Batch 2000 | Loss: 0.29068007103886384\n",
            " Batch 3000 | Loss: 0.2813695177410482\n",
            " Batch 4000 | Loss: 0.3173553416520736\n",
            " Batch 5000 | Loss: 0.2982783965052804\n",
            " Batch 6000 | Loss: 0.31100574785935714\n",
            " Batch 7000 | Loss: 0.2998503201607018\n",
            " Batch 8000 | Loss: 0.2972440680736763\n",
            " Batch 9000 | Loss: 0.3062436990353017\n",
            " Batch 10000 | Loss: 0.2946489991768321\n",
            " Batch 11000 | Loss: 0.30604351752291403\n",
            " Batch 12000 | Loss: 0.28744923849531917\n",
            " Batch 13000 | Loss: 0.28954303692754185\n",
            " Batch 14000 | Loss: 0.2856231758062495\n",
            " Batch 15000 | Loss: 0.2934723401251831\n",
            "LOSS train 0.2934723401251831 | valid: 0.3256673812866211\n",
            "EPOCH: 5\n",
            " Batch 1000 | Loss: 0.2753879572272126\n",
            " Batch 2000 | Loss: 0.28809454928820194\n",
            " Batch 3000 | Loss: 0.28372241899539224\n",
            " Batch 4000 | Loss: 0.27230459116748534\n",
            " Batch 5000 | Loss: 0.29161902536939305\n",
            " Batch 6000 | Loss: 0.2652373347202883\n",
            " Batch 7000 | Loss: 0.2657579893119364\n",
            " Batch 8000 | Loss: 0.2978963730534742\n",
            " Batch 9000 | Loss: 0.2709011787661875\n",
            " Batch 10000 | Loss: 0.2825320183834483\n",
            " Batch 11000 | Loss: 0.28739942337144747\n",
            " Batch 12000 | Loss: 0.2801504018845735\n",
            " Batch 13000 | Loss: 0.2763326338741663\n",
            " Batch 14000 | Loss: 0.2848514487763941\n",
            " Batch 15000 | Loss: 0.26825555233819975\n",
            "LOSS train 0.26825555233819975 | valid: 0.3133198022842407\n"
          ]
        }
      ]
    },
    {
      "cell_type": "markdown",
      "source": [
        "As always, let's visualize the data as a sanity check:"
      ],
      "metadata": {
        "id": "pXI-1jRgxsl6"
      }
    },
    {
      "cell_type": "code",
      "source": [
        "import matplotlib.pyplot as plt\n",
        "import numpy as np\n",
        "\n",
        "# Helper function for inline image display\n",
        "def matplotlib_imshow(img, one_channel=False):\n",
        "  if one_channel:\n",
        "    img = img.mean(dim=0)  # less the color channel\n",
        "  img = img / 2 + 0.5  # unnormalize\n",
        "  npimg = img.numpy()\n",
        "  if one_channel:\n",
        "    plt.imshow(npimg, cmap=\"Greys\")\n",
        "  else:\n",
        "    plt.imshow(np.tranpose(npimg, (1,2,0)))\n",
        "\n",
        "dataiter = iter(training_dataloader)\n",
        "images, labels = next(dataiter)\n",
        "\n",
        "# Build a grid from the images and show them\n",
        "img_grid = torchvision.utils.make_grid(images)\n",
        "matplotlib_imshow(img_grid, one_channel=True)\n",
        "\n",
        "print(' '.join(classes[labels[j]] for j in range(4)))"
      ],
      "metadata": {
        "colab": {
          "base_uri": "https://localhost:8080/",
          "height": 212
        },
        "id": "4GfT89JUFhgl",
        "outputId": "38a9dc51-2f98-4a63-f7ef-87a9384308a0"
      },
      "execution_count": null,
      "outputs": [
        {
          "output_type": "stream",
          "name": "stdout",
          "text": [
            "Trouser Coat Sandal Sandal\n"
          ]
        },
        {
          "output_type": "display_data",
          "data": {
            "text/plain": [
              "<Figure size 640x480 with 1 Axes>"
            ],
            "image/png": "[encoded data removed]"
          },
          "metadata": {}
        }
      ]
    },
    {
      "cell_type": "markdown",
      "source": [
        "Toload a saved version of the model:"
      ],
      "metadata": {
        "id": "6yQ6ObLdII6W"
      }
    },
    {
      "cell_type": "code",
      "source": [
        "saved_model = GarmentClassifier()\n",
        "saved_model.state_dict(torch.load(model_path))"
      ],
      "metadata": {
        "colab": {
          "base_uri": "https://localhost:8080/"
        },
        "id": "d2D7niMyIkLw",
        "outputId": "f21b31d2-8bad-4c82-8a8b-523f236c090b"
      },
      "execution_count": null,
      "outputs": [
        {
          "output_type": "stream",
          "name": "stderr",
          "text": [
            "<ipython-input-18-36f90c080f5f>:2: FutureWarning: Positional args are being deprecated, use kwargs instead. Refer to https://pytorch.org/docs/main/generated/torch.nn.Module.html#torch.nn.Module.state_dict for details.\n",
            "  saved_model.state_dict(torch.load(model_path))\n"
          ]
        },
        {
          "output_type": "execute_result",
          "data": {
            "text/plain": [
              "OrderedDict([('conv1.weight',\n",
              "              tensor([[[[ 0.0127,  0.0763, -0.1238, -0.0374, -0.0447],\n",
              "                        [-0.0881,  0.1750,  0.1158,  0.1528, -0.1404],\n",
              "                        [ 0.1777, -0.1486, -0.1900,  0.0094, -0.0403],\n",
              "                        [-0.0427,  0.0150, -0.0553,  0.0527, -0.0295],\n",
              "                        [ 0.1168,  0.0217,  0.0441,  0.1796, -0.1982]]],\n",
              "              \n",
              "              \n",
              "                      [[[ 0.1816,  0.1895,  0.1782,  0.1311,  0.0604],\n",
              "                        [ 0.0948,  0.1949, -0.1013, -0.1404, -0.1491],\n",
              "                        [-0.0835,  0.1856, -0.1179,  0.1970,  0.1638],\n",
              "                        [-0.0363, -0.0230, -0.1870, -0.1822,  0.1267],\n",
              "                        [ 0.1142,  0.0481, -0.0018,  0.0493,  0.0620]]],\n",
              "              \n",
              "              \n",
              "                      [[[ 0.0185, -0.1802, -0.1275,  0.0772,  0.0513],\n",
              "                        [ 0.1041,  0.1925,  0.0580, -0.1581,  0.1476],\n",
              "                        [ 0.1258, -0.0786,  0.0178, -0.1261, -0.0629],\n",
              "                        [-0.1456, -0.0460, -0.1599,  0.0195,  0.1546],\n",
              "                        [ 0.1772,  0.0443,  0.1226, -0.1272, -0.0764]]],\n",
              "              \n",
              "              \n",
              "                      [[[ 0.0719, -0.1998,  0.0113,  0.1305,  0.0263],\n",
              "                        [-0.0439, -0.0863, -0.0112, -0.1732, -0.1340],\n",
              "                        [ 0.1644, -0.0561,  0.1863, -0.1007, -0.1807],\n",
              "                        [ 0.0272,  0.0833,  0.1279, -0.1485,  0.1175],\n",
              "                        [-0.0532, -0.0870,  0.1539,  0.1787,  0.1493]]],\n",
              "              \n",
              "              \n",
              "                      [[[-0.0366,  0.1713,  0.1856,  0.1951,  0.1504],\n",
              "                        [-0.0846, -0.0899,  0.1392,  0.0259, -0.0996],\n",
              "                        [ 0.1748,  0.0449, -0.0903, -0.0983,  0.0159],\n",
              "                        [-0.1456, -0.0072,  0.1060,  0.0116, -0.1667],\n",
              "                        [ 0.0575,  0.0911,  0.0101,  0.0507, -0.0568]]],\n",
              "              \n",
              "              \n",
              "                      [[[ 0.1165, -0.0629,  0.0052,  0.1947,  0.0321],\n",
              "                        [ 0.1655, -0.0200, -0.0237, -0.0284,  0.1123],\n",
              "                        [-0.0626, -0.1711,  0.0532, -0.0401, -0.0316],\n",
              "                        [-0.1176,  0.1550, -0.0622, -0.0707,  0.0114],\n",
              "                        [-0.1597,  0.1537,  0.0423,  0.1332,  0.0858]]]])),\n",
              "             ('conv1.bias',\n",
              "              tensor([-0.1080, -0.1799, -0.0692, -0.0233,  0.1553,  0.0431])),\n",
              "             ('conv2.weight',\n",
              "              tensor([[[[-0.0407,  0.0277,  0.0644,  0.0651, -0.0417],\n",
              "                        [-0.0651, -0.0460,  0.0797, -0.0148,  0.0105],\n",
              "                        [ 0.0448, -0.0729, -0.0234,  0.0123,  0.0405],\n",
              "                        [ 0.0368, -0.0313,  0.0560, -0.0060, -0.0449],\n",
              "                        [ 0.0252,  0.0551, -0.0398, -0.0212, -0.0169]],\n",
              "              \n",
              "                       [[ 0.0411,  0.0375,  0.0248,  0.0524,  0.0339],\n",
              "                        [ 0.0529,  0.0488, -0.0637,  0.0502,  0.0128],\n",
              "                        [-0.0092,  0.0307, -0.0007, -0.0586, -0.0772],\n",
              "                        [ 0.0175, -0.0616, -0.0109, -0.0666, -0.0605],\n",
              "                        [-0.0260,  0.0474,  0.0750,  0.0572, -0.0295]],\n",
              "              \n",
              "                       [[-0.0698, -0.0131, -0.0721, -0.0433,  0.0314],\n",
              "                        [-0.0436, -0.0397, -0.0384, -0.0238, -0.0460],\n",
              "                        [-0.0658,  0.0491, -0.0359,  0.0100, -0.0253],\n",
              "                        [ 0.0087,  0.0186, -0.0666, -0.0638,  0.0711],\n",
              "                        [ 0.0567,  0.0456, -0.0214, -0.0431, -0.0033]],\n",
              "              \n",
              "                       [[-0.0673, -0.0389,  0.0540,  0.0806,  0.0419],\n",
              "                        [ 0.0244,  0.0267,  0.0269, -0.0477,  0.0470],\n",
              "                        [-0.0603, -0.0565, -0.0690,  0.0672, -0.0115],\n",
              "                        [ 0.0510, -0.0590, -0.0720, -0.0477,  0.0735],\n",
              "                        [ 0.0699,  0.0426,  0.0098, -0.0579, -0.0465]],\n",
              "              \n",
              "                       [[ 0.0442, -0.0489, -0.0061,  0.0610, -0.0813],\n",
              "                        [ 0.0026, -0.0779, -0.0641,  0.0810,  0.0807],\n",
              "                        [-0.0002,  0.0027, -0.0700, -0.0352, -0.0303],\n",
              "                        [ 0.0350,  0.0478, -0.0365,  0.0582,  0.0346],\n",
              "                        [-0.0588,  0.0174, -0.0131, -0.0230,  0.0356]],\n",
              "              \n",
              "                       [[ 0.0772, -0.0255, -0.0298,  0.0463, -0.0374],\n",
              "                        [ 0.0310,  0.0193, -0.0318,  0.0123, -0.0681],\n",
              "                        [ 0.0363, -0.0765, -0.0461,  0.0029,  0.0153],\n",
              "                        [ 0.0290,  0.0091, -0.0812,  0.0578,  0.0788],\n",
              "                        [-0.0177, -0.0784,  0.0396, -0.0514,  0.0315]]],\n",
              "              \n",
              "              \n",
              "                      [[[ 0.0253, -0.0509, -0.0648, -0.0349, -0.0337],\n",
              "                        [-0.0270,  0.0522,  0.0118, -0.0631, -0.0426],\n",
              "                        [ 0.0271,  0.0640,  0.0280, -0.0619,  0.0166],\n",
              "                        [-0.0615,  0.0764, -0.0454,  0.0164, -0.0486],\n",
              "                        [-0.0245,  0.0248, -0.0129, -0.0150, -0.0048]],\n",
              "              \n",
              "                       [[-0.0472,  0.0348,  0.0353,  0.0497,  0.0399],\n",
              "                        [ 0.0593, -0.0225, -0.0243,  0.0277,  0.0681],\n",
              "                        [-0.0449,  0.0109, -0.0229,  0.0539,  0.0212],\n",
              "                        [-0.0324,  0.0355, -0.0349,  0.0247,  0.0112],\n",
              "                        [ 0.0077,  0.0480,  0.0165, -0.0804, -0.0461]],\n",
              "              \n",
              "                       [[-0.0702, -0.0542, -0.0621, -0.0203,  0.0268],\n",
              "                        [ 0.0477,  0.0034,  0.0507,  0.0332, -0.0189],\n",
              "                        [-0.0046,  0.0359, -0.0254, -0.0716,  0.0507],\n",
              "                        [-0.0262, -0.0507,  0.0139,  0.0102,  0.0129],\n",
              "                        [-0.0437, -0.0382,  0.0111, -0.0054,  0.0369]],\n",
              "              \n",
              "                       [[-0.0134, -0.0457,  0.0316,  0.0037,  0.0424],\n",
              "                        [-0.0014,  0.0671, -0.0535,  0.0428,  0.0195],\n",
              "                        [-0.0731,  0.0124, -0.0461,  0.0738,  0.0104],\n",
              "                        [-0.0489,  0.0522, -0.0348,  0.0164,  0.0256],\n",
              "                        [ 0.0029, -0.0018, -0.0777,  0.0055,  0.0516]],\n",
              "              \n",
              "                       [[-0.0479,  0.0647, -0.0522,  0.0009, -0.0029],\n",
              "                        [-0.0363, -0.0784,  0.0378, -0.0030,  0.0111],\n",
              "                        [-0.0706,  0.0573,  0.0060,  0.0619, -0.0251],\n",
              "                        [-0.0539,  0.0137, -0.0129,  0.0250,  0.0362],\n",
              "                        [ 0.0080, -0.0126, -0.0054, -0.0669,  0.0197]],\n",
              "              \n",
              "                       [[-0.0290, -0.0025,  0.0111, -0.0667,  0.0291],\n",
              "                        [ 0.0513, -0.0698,  0.0121, -0.0789,  0.0503],\n",
              "                        [-0.0243, -0.0622,  0.0773, -0.0209,  0.0739],\n",
              "                        [ 0.0607, -0.0420,  0.0114, -0.0579, -0.0373],\n",
              "                        [-0.0058, -0.0549, -0.0042,  0.0133,  0.0373]]],\n",
              "              \n",
              "              \n",
              "                      [[[-0.0455,  0.0583,  0.0173,  0.0342, -0.0239],\n",
              "                        [-0.0450,  0.0308,  0.0144,  0.0060, -0.0750],\n",
              "                        [-0.0340,  0.0356,  0.0009,  0.0803,  0.0377],\n",
              "                        [ 0.0756, -0.0469,  0.0657,  0.0816,  0.0452],\n",
              "                        [ 0.0025, -0.0145, -0.0527,  0.0336,  0.0283]],\n",
              "              \n",
              "                       [[ 0.0180, -0.0575, -0.0774,  0.0573,  0.0479],\n",
              "                        [-0.0135, -0.0265,  0.0522, -0.0118, -0.0651],\n",
              "                        [-0.0226, -0.0599, -0.0625,  0.0623, -0.0179],\n",
              "                        [ 0.0236,  0.0578,  0.0725, -0.0045,  0.0041],\n",
              "                        [ 0.0312, -0.0325, -0.0092,  0.0619,  0.0123]],\n",
              "              \n",
              "                       [[-0.0804,  0.0274,  0.0680,  0.0538, -0.0366],\n",
              "                        [-0.0208,  0.0201,  0.0456, -0.0582,  0.0406],\n",
              "                        [ 0.0733,  0.0745, -0.0214, -0.0757, -0.0367],\n",
              "                        [-0.0072,  0.0701,  0.0012, -0.0519,  0.0797],\n",
              "                        [-0.0430,  0.0515,  0.0744, -0.0736,  0.0658]],\n",
              "              \n",
              "                       [[ 0.0450, -0.0130, -0.0436, -0.0715, -0.0694],\n",
              "                        [ 0.0687, -0.0025, -0.0648,  0.0663,  0.0186],\n",
              "                        [-0.0578, -0.0495, -0.0051, -0.0255, -0.0146],\n",
              "                        [ 0.0033,  0.0157, -0.0445,  0.0386, -0.0167],\n",
              "                        [-0.0517, -0.0455,  0.0280, -0.0301, -0.0637]],\n",
              "              \n",
              "                       [[ 0.0010,  0.0684,  0.0405,  0.0266,  0.0362],\n",
              "                        [-0.0204,  0.0775, -0.0165,  0.0166, -0.0775],\n",
              "                        [-0.0421,  0.0205, -0.0174,  0.0067, -0.0055],\n",
              "                        [ 0.0628,  0.0557, -0.0085, -0.0263, -0.0447],\n",
              "                        [-0.0225, -0.0110,  0.0291,  0.0124, -0.0742]],\n",
              "              \n",
              "                       [[-0.0596, -0.0758,  0.0508, -0.0775,  0.0017],\n",
              "                        [ 0.0290,  0.0206,  0.0692,  0.0746, -0.0545],\n",
              "                        [-0.0160,  0.0737,  0.0401,  0.0766, -0.0416],\n",
              "                        [ 0.0464, -0.0321, -0.0038,  0.0265,  0.0420],\n",
              "                        [-0.0302, -0.0538, -0.0210, -0.0263,  0.0648]]],\n",
              "              \n",
              "              \n",
              "                      ...,\n",
              "              \n",
              "              \n",
              "                      [[[ 0.0674,  0.0678, -0.0164,  0.0405,  0.0790],\n",
              "                        [ 0.0453, -0.0099,  0.0634,  0.0175, -0.0021],\n",
              "                        [ 0.0435,  0.0115,  0.0801, -0.0576,  0.0578],\n",
              "                        [-0.0426,  0.0271,  0.0086, -0.0407, -0.0027],\n",
              "                        [ 0.0336, -0.0495,  0.0411,  0.0390,  0.0226]],\n",
              "              \n",
              "                       [[ 0.0631, -0.0075, -0.0357,  0.0803,  0.0114],\n",
              "                        [ 0.0639,  0.0672, -0.0677, -0.0058, -0.0526],\n",
              "                        [ 0.0339, -0.0455, -0.0367,  0.0773, -0.0286],\n",
              "                        [ 0.0384,  0.0344,  0.0602, -0.0073,  0.0778],\n",
              "                        [ 0.0040, -0.0281,  0.0572, -0.0716,  0.0537]],\n",
              "              \n",
              "                       [[-0.0165, -0.0054, -0.0221,  0.0373, -0.0104],\n",
              "                        [-0.0292, -0.0071,  0.0585,  0.0223, -0.0780],\n",
              "                        [-0.0667,  0.0210,  0.0793,  0.0502, -0.0687],\n",
              "                        [ 0.0694, -0.0522, -0.0579,  0.0612, -0.0492],\n",
              "                        [ 0.0801, -0.0452, -0.0451,  0.0663,  0.0113]],\n",
              "              \n",
              "                       [[ 0.0739,  0.0638,  0.0692, -0.0672,  0.0155],\n",
              "                        [-0.0638,  0.0748,  0.0116, -0.0146,  0.0639],\n",
              "                        [ 0.0244,  0.0190,  0.0102,  0.0106, -0.0187],\n",
              "                        [ 0.0557, -0.0218, -0.0065,  0.0506, -0.0738],\n",
              "                        [-0.0479, -0.0507,  0.0367, -0.0067,  0.0208]],\n",
              "              \n",
              "                       [[ 0.0677, -0.0654, -0.0456,  0.0349,  0.0449],\n",
              "                        [ 0.0463, -0.0125,  0.0563,  0.0341, -0.0585],\n",
              "                        [-0.0055, -0.0227,  0.0545, -0.0110,  0.0723],\n",
              "                        [-0.0021,  0.0122,  0.0268,  0.0038,  0.0351],\n",
              "                        [-0.0040,  0.0703, -0.0062, -0.0268, -0.0340]],\n",
              "              \n",
              "                       [[-0.0321, -0.0374,  0.0455,  0.0077, -0.0455],\n",
              "                        [ 0.0171, -0.0654, -0.0516,  0.0145, -0.0546],\n",
              "                        [ 0.0526, -0.0791,  0.0618, -0.0103,  0.0395],\n",
              "                        [-0.0740,  0.0441,  0.0295,  0.0052,  0.0598],\n",
              "                        [ 0.0009,  0.0271, -0.0175, -0.0045,  0.0188]]],\n",
              "              \n",
              "              \n",
              "                      [[[ 0.0623, -0.0303, -0.0472,  0.0621, -0.0729],\n",
              "                        [-0.0307, -0.0225,  0.0691, -0.0328, -0.0088],\n",
              "                        [-0.0182, -0.0362, -0.0448,  0.0266,  0.0227],\n",
              "                        [-0.0630,  0.0454,  0.0200,  0.0472, -0.0641],\n",
              "                        [-0.0375, -0.0247, -0.0605, -0.0354, -0.0337]],\n",
              "              \n",
              "                       [[-0.0378, -0.0132,  0.0659, -0.0033,  0.0044],\n",
              "                        [-0.0332, -0.0425,  0.0468,  0.0706,  0.0262],\n",
              "                        [ 0.0391,  0.0516,  0.0490, -0.0230,  0.0613],\n",
              "                        [-0.0568, -0.0420, -0.0231, -0.0520,  0.0447],\n",
              "                        [-0.0426,  0.0046,  0.0132,  0.0013,  0.0016]],\n",
              "              \n",
              "                       [[-0.0716,  0.0388,  0.0742, -0.0225, -0.0701],\n",
              "                        [ 0.0655,  0.0399, -0.0192, -0.0326, -0.0258],\n",
              "                        [-0.0497, -0.0530,  0.0815,  0.0392,  0.0173],\n",
              "                        [ 0.0234,  0.0540, -0.0221, -0.0206,  0.0586],\n",
              "                        [ 0.0680,  0.0056, -0.0308,  0.0207, -0.0073]],\n",
              "              \n",
              "                       [[-0.0619,  0.0486, -0.0017,  0.0732,  0.0287],\n",
              "                        [-0.0117,  0.0168,  0.0111,  0.0116, -0.0015],\n",
              "                        [ 0.0510, -0.0433,  0.0803,  0.0607,  0.0064],\n",
              "                        [ 0.0538,  0.0188, -0.0415, -0.0455,  0.0117],\n",
              "                        [ 0.0594, -0.0556,  0.0711, -0.0769, -0.0698]],\n",
              "              \n",
              "                       [[-0.0246,  0.0353,  0.0558, -0.0434, -0.0203],\n",
              "                        [-0.0488,  0.0142, -0.0534,  0.0088, -0.0172],\n",
              "                        [ 0.0372,  0.0201, -0.0373,  0.0344,  0.0533],\n",
              "                        [-0.0239, -0.0140,  0.0727,  0.0512,  0.0762],\n",
              "                        [-0.0592,  0.0644,  0.0210, -0.0715,  0.0710]],\n",
              "              \n",
              "                       [[ 0.0534,  0.0537,  0.0757, -0.0704,  0.0182],\n",
              "                        [-0.0477,  0.0020, -0.0611, -0.0105,  0.0159],\n",
              "                        [ 0.0080,  0.0363,  0.0282,  0.0032,  0.0530],\n",
              "                        [-0.0104, -0.0064,  0.0415,  0.0169,  0.0110],\n",
              "                        [ 0.0050, -0.0731, -0.0091,  0.0222,  0.0039]]],\n",
              "              \n",
              "              \n",
              "                      [[[-0.0338, -0.0726, -0.0433,  0.0159, -0.0651],\n",
              "                        [ 0.0570,  0.0243,  0.0489, -0.0096,  0.0237],\n",
              "                        [-0.0024, -0.0752, -0.0745, -0.0262, -0.0283],\n",
              "                        [ 0.0689, -0.0459,  0.0332, -0.0763,  0.0308],\n",
              "                        [-0.0784,  0.0315, -0.0737, -0.0232,  0.0505]],\n",
              "              \n",
              "                       [[-0.0744,  0.0189, -0.0136,  0.0316,  0.0433],\n",
              "                        [-0.0632, -0.0038,  0.0483, -0.0380,  0.0092],\n",
              "                        [ 0.0790,  0.0120,  0.0648,  0.0050,  0.0251],\n",
              "                        [ 0.0654, -0.0533,  0.0196,  0.0614, -0.0199],\n",
              "                        [-0.0116, -0.0762,  0.0391,  0.0090,  0.0574]],\n",
              "              \n",
              "                       [[-0.0620, -0.0812,  0.0137,  0.0009, -0.0558],\n",
              "                        [-0.0574, -0.0119,  0.0728,  0.0079, -0.0431],\n",
              "                        [ 0.0395, -0.0262, -0.0073,  0.0698, -0.0028],\n",
              "                        [ 0.0675, -0.0490,  0.0012, -0.0133,  0.0614],\n",
              "                        [-0.0757, -0.0077,  0.0231, -0.0812,  0.0244]],\n",
              "              \n",
              "                       [[ 0.0735, -0.0122, -0.0228, -0.0281,  0.0662],\n",
              "                        [-0.0812,  0.0807, -0.0441,  0.0111, -0.0032],\n",
              "                        [-0.0026,  0.0216,  0.0250, -0.0234, -0.0569],\n",
              "                        [-0.0244, -0.0804,  0.0466, -0.0357, -0.0470],\n",
              "                        [-0.0634,  0.0128,  0.0588,  0.0142,  0.0644]],\n",
              "              \n",
              "                       [[-0.0315,  0.0324,  0.0785, -0.0560, -0.0795],\n",
              "                        [ 0.0149, -0.0079,  0.0630, -0.0545, -0.0698],\n",
              "                        [-0.0486, -0.0216,  0.0059, -0.0134,  0.0264],\n",
              "                        [ 0.0517, -0.0791, -0.0538, -0.0816,  0.0113],\n",
              "                        [ 0.0366,  0.0733, -0.0225,  0.0410, -0.0547]],\n",
              "              \n",
              "                       [[-0.0684, -0.0440,  0.0239, -0.0070, -0.0560],\n",
              "                        [ 0.0030,  0.0354,  0.0287,  0.0343, -0.0399],\n",
              "                        [-0.0747,  0.0181,  0.0105,  0.0386, -0.0076],\n",
              "                        [-0.0473,  0.0485, -0.0680,  0.0008,  0.0148],\n",
              "                        [-0.0649,  0.0626,  0.0740,  0.0780, -0.0766]]]])),\n",
              "             ('conv2.bias',\n",
              "              tensor([-0.0570,  0.0250, -0.0554, -0.0558, -0.0222,  0.0532, -0.0268,  0.0203,\n",
              "                      -0.0178, -0.0398, -0.0717,  0.0248,  0.0451,  0.0499,  0.0671, -0.0663])),\n",
              "             ('fc1.weight',\n",
              "              tensor([[-0.0382, -0.0160, -0.0067,  ...,  0.0321,  0.0482,  0.0115],\n",
              "                      [ 0.0073, -0.0198,  0.0191,  ..., -0.0391,  0.0082, -0.0500],\n",
              "                      [-0.0321, -0.0405, -0.0266,  ..., -0.0393, -0.0411,  0.0013],\n",
              "                      ...,\n",
              "                      [ 0.0008, -0.0399, -0.0139,  ..., -0.0604,  0.0024,  0.0345],\n",
              "                      [ 0.0303, -0.0437, -0.0275,  ...,  0.0516,  0.0591, -0.0468],\n",
              "                      [-0.0265,  0.0170, -0.0387,  ..., -0.0209,  0.0140, -0.0071]])),\n",
              "             ('fc1.bias',\n",
              "              tensor([-0.0225,  0.0566, -0.0016,  0.0358, -0.0146,  0.0026,  0.0488, -0.0282,\n",
              "                       0.0084,  0.0296,  0.0215,  0.0252,  0.0472,  0.0212,  0.0257, -0.0156,\n",
              "                       0.0615, -0.0542,  0.0239, -0.0285,  0.0581, -0.0520, -0.0466, -0.0468,\n",
              "                      -0.0409,  0.0084,  0.0415,  0.0569, -0.0425, -0.0475,  0.0089,  0.0505,\n",
              "                      -0.0259, -0.0205,  0.0159,  0.0404,  0.0283,  0.0579,  0.0619, -0.0602,\n",
              "                      -0.0289, -0.0339, -0.0048, -0.0441,  0.0316, -0.0310,  0.0599, -0.0133,\n",
              "                      -0.0464, -0.0172,  0.0510, -0.0601,  0.0245, -0.0040, -0.0129,  0.0033,\n",
              "                      -0.0447, -0.0497,  0.0067, -0.0023, -0.0268,  0.0023, -0.0147, -0.0334,\n",
              "                       0.0255, -0.0102, -0.0497, -0.0384, -0.0490,  0.0595, -0.0036,  0.0269,\n",
              "                      -0.0361,  0.0329,  0.0053,  0.0083, -0.0397,  0.0347, -0.0345, -0.0445,\n",
              "                       0.0451, -0.0403, -0.0041,  0.0010, -0.0212, -0.0120, -0.0160, -0.0091,\n",
              "                       0.0436, -0.0484,  0.0596,  0.0580, -0.0504, -0.0120, -0.0446,  0.0267,\n",
              "                       0.0095, -0.0457, -0.0479, -0.0113, -0.0426,  0.0572,  0.0413,  0.0045,\n",
              "                      -0.0376, -0.0380, -0.0225, -0.0563,  0.0080, -0.0161, -0.0280,  0.0422,\n",
              "                       0.0605,  0.0153,  0.0024, -0.0407, -0.0420, -0.0222,  0.0289,  0.0379])),\n",
              "             ('fc2.weight',\n",
              "              tensor([[-0.0035, -0.0478,  0.0304,  ...,  0.0691, -0.0428,  0.0063],\n",
              "                      [ 0.0482,  0.0498, -0.0546,  ..., -0.0805,  0.0237,  0.0047],\n",
              "                      [ 0.0505,  0.0722, -0.0534,  ...,  0.0168, -0.0908, -0.0417],\n",
              "                      ...,\n",
              "                      [ 0.0300, -0.0179,  0.0005,  ...,  0.0279, -0.0049,  0.0615],\n",
              "                      [-0.0709,  0.0441,  0.0758,  ...,  0.0160,  0.0591,  0.0073],\n",
              "                      [-0.0483,  0.0310,  0.0070,  ..., -0.0409, -0.0701,  0.0109]])),\n",
              "             ('fc2.bias',\n",
              "              tensor([ 0.0061, -0.0831, -0.0685,  0.0877, -0.0369, -0.0571,  0.0852, -0.0512,\n",
              "                       0.0275,  0.0745, -0.0181,  0.0084,  0.0540,  0.0496,  0.0872,  0.0721,\n",
              "                       0.0710, -0.0425,  0.0253,  0.0730, -0.0425,  0.0419,  0.0185,  0.0503,\n",
              "                       0.0815,  0.0891,  0.0456, -0.0026, -0.0417,  0.0106, -0.0209,  0.0291,\n",
              "                       0.0415, -0.0143,  0.0061,  0.0761, -0.0353,  0.0190, -0.0628,  0.0804,\n",
              "                      -0.0045,  0.0658, -0.0581,  0.0222, -0.0469, -0.0909,  0.0355, -0.0043,\n",
              "                      -0.0319,  0.0678, -0.0629, -0.0186, -0.0554, -0.0093, -0.0766,  0.0340,\n",
              "                      -0.0443, -0.0718, -0.0811, -0.0323,  0.0887,  0.0153,  0.0420,  0.0184,\n",
              "                       0.0868, -0.0504,  0.0627, -0.0018, -0.0547,  0.0605, -0.0656,  0.0499,\n",
              "                       0.0250,  0.0910,  0.0310,  0.0844, -0.0468, -0.0513,  0.0851,  0.0084,\n",
              "                       0.0114,  0.0873,  0.0411,  0.0909])),\n",
              "             ('fc3.weight',\n",
              "              tensor([[ 0.0672, -0.0950,  0.0262, -0.0188,  0.0279,  0.0433, -0.0816,  0.1008,\n",
              "                       -0.0654, -0.1047, -0.0359, -0.0303,  0.0351, -0.0301,  0.1024,  0.0437,\n",
              "                       -0.0298,  0.0056,  0.0807,  0.0864, -0.0371, -0.0912, -0.0900, -0.0784,\n",
              "                       -0.0150, -0.0554, -0.0437,  0.0105,  0.0131, -0.0001,  0.0668,  0.0268,\n",
              "                       -0.0249, -0.0177,  0.1033, -0.0836,  0.0509, -0.0253,  0.0278,  0.0352,\n",
              "                        0.0895,  0.0948, -0.0813,  0.0380,  0.0456,  0.0524, -0.0497, -0.0194,\n",
              "                        0.0218,  0.0187,  0.1041, -0.0211, -0.0632, -0.1039,  0.1021, -0.0575,\n",
              "                       -0.0006, -0.0800, -0.0598,  0.0844, -0.0691, -0.0352, -0.0517,  0.0186,\n",
              "                       -0.0477, -0.0513, -0.0540,  0.0031, -0.0961,  0.0972,  0.0019, -0.0639,\n",
              "                       -0.0656,  0.0279, -0.0480, -0.0868,  0.1061,  0.0332, -0.0569,  0.0743,\n",
              "                        0.0531,  0.0391,  0.0722,  0.0495],\n",
              "                      [-0.0315, -0.0684,  0.0922,  0.0418,  0.0501, -0.0487,  0.0081,  0.0266,\n",
              "                       -0.0737,  0.0584, -0.0415,  0.0725, -0.0092,  0.0476, -0.0608, -0.0458,\n",
              "                       -0.0120,  0.0842, -0.0364, -0.0422,  0.0941, -0.0352, -0.0373,  0.0407,\n",
              "                        0.1075,  0.0533,  0.0976, -0.0739, -0.0135, -0.0959, -0.1022,  0.0703,\n",
              "                       -0.0369, -0.0446, -0.0732,  0.0701, -0.0155, -0.0269, -0.0188,  0.0294,\n",
              "                       -0.0460,  0.0099, -0.0651, -0.0533, -0.0902, -0.0758,  0.0810, -0.0059,\n",
              "                       -0.1005,  0.1018,  0.0875, -0.0534, -0.0626,  0.0729,  0.0428, -0.0315,\n",
              "                        0.0618,  0.0205, -0.0856,  0.0589, -0.0539,  0.0747, -0.0508, -0.0876,\n",
              "                       -0.0113,  0.0864, -0.0863, -0.0668, -0.0614,  0.0397, -0.0348,  0.1015,\n",
              "                       -0.1011,  0.0178, -0.0254,  0.0936, -0.0648, -0.0477, -0.0561,  0.0597,\n",
              "                       -0.0062, -0.0037, -0.1042, -0.1018],\n",
              "                      [ 0.0164,  0.0276, -0.0978,  0.1085,  0.0809,  0.1049,  0.0187,  0.0552,\n",
              "                       -0.0121,  0.0560, -0.0667, -0.0728, -0.1084, -0.0534, -0.0936, -0.0341,\n",
              "                       -0.0015, -0.0256,  0.0120,  0.0471, -0.0843,  0.0495,  0.0434, -0.0922,\n",
              "                       -0.0423, -0.0149,  0.0305,  0.0931,  0.0031, -0.0176,  0.0315,  0.0844,\n",
              "                        0.0406,  0.0405, -0.0790, -0.0676, -0.0200, -0.0280,  0.0154, -0.0072,\n",
              "                        0.0407, -0.0306, -0.0866, -0.0591, -0.1086,  0.0438,  0.0601, -0.1057,\n",
              "                       -0.0434, -0.0696, -0.0683, -0.0502,  0.0688,  0.0588, -0.0028, -0.0389,\n",
              "                       -0.0784,  0.0480, -0.0898,  0.0205,  0.1077,  0.1085, -0.0233,  0.0708,\n",
              "                        0.0139, -0.0983, -0.0378,  0.0840,  0.0060, -0.0154, -0.0119, -0.0273,\n",
              "                       -0.0856,  0.1064, -0.0498,  0.0466,  0.0918, -0.0867,  0.0088,  0.0744,\n",
              "                        0.0821, -0.0770, -0.0904, -0.0765],\n",
              "                      [-0.0926,  0.0531, -0.0860, -0.0396,  0.0029, -0.1062, -0.0532, -0.0833,\n",
              "                       -0.0615, -0.0127, -0.0409, -0.1082, -0.0173, -0.0922,  0.0021, -0.0966,\n",
              "                        0.1055, -0.1047,  0.0995,  0.0395,  0.0289, -0.1017, -0.0634,  0.0422,\n",
              "                        0.0631, -0.0162, -0.0929,  0.0856,  0.0018,  0.0542, -0.0980, -0.0108,\n",
              "                        0.0506, -0.0058, -0.0645,  0.0380, -0.0152,  0.0556, -0.0797, -0.0655,\n",
              "                        0.0962, -0.0502, -0.0529, -0.0759, -0.0602, -0.0392,  0.1075,  0.0333,\n",
              "                        0.0041,  0.0132, -0.0015, -0.0943,  0.0942, -0.0862, -0.0523, -0.0994,\n",
              "                        0.0781, -0.0676,  0.1088,  0.1082,  0.0415, -0.0005, -0.0177,  0.0957,\n",
              "                       -0.0247, -0.0352, -0.1063, -0.0171, -0.0129,  0.0396,  0.0512,  0.0940,\n",
              "                       -0.0419,  0.0641,  0.1034,  0.0890,  0.0019,  0.0388, -0.0813,  0.0478,\n",
              "                       -0.0512,  0.0932,  0.0122,  0.0734],\n",
              "                      [ 0.1003, -0.0333,  0.0971,  0.0414, -0.0561, -0.0205, -0.0818, -0.0870,\n",
              "                       -0.0251, -0.0841, -0.0487, -0.0429,  0.0431,  0.0679, -0.0491,  0.0157,\n",
              "                        0.0780,  0.0577,  0.0575,  0.0690,  0.0894, -0.1057, -0.0221, -0.0469,\n",
              "                        0.0491,  0.1034,  0.0178,  0.0990, -0.0601,  0.0377,  0.0379, -0.0806,\n",
              "                       -0.0133, -0.0930,  0.0201,  0.0027, -0.0721, -0.0199,  0.0789, -0.0836,\n",
              "                       -0.0709, -0.1052, -0.0735,  0.0131, -0.0616, -0.0888, -0.0847, -0.0816,\n",
              "                       -0.0707, -0.0554,  0.0078,  0.0790, -0.0349, -0.0517,  0.0549,  0.0425,\n",
              "                       -0.0688, -0.0593,  0.1015,  0.0446,  0.0604,  0.0379, -0.0482,  0.1040,\n",
              "                       -0.0331,  0.0877,  0.0298, -0.0021, -0.0285, -0.0886,  0.0898, -0.0127,\n",
              "                        0.0592, -0.1053,  0.0608, -0.0531, -0.0999, -0.0863,  0.0314,  0.0989,\n",
              "                       -0.0837, -0.0624, -0.0100, -0.0432],\n",
              "                      [-0.0254,  0.0569,  0.0687,  0.0210, -0.0619,  0.0547,  0.0724,  0.0616,\n",
              "                        0.0502, -0.0180, -0.0750,  0.0359,  0.0142, -0.0381,  0.0899, -0.0417,\n",
              "                        0.0476, -0.0499, -0.0672, -0.0163, -0.0548,  0.0498, -0.0842,  0.0792,\n",
              "                       -0.1016, -0.1054, -0.1045, -0.0235,  0.0467, -0.0065,  0.1025, -0.0631,\n",
              "                       -0.0922,  0.1079,  0.0200, -0.0672,  0.0161,  0.1015, -0.0007,  0.0853,\n",
              "                       -0.0456,  0.0172,  0.0790,  0.0872,  0.0572, -0.0802,  0.0786,  0.0554,\n",
              "                        0.0744, -0.0135,  0.0618, -0.0036, -0.0204, -0.0140,  0.0069,  0.0467,\n",
              "                       -0.0720,  0.0333,  0.0991, -0.0243, -0.0175, -0.0086,  0.1000,  0.0919,\n",
              "                        0.0927, -0.0762,  0.0408,  0.0063, -0.0254,  0.0532, -0.0214, -0.0292,\n",
              "                        0.0865, -0.0243, -0.0328, -0.0099,  0.0036, -0.0450, -0.1050,  0.0678,\n",
              "                       -0.0363, -0.0806, -0.0572, -0.0369],\n",
              "                      [ 0.0983,  0.0779, -0.0517, -0.0834, -0.0138, -0.0815,  0.0859, -0.0611,\n",
              "                        0.0662,  0.0464, -0.0790, -0.0115,  0.0187, -0.0953,  0.0865, -0.0914,\n",
              "                        0.1064, -0.0309, -0.1048,  0.0817,  0.0198, -0.0873,  0.0354,  0.1037,\n",
              "                        0.0564,  0.0765, -0.0614,  0.0219, -0.0682, -0.0953,  0.0110,  0.0870,\n",
              "                       -0.1088, -0.0732, -0.0146,  0.0756, -0.1008,  0.0711,  0.0304,  0.0100,\n",
              "                        0.0467,  0.0417, -0.0247, -0.0287, -0.0463,  0.0519, -0.0692, -0.0948,\n",
              "                       -0.0013,  0.0265, -0.0312, -0.0061,  0.0889,  0.0174,  0.0053,  0.0111,\n",
              "                        0.0166, -0.0463,  0.0861,  0.1033,  0.0384,  0.0982,  0.0533,  0.1053,\n",
              "                        0.0449, -0.0572,  0.1016, -0.0186,  0.0120,  0.0709, -0.0276,  0.0804,\n",
              "                        0.0745, -0.0960, -0.0831,  0.0937,  0.0850,  0.0665, -0.1081, -0.0770,\n",
              "                       -0.0020,  0.0932,  0.0009, -0.0001],\n",
              "                      [-0.1022,  0.0811, -0.0478, -0.0504,  0.0599,  0.0447, -0.0285,  0.0708,\n",
              "                        0.0444,  0.0914, -0.0302,  0.0148, -0.0174,  0.0567, -0.0599, -0.0431,\n",
              "                        0.1005,  0.0554,  0.0850,  0.0613, -0.0691, -0.0412,  0.0968,  0.0145,\n",
              "                        0.0460,  0.0510, -0.0084, -0.1010, -0.0628,  0.0959,  0.0853, -0.0558,\n",
              "                        0.0474,  0.0363, -0.0784, -0.0315, -0.0814, -0.0947,  0.0745, -0.0663,\n",
              "                       -0.0521,  0.0994, -0.0559, -0.0442, -0.0296,  0.1083, -0.0250,  0.0538,\n",
              "                       -0.0508,  0.0381, -0.0245,  0.0293, -0.0040,  0.0474,  0.0698,  0.0689,\n",
              "                       -0.0493, -0.0246,  0.0439,  0.0598,  0.0761,  0.0745,  0.0224, -0.0141,\n",
              "                        0.0249,  0.0227,  0.0270,  0.0795,  0.0989,  0.0846,  0.0898, -0.0070,\n",
              "                        0.0286,  0.0400, -0.0314, -0.0128, -0.0676,  0.0679, -0.0375, -0.0691,\n",
              "                       -0.0228, -0.0959,  0.0113, -0.0235],\n",
              "                      [ 0.0872,  0.0540,  0.0226,  0.0836,  0.0930,  0.0681,  0.0400, -0.0686,\n",
              "                       -0.0683, -0.0529, -0.0903, -0.0574,  0.0503,  0.0565,  0.0893, -0.1062,\n",
              "                        0.0045, -0.0224,  0.0067,  0.0511, -0.0310,  0.0725,  0.0449,  0.0199,\n",
              "                        0.0335,  0.0985, -0.0362, -0.0668,  0.0478,  0.1041,  0.0734, -0.0789,\n",
              "                       -0.0910,  0.0270, -0.1010,  0.0064, -0.0505,  0.0493,  0.0340, -0.0734,\n",
              "                       -0.0364,  0.0467,  0.0740,  0.1027, -0.1061,  0.0405, -0.1086,  0.0979,\n",
              "                       -0.0701,  0.0588,  0.0203, -0.0656,  0.0430,  0.0536,  0.0205,  0.0881,\n",
              "                       -0.0629, -0.0110, -0.0026, -0.0365,  0.1054,  0.0878, -0.0944, -0.0021,\n",
              "                        0.1002,  0.0293,  0.0785,  0.0714, -0.0940,  0.0636, -0.0352,  0.0261,\n",
              "                        0.0233, -0.0749,  0.0913, -0.0994, -0.0381,  0.0284,  0.0644, -0.0056,\n",
              "                       -0.0144,  0.0991, -0.0555,  0.0956],\n",
              "                      [-0.1084, -0.0356,  0.0006, -0.0389, -0.0431,  0.0548, -0.0309,  0.0229,\n",
              "                       -0.0812,  0.0667,  0.0913,  0.0999,  0.0663, -0.0297, -0.0243,  0.1074,\n",
              "                        0.1046, -0.0231, -0.0985,  0.0511, -0.0122, -0.0709,  0.0557, -0.0858,\n",
              "                       -0.1090, -0.0015,  0.0908, -0.0844,  0.0259, -0.0067, -0.0233,  0.0100,\n",
              "                        0.0266,  0.0776, -0.0526,  0.0141,  0.0425, -0.1064, -0.0915, -0.0341,\n",
              "                       -0.0569,  0.0949, -0.0435, -0.0614,  0.0102, -0.0155,  0.0380,  0.0639,\n",
              "                       -0.0913, -0.0100,  0.1060, -0.0672, -0.0282, -0.0098,  0.1075,  0.0450,\n",
              "                        0.0567,  0.0556, -0.0862, -0.0056,  0.0532, -0.0267,  0.0826, -0.0634,\n",
              "                        0.0168, -0.0192, -0.0789, -0.0949, -0.1067,  0.0554, -0.0598,  0.0397,\n",
              "                        0.0088, -0.0356, -0.0381,  0.0709, -0.0527, -0.0898, -0.0197,  0.0731,\n",
              "                       -0.0996,  0.0660, -0.0001,  0.0846]])),\n",
              "             ('fc3.bias',\n",
              "              tensor([ 0.0626, -0.0325, -0.1059, -0.0775, -0.0835,  0.0786, -0.0154, -0.0529,\n",
              "                      -0.0512,  0.0060]))])"
            ]
          },
          "metadata": {},
          "execution_count": 18
        }
      ]
    },
    {
      "cell_type": "code",
      "source": [],
      "metadata": {
        "id": "CdtUSWHd8thn"
      },
      "execution_count": null,
      "outputs": []
    }
  ]
}