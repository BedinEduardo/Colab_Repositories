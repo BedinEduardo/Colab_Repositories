{
  "nbformat": 4,
  "nbformat_minor": 0,
  "metadata": {
    "colab": {
      "provenance": [],
      "authorship_tag": "ABX9TyN28EXiVl4wO1m2lJFuG1V3",
      "include_colab_link": true
    },
    "kernelspec": {
      "name": "python3",
      "display_name": "Python 3"
    },
    "language_info": {
      "name": "python"
    }
  },
  "cells": [
    {
      "cell_type": "markdown",
      "metadata": {
        "id": "view-in-github",
        "colab_type": "text"
      },
      "source": [
        "<a href=\"https://colab.research.google.com/github/BedinEduardo/Colab_Repositories/blob/master/01_Exercise_PyTorch.ipynb\" target=\"_parent\"><img src=\"https://colab.research.google.com/assets/colab-badge.svg\" alt=\"Open In Colab\"/></a>"
      ]
    },
    {
      "cell_type": "markdown",
      "source": [
        "#Ercercices of PyTorch 01- ZTM\n",
        "\n",
        "\n",
        "---\n",
        "\n"
      ],
      "metadata": {
        "id": "yGxejUnMmIUb"
      }
    },
    {
      "cell_type": "markdown",
      "source": [
        "1. Create a straight line dataset using the linear regression formula (weight * X + bias)."
      ],
      "metadata": {
        "id": "q11a4BPimP9r"
      }
    },
    {
      "cell_type": "code",
      "execution_count": null,
      "metadata": {
        "id": "zrLznAbbl_vo"
      },
      "outputs": [],
      "source": [
        "#starting with the libraries\n",
        "import torch\n",
        "from torch import nn ##Neural Networks\n",
        "import matplotlib.pyplot as plt\n",
        "import numpy as np\n"
      ]
    },
    {
      "cell_type": "code",
      "source": [
        "#Building the linear regression\n",
        "weights = 0.3  #initial value\n",
        "bias = 0.9  #initial value\n",
        "\n",
        "#building the NN\n",
        "start = 0\n",
        "end = 3\n",
        "step = 0.01\n",
        "#defining the dataset\n",
        "X = torch.arange(start, end, step).unsqueeze(dim=1)\n",
        "#print(f\"X: {X}\")\n",
        "y = weights * X + bias\n",
        "print(\"\\n\")\n",
        "#print(f\"y: {y}\")"
      ],
      "metadata": {
        "colab": {
          "base_uri": "https://localhost:8080/"
        },
        "id": "KON_LLqBoRNM",
        "outputId": "fb77d05c-3cf9-4197-9e09-be2fb32ddf5e"
      },
      "execution_count": null,
      "outputs": [
        {
          "output_type": "stream",
          "name": "stdout",
          "text": [
            "\n",
            "\n"
          ]
        }
      ]
    },
    {
      "cell_type": "code",
      "source": [
        "#spliting the data\n",
        "training_split = int(0.8 * len(X))   #setting the plit for training\n",
        "\n",
        "X_train, y_train = X[:training_split], y[:training_split]\n",
        "X_test, y_test = X[training_split:], y[training_split]"
      ],
      "metadata": {
        "id": "D4bZiab3vJfq"
      },
      "execution_count": null,
      "outputs": []
    },
    {
      "cell_type": "code",
      "source": [
        "#Ploting the data\n",
        "def plot_prediction(train_data= X_train,\n",
        "                    train_label=y_train,\n",
        "                    test_data=X_test,\n",
        "                    y_data=y_test,\n",
        "                    prediction=None):\n",
        "  \"\"\"\n",
        "  Plots training data, test and compare predictions\n",
        "  \"\"\"\n",
        "  plt.figure(figsize=(11,8))\n",
        "\n",
        "  #ploting the training data - In blue\n",
        "  plt.scatter(train_data, train_label, c=\"b\", s=5, label=\"Traing data\")\n",
        "\n",
        "  #ploting the test data - In Green\n",
        "  plt.scatter(test_data, y_data, c=\"g\", s=5, label=\"Testing data\")\n",
        "\n",
        "  #Are there predictions?\n",
        "  if prediction is not None: #if function receives a prediction\n",
        "    plt.scatter(test_data, prediction, c=\"r\", s=3, label=\"Predictions\")\n",
        "\n",
        "  #show the legends\n",
        "  plt.legend(prop={\"size\":14});"
      ],
      "metadata": {
        "id": "jZHYUwUyvuZ7"
      },
      "execution_count": null,
      "outputs": []
    },
    {
      "cell_type": "markdown",
      "source": [
        "###2. Build a PyTorch model by subclassing nn.Module.\n"
      ],
      "metadata": {
        "id": "Ignt44GQmHVi"
      }
    },
    {
      "cell_type": "code",
      "source": [
        "class LinearRegressionModel(nn.Module): # <- almost everything in PyTorch is a nn.Module (think of this as neural network lego blocks)\n",
        "    def __init__(self):\n",
        "        super().__init__()\n",
        "        self.weights = nn.Parameter(torch.randn(1, # <- start with random weights (this will get adjusted as the model learns)\n",
        "                                                dtype=torch.float), # <- PyTorch loves float32 by default\n",
        "                                   requires_grad=True) # <- can we update this value with gradient descent?)\n",
        "\n",
        "        self.bias = nn.Parameter(torch.randn(1, # <- start with random bias (this will get adjusted as the model learns)\n",
        "                                            dtype=torch.float), # <- PyTorch loves float32 by default\n",
        "                                requires_grad=True) # <- can we update this value with gradient descent?))\n",
        "\n",
        "    # Forward defines the computation in the model\n",
        "    def forward(self, x: torch.Tensor) -> torch.Tensor: # <- \"x\" is the input data (e.g. training/testing features)\n",
        "        return self.weights * x + self.bias # <- this is the linear regression formula (y = m*x + b)"
      ],
      "metadata": {
        "id": "Mltml8GFzX7C"
      },
      "execution_count": null,
      "outputs": []
    },
    {
      "cell_type": "code",
      "source": [
        "#Once you've constructed the model, make an instance of it and check its state_dict().\n",
        "#set manual seed\n",
        "torch.manual_seed(42)\n",
        "\n",
        "model = LinearRegressionModel()  #say to the code and build the model\n",
        "\n",
        "#check the parameters wiht nn.module\n",
        "print(f\"parameters: {list(model.parameters())}\")"
      ],
      "metadata": {
        "colab": {
          "base_uri": "https://localhost:8080/"
        },
        "id": "5vgyi8MlzajU",
        "outputId": "a840df23-80f0-40aa-dd3a-d1a73e1ac151"
      },
      "execution_count": null,
      "outputs": [
        {
          "output_type": "stream",
          "name": "stdout",
          "text": [
            "parameters: [Parameter containing:\n",
            "tensor([0.3367], requires_grad=True), Parameter containing:\n",
            "tensor([0.1288], requires_grad=True)]\n"
          ]
        }
      ]
    },
    {
      "cell_type": "code",
      "source": [
        "model.state_dict()"
      ],
      "metadata": {
        "colab": {
          "base_uri": "https://localhost:8080/"
        },
        "id": "wuOF12DJ5wVV",
        "outputId": "89f9c1ba-41f8-487d-cb59-2bfb09987ed8"
      },
      "execution_count": null,
      "outputs": [
        {
          "output_type": "execute_result",
          "data": {
            "text/plain": [
              "OrderedDict([('weights', tensor([0.3367])), ('bias', tensor([0.1288]))])"
            ]
          },
          "metadata": {},
          "execution_count": 15
        }
      ]
    },
    {
      "cell_type": "markdown",
      "source": [
        "###Build a loss function"
      ],
      "metadata": {
        "id": "wj-qcmDX51Fl"
      }
    },
    {
      "cell_type": "code",
      "source": [
        "#set loss function\n",
        "loss_fn = nn.L1Loss()   #using a PyTorch loss function\n",
        "\n",
        "optmizer = torch.optim.SGD(params=model.parameters(),\n",
        "                           lr = 0.001)"
      ],
      "metadata": {
        "id": "rGA3dn3_54Za"
      },
      "execution_count": null,
      "outputs": []
    },
    {
      "cell_type": "code",
      "source": [
        "#training loop\n",
        "epochs = 150\n",
        "epoch_count = []\n",
        "training_loss_values = []\n",
        "test_loss_values = []  #empty to save the parameters as needed\n",
        "\n",
        "#starting the loop\n",
        "#training\n",
        "for epoch in range(epochs):  #count each epocj\n",
        "  model.train()  #setting the model to train mode\n",
        "\n",
        "  #forward pass\n",
        "  y_pred = model(X_train)\n",
        "\n",
        "  #calculate the loss\n",
        "  loss = loss_fn(y_pred, y_train)  #get the predicted value and compare with the real\n",
        "\n",
        "  #optmize zero_grad\n",
        "  optmizer.zero_grad()  #set the gradient to zero - to start nex\n",
        "\n",
        "  #perform backpropagation\n",
        "  loss.backward()  #compute the gradient and adjust the bias ad weights values\n",
        "\n",
        "  #Set the otpmizer\n",
        "  optmizer.step()  #the same of zero_grad()\n",
        "\n",
        "  #putting in model eval\n",
        "  model.eval()\n",
        "\n",
        "  with torch.inference_mode():  #setting inference mode\n",
        "    test_pred = model(X_test)   #send the test dataset\n",
        "\n",
        "    #calculate the loss\n",
        "    test_loss = loss_fn(test_pred, y_test)\n",
        "\n",
        "    #printing whats happens\n",
        "    if epoch %10 == 0:\n",
        "      epoch_count.append(epoch)\n",
        "      training_loss_values.append(loss)\n",
        "      test_loss_values.append(test_loss)\n",
        "\n",
        "      print(\"Epoch: \", epoch, \" |\", \"Loss: \", loss,\"Test: \", test_loss)\n",
        "      print(model.state_dict())\n"
      ],
      "metadata": {
        "colab": {
          "base_uri": "https://localhost:8080/"
        },
        "id": "5Rf4arQh6hDS",
        "outputId": "a305c20c-c2ae-4608-d14c-a70e7ba7cf88"
      },
      "execution_count": null,
      "outputs": [
        {
          "output_type": "stream",
          "name": "stdout",
          "text": [
            "Epoch:  0  | Loss:  tensor(0.7225, grad_fn=<MeanBackward0>) Test:  tensor(0.5711)\n",
            "OrderedDict([('weights', tensor([0.3403])), ('bias', tensor([0.1318]))])\n",
            "Epoch:  10  | Loss:  tensor(0.6982, grad_fn=<MeanBackward0>) Test:  tensor(0.5289)\n",
            "OrderedDict([('weights', tensor([0.3522])), ('bias', tensor([0.1418]))])\n",
            "Epoch:  20  | Loss:  tensor(0.6739, grad_fn=<MeanBackward0>) Test:  tensor(0.4867)\n",
            "OrderedDict([('weights', tensor([0.3642])), ('bias', tensor([0.1518]))])\n",
            "Epoch:  30  | Loss:  tensor(0.6496, grad_fn=<MeanBackward0>) Test:  tensor(0.4445)\n",
            "OrderedDict([('weights', tensor([0.3761])), ('bias', tensor([0.1618]))])\n",
            "Epoch:  40  | Loss:  tensor(0.6254, grad_fn=<MeanBackward0>) Test:  tensor(0.4023)\n",
            "OrderedDict([('weights', tensor([0.3881])), ('bias', tensor([0.1718]))])\n",
            "Epoch:  50  | Loss:  tensor(0.6011, grad_fn=<MeanBackward0>) Test:  tensor(0.3601)\n",
            "OrderedDict([('weights', tensor([0.4000])), ('bias', tensor([0.1818]))])\n",
            "Epoch:  60  | Loss:  tensor(0.5768, grad_fn=<MeanBackward0>) Test:  tensor(0.3179)\n",
            "OrderedDict([('weights', tensor([0.4120])), ('bias', tensor([0.1918]))])\n",
            "Epoch:  70  | Loss:  tensor(0.5525, grad_fn=<MeanBackward0>) Test:  tensor(0.2757)\n",
            "OrderedDict([('weights', tensor([0.4239])), ('bias', tensor([0.2018]))])\n",
            "Epoch:  80  | Loss:  tensor(0.5282, grad_fn=<MeanBackward0>) Test:  tensor(0.2335)\n",
            "OrderedDict([('weights', tensor([0.4359])), ('bias', tensor([0.2118]))])\n",
            "Epoch:  90  | Loss:  tensor(0.5040, grad_fn=<MeanBackward0>) Test:  tensor(0.1913)\n",
            "OrderedDict([('weights', tensor([0.4478])), ('bias', tensor([0.2218]))])\n",
            "Epoch:  100  | Loss:  tensor(0.4797, grad_fn=<MeanBackward0>) Test:  tensor(0.1491)\n",
            "OrderedDict([('weights', tensor([0.4598])), ('bias', tensor([0.2318]))])\n",
            "Epoch:  110  | Loss:  tensor(0.4554, grad_fn=<MeanBackward0>) Test:  tensor(0.1111)\n",
            "OrderedDict([('weights', tensor([0.4717])), ('bias', tensor([0.2418]))])\n",
            "Epoch:  120  | Loss:  tensor(0.4311, grad_fn=<MeanBackward0>) Test:  tensor(0.0870)\n",
            "OrderedDict([('weights', tensor([0.4837])), ('bias', tensor([0.2518]))])\n",
            "Epoch:  130  | Loss:  tensor(0.4068, grad_fn=<MeanBackward0>) Test:  tensor(0.0760)\n",
            "OrderedDict([('weights', tensor([0.4956])), ('bias', tensor([0.2618]))])\n",
            "Epoch:  140  | Loss:  tensor(0.3826, grad_fn=<MeanBackward0>) Test:  tensor(0.0774)\n",
            "OrderedDict([('weights', tensor([0.5076])), ('bias', tensor([0.2718]))])\n"
          ]
        }
      ]
    },
    {
      "cell_type": "markdown",
      "source": [
        "###Make predictions with the trained model on the test data.\n"
      ],
      "metadata": {
        "id": "HSSFTDLb6cmA"
      }
    },
    {
      "cell_type": "code",
      "source": [
        "#prediticison\n",
        "model.state_dict()"
      ],
      "metadata": {
        "colab": {
          "base_uri": "https://localhost:8080/"
        },
        "id": "KhY5xMlV6djP",
        "outputId": "bdabbad5-f075-49d3-8832-19bfe5562b36"
      },
      "execution_count": null,
      "outputs": [
        {
          "output_type": "execute_result",
          "data": {
            "text/plain": [
              "OrderedDict([('weights', tensor([0.5183])), ('bias', tensor([0.2808]))])"
            ]
          },
          "metadata": {},
          "execution_count": 23
        }
      ]
    },
    {
      "cell_type": "code",
      "source": [
        "#Making some predictions\n",
        "with torch.inference_mode():  #inference mode\n",
        "  y_pred_new = model(X_test)"
      ],
      "metadata": {
        "id": "muJ9cnPU_gS-"
      },
      "execution_count": null,
      "outputs": []
    },
    {
      "cell_type": "code",
      "source": [
        "###Plot loss curve\n",
        "plt.plot(epoch_count, np.array(torch.tensor(training_loss_values).cpu().numpy()), label = \"Training Loss\")\n",
        "#plt.plot(epoch_count, np.array(torch.tensor(test_loss_values).cpu().numpy()), label = \"Test Loss\")\n",
        "plt.plot(epoch_count, test_loss_values, label = \"Test Loss\")\n",
        "plt.title(\"training and test Loss curves\")\n",
        "plt.ylabel(\"Loss\")\n",
        "plt.xlabel(\"Epochs\")\n",
        "plt.legend();"
      ],
      "metadata": {
        "colab": {
          "base_uri": "https://localhost:8080/",
          "height": 472
        },
        "id": "Tvfd0JNA_zRn",
        "outputId": "24e2d0fd-3fca-461f-e2c3-1653dd5f5f60"
      },
      "execution_count": null,
      "outputs": [
        {
          "output_type": "display_data",
          "data": {
            "text/plain": [
              "<Figure size 640x480 with 1 Axes>"
            ],
            "image/png": "[encoded data removed]"
          },
          "metadata": {}
        }
      ]
    },
    {
      "cell_type": "markdown",
      "source": [
        "###Save your trained model's state_dict() to file.\n"
      ],
      "metadata": {
        "id": "oqUhmkmP__aY"
      }
    },
    {
      "cell_type": "code",
      "source": [
        "#Saving Pytorch model\n",
        "from matplotlib import Path\n",
        "\n",
        "#build the model directory\n",
        "MODEL_PATH = Path(\"Model\")\n",
        "MODEL_PATH.mkdir(parents=True, exist_ok=True)  #checking and creating model\n",
        "\n",
        "#crete the model name and path\n",
        "MODEL_NAME = \"01_PyTorch_execices.pth\"\n",
        "MODEL_SAVE_PATH = MODEL_PATH / MODEL_NAME\n",
        "\n",
        "print(f\"(Model path: {MODEL_SAVE_PATH})\")\n",
        "#save the model\n",
        "torch.save(obj=model.state_dict(),\n",
        "           f=MODEL_SAVE_PATH)"
      ],
      "metadata": {
        "colab": {
          "base_uri": "https://localhost:8080/"
        },
        "id": "9j5EaOelABD0",
        "outputId": "ebc42653-9cdd-462f-955f-ebbb0dd899d4"
      },
      "execution_count": null,
      "outputs": [
        {
          "output_type": "stream",
          "name": "stdout",
          "text": [
            "(Model path: Model/01_PyTorch_execices.pth)\n"
          ]
        }
      ]
    },
    {
      "cell_type": "markdown",
      "source": [
        "###Loading a PyTorch Model"
      ],
      "metadata": {
        "id": "e8AwkD8TA0mo"
      }
    },
    {
      "cell_type": "code",
      "source": [
        "print(modeL.state_dict())\n",
        "#To load in a saved state_dict we have to instantiate a new instance of our model class\n",
        "loaded_model_0 = LinearRegressionModel()\n",
        "\n",
        "#load the saved state_sict of model 0 (this will update the new instance with updated parameters)\n",
        "\n",
        "loaded_model_0.load_state_dict(torch.load(f=MODEL_SAVE_PATH))  #ALoading the model"
      ],
      "metadata": {
        "id": "sNFLAuWIA1SX",
        "outputId": "96f08e31-81a4-43f6-a1d5-fd64e90d9a2b",
        "colab": {
          "base_uri": "https://localhost:8080/",
          "height": 211
        }
      },
      "execution_count": null,
      "outputs": [
        {
          "output_type": "error",
          "ename": "NameError",
          "evalue": "name 'modeL' is not defined",
          "traceback": [
            "\u001b[0;31m---------------------------------------------------------------------------\u001b[0m",
            "\u001b[0;31mNameError\u001b[0m                                 Traceback (most recent call last)",
            "\u001b[0;32m<ipython-input-30-d65ab11a75ca>\u001b[0m in \u001b[0;36m<cell line: 1>\u001b[0;34m()\u001b[0m\n\u001b[0;32m----> 1\u001b[0;31m \u001b[0mprint\u001b[0m\u001b[0;34m(\u001b[0m\u001b[0mmodeL\u001b[0m\u001b[0;34m.\u001b[0m\u001b[0mstate_dict\u001b[0m\u001b[0;34m(\u001b[0m\u001b[0;34m)\u001b[0m\u001b[0;34m)\u001b[0m\u001b[0;34m\u001b[0m\u001b[0;34m\u001b[0m\u001b[0m\n\u001b[0m\u001b[1;32m      2\u001b[0m \u001b[0;31m#To load in a saved state_dict we have to instantiate a new instance of our model class\u001b[0m\u001b[0;34m\u001b[0m\u001b[0;34m\u001b[0m\u001b[0m\n\u001b[1;32m      3\u001b[0m \u001b[0mloaded_model_0\u001b[0m \u001b[0;34m=\u001b[0m \u001b[0mLinearRegressionModel\u001b[0m\u001b[0;34m(\u001b[0m\u001b[0;34m)\u001b[0m\u001b[0;34m\u001b[0m\u001b[0;34m\u001b[0m\u001b[0m\n\u001b[1;32m      4\u001b[0m \u001b[0;34m\u001b[0m\u001b[0m\n\u001b[1;32m      5\u001b[0m \u001b[0;31m#load the saved state_sict of model 0 (this will update the new instance with updated parameters)\u001b[0m\u001b[0;34m\u001b[0m\u001b[0;34m\u001b[0m\u001b[0m\n",
            "\u001b[0;31mNameError\u001b[0m: name 'modeL' is not defined"
          ]
        }
      ]
    }
  ]
}